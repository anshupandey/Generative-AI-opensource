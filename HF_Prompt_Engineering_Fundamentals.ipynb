{
  "cells": [
    {
      "cell_type": "markdown",
      "metadata": {
        "id": "view-in-github",
        "colab_type": "text"
      },
      "source": [
        "<a href=\"https://colab.research.google.com/github/anshupandey/Generative-AI-opensource/blob/main/HF_Prompt_Engineering_Fundamentals.ipynb\" target=\"_parent\"><img src=\"https://colab.research.google.com/assets/colab-badge.svg\" alt=\"Open In Colab\"/></a>"
      ]
    },
    {
      "cell_type": "markdown",
      "metadata": {
        "id": "5ZBMUH466r3l"
      },
      "source": [
        "# Prompt Engineering Techniques"
      ]
    },
    {
      "cell_type": "markdown",
      "metadata": {
        "id": "ZE8b9M1Ubhwy"
      },
      "source": [
        "### Prompt Engineering\n",
        "\n",
        "Prompt engineering is the process of designing and optimizing prompts to better utilize LLMs. Designing effective prompts is critical to the success of prompt engineering, and it can significantly improve the AI model's performance on specific tasks. Providing relevant, specific, unambiguous, and well structured prompts can help the model better understand the context and generate more accurate responses.\n",
        "\n",
        "For example, if we want an Large Language model to generate product descriptions, we can provide it with a detailed description that describes the features and benefits of the product. By providing this context, the model can generate more accurate and relevant product descriptions."
      ]
    },
    {
      "cell_type": "markdown",
      "source": [
        "## Use free/community version of ChatGPT/Gemini/Microsoft Copilot to experiment with below scenarios"
      ],
      "metadata": {
        "id": "POgQaRP4YMC4"
      }
    },
    {
      "cell_type": "markdown",
      "metadata": {
        "id": "IS0UYV6Sbhwz"
      },
      "source": [
        "#### Example 1\n",
        "\n",
        "Try:\n",
        "\n",
        "    What kind of article is this?\n",
        "    ---\n",
        "    Severe drought likely in California\n",
        "\n",
        "    Millions of California residents are bracing for less water and dry lawns as drought threatens to leave a large swath of the region with a growing water shortage.\n",
        "\n",
        "    In a remarkable indication of drought severity, officials in Southern California have declared a first-of-its-kind action limiting outdoor water use to one day a week for nearly 8 million residents.\n",
        "\n",
        "    Much remains to be determined about how daily life will change as people adjust to a drier normal. But officials are warning the situation is dire and could lead to even more severe limits later in the year.\n",
        "\n",
        "\n",
        "\n",
        "Now:\n",
        "\n",
        "In the Assistant setup section change the system message to\n",
        "\n",
        "        You are a news aggregator that categorizes news articles.\n",
        "\n",
        "Under the new system message, select the Add an example button. Add the following example.\n",
        "\n",
        "\n",
        "User:\n",
        "\n",
        "\n",
        "    What kind of article is this?\n",
        "    ---\n",
        "    New York Baseballers Wins Big Against Chicago\n",
        "\n",
        "    New York Baseballers mounted a big 5-0 shutout against the Chicago Cyclones last night, solidifying their win with a 3 run homerun late in the bottom of the 7th inning.\n",
        "\n",
        "    Pitcher Mario Rogers threw 96 pitches with only two hits for New York, marking his best performance this year.\n",
        "\n",
        "    The Chicago Cyclones' two hits came in the 2nd and the 5th innings but were unable to get the runner home to score.\n",
        "\n",
        "\n",
        "Assistant:\n",
        "\n",
        "    Sports\n",
        "\n",
        "\n",
        "\n",
        "Add another example with the following text.\n",
        "\n",
        "User:\n",
        "\n",
        "    Categorize this article:\n",
        "    ---\n",
        "    Joyous moments at the Oscars\n",
        "\n",
        "    The Oscars this past week where quite something!\n",
        "\n",
        "    Though a certain scandal might have stolen the show, this year's Academy Awards were full of moments that filled us with joy and even moved us to tears.\n",
        "    These actors and actresses delivered some truly emotional performances, along with some great laughs, to get us through the winter.\n",
        "\n",
        "    From Robin Kline's history-making win to a full performance by none other than Casey Jensen herself, don't miss tomorrows rerun of all the festivities.\n",
        "\n",
        "\n",
        "Assistant:\n",
        "\n",
        "    Entertainment\n",
        "\n",
        "Use the Save changes button at the top of the Assistent setup section to update the system message.\n",
        "\n",
        "In the Chat session section, resubmit the following prompt:\n",
        "\n",
        "    What kind of article is this?\n",
        "    ---\n",
        "    Severe drought likely in California\n",
        "\n",
        "    Millions of California residents are bracing for less water and dry lawns as drought threatens to leave a large swath of the region with a growing water shortage.\n",
        "\n",
        "    In a remarkable indication of drought severity, officials in Southern California have declared a first-of-its-kind action limiting outdoor water use to one day a week for nearly 8 million residents.\n",
        "\n",
        "    Much remains to be determined about how daily life will change as people adjust to a drier normal. But officials are warning the situation is dire and could lead to even more severe limits later in the year.\n",
        "    The combination of a more specific system message and some examples of expected queries and responses results in a consistant format for the results.\n"
      ]
    },
    {
      "cell_type": "markdown",
      "metadata": {
        "id": "8zF2qmQJbhwz"
      },
      "source": [
        "#### Example 2\n",
        "\n",
        "In the Assistant setup section, change the system message back to the default template, which should be\n",
        "\n",
        "    You are an AI assistant that helps people find information. with no examples.\n",
        "    \n",
        "Then save the changes.\n",
        "\n",
        "In the Chat session section, submit the following prompt:\n",
        "\n",
        "    # 1. Create a list of animals\n",
        "    # 2. Create a list of whimsical names for those animals\n",
        "    # 3. Combine them randomly into a list of 25 animal and name pairs\n",
        "\n",
        "The model will likely respond with an answer to satisfy the prompt, split into a numbered list.\n",
        "\n",
        "\n",
        "This is an appropriate response, but suppose what you actually wanted was for the model to write a Python program that performs the tasks you described?\n",
        "\n",
        "Change the system message to\n",
        "    \n",
        "    You are a coding assistant helping write python code. and click Save changes\n",
        "\n",
        "Resubmit the following prompt to the model:\n",
        "\n",
        "    # 1. Create a list of animals\n",
        "    # 2. Create a list of whimsical names for those animals\n",
        "    # 3. Combine them randomly into a list of 25 animal and name pairs\n",
        "The model should correctly respond with python code doing what the comments requested."
      ]
    },
    {
      "cell_type": "markdown",
      "source": [
        "## Prompt Engineering with LLMs from Hugging Face"
      ],
      "metadata": {
        "id": "4NGLgvbsYWv-"
      }
    },
    {
      "cell_type": "code",
      "execution_count": 1,
      "metadata": {
        "id": "KB85L9Fs6jMM"
      },
      "outputs": [],
      "source": [
        "!pip install transformers --quiet"
      ]
    },
    {
      "cell_type": "code",
      "source": [
        "import torch\n",
        "\n",
        "# Check if GPU is available\n",
        "if torch.cuda.is_available():\n",
        "    device = torch.device(\"cuda\")\n",
        "    print(\"GPU is available and will be used for computation.\")\n",
        "else:\n",
        "    device = torch.device(\"cpu\")\n",
        "    print(\"GPU is not available, using CPU instead.\")"
      ],
      "metadata": {
        "colab": {
          "base_uri": "https://localhost:8080/"
        },
        "id": "nw3ObXcRmRsE",
        "outputId": "c97ca119-30d7-4a83-d7c6-eb12125457ed"
      },
      "execution_count": 2,
      "outputs": [
        {
          "output_type": "stream",
          "name": "stdout",
          "text": [
            "GPU is not available, using CPU instead.\n"
          ]
        }
      ]
    },
    {
      "cell_type": "code",
      "source": [
        "# Use a pipeline as a high-level helper\n",
        "from transformers import pipeline, set_seed\n",
        "\n",
        "generator = pipeline('text-generation', model='google/gemma-2b-it',trust_remote_code=True,device=device)\n"
      ],
      "metadata": {
        "colab": {
          "base_uri": "https://localhost:8080/",
          "height": 438,
          "referenced_widgets": [
            "384fdde0bb0d4d4388b9dba2e39919ed",
            "9994c793332c47a1a9f03306d8c271b7",
            "a1d69bcb5345437b94667b60bfae2729",
            "9368236df3ad4fe1be92593415680d2d",
            "eb5fb4686a3347e28a7d9e65fe24765e",
            "a8490263cbdc411db22536d54ed08ab0",
            "b14ac89008bc42eb94f43dfbd5dfb174",
            "e3c5940f677d4b259b4bffc05569bf41",
            "629d5d3cb51341daa5a2b1b7114438d3",
            "5ee77f800e7e4d429a2e79634b8996a9",
            "2386f593aca6437b90e0891925e13070",
            "ea693e80768c4932bbb9aa7bb8873a39",
            "e6d108f79ad54fd4afac30473305f407",
            "f3f7337a4e4b4c268dab2accb77ec388",
            "a8eab5a2a0084101bf9c3772cacb5a5b",
            "47a5615497fb4c5f91bec600936d2997",
            "440135ef57e04306b97909dcc99ef30d",
            "e3bc816ec57241acbdd211cc6ed7fd39",
            "5c61fd64174a46d082a7603b89731a79",
            "c7e2802421184298848144971b5833c8",
            "ccd476b838194354b74cb0076e6e2eb6",
            "ca31f11b13de4c1c9029d33645a694e0",
            "a71d818cf0b64c34aca6ba04f44aa357",
            "856d66beb8e44243916dbf0cc700ac44",
            "2ec76de577dc48af859b431f3b6fae57",
            "2995947882414902b4639fd0b5580ba4",
            "a15eebed2f9b4697ab94a5b0688a0d7e",
            "243f2fbb417b44a18919eab46bbab5a9",
            "b7ba1d5d4c6149bdb53fc57a3c5754b9",
            "ba8945ca3de948499d6e1d46a34e4661",
            "4ce440cffb154d4f891baed8d1c28a49",
            "c93f0baa1ae34136bfce2224abe963fb",
            "2ac5ea0f04774eaabbb7d82debd25242",
            "da6f2340bfa74c1c86849769a7aa3c7c",
            "e853283a4df348839d4c0298d08b4231",
            "5ba23902970f4bf883edcf31caedf3d8",
            "b38362a44a504acb8bd69e9d1eea2354",
            "ccb8673d97054e5aab8403346e28e7d9",
            "6e4f048101194dd9af277cfb7383307f",
            "c6a80940d9ba423c9c22a30dca83bfb3",
            "2f2cb4db895c4e05b5faef222c91a812",
            "40e97a516e46432b9009340543808a69",
            "e61c215eadbb4087a0d04539b768cacd",
            "7612fb30cf7b447ab5143eca374972ec",
            "513073f140ed4bbfa3ff4becd4e983aa",
            "f18e166a35fb436982108ba05333a33a",
            "396b0ec628f94d7cbccdd122bcc2394c",
            "bc0669bab7264166a4aba234d393e78f",
            "9ead5c1df125464b801eca3afbdc5071",
            "12e04f1b871b4fa6ba27deebd7701a50",
            "7a5f1b5b2aaf44fabe368b53b67d17f1",
            "e2ea626f682847f2b92f155c020dc18d",
            "e6e33e18e1ca4824835d556792d8b3b2",
            "67fe42271bf24723890599c90453c09a",
            "8bc1c394f810495aadb27c880cf41354",
            "26f34f62a55b44b0a20072237fa3240f",
            "24ff9fe0696740dc94ad9e2b4e98cba6",
            "001066ff0ed246eeb3543a9fdfe8a50a",
            "5a5bd0442a384952a603cab18a57ed26",
            "eaa952c1bfea4b43ac25db0f942253ca",
            "ef875ce078ab46ac9868166711b0805b",
            "61317baeb33048e09a7bf7207ddecc49",
            "b33d23acaf7e429ebc41afc00e206dc6",
            "cd0eab040e4e40988a3a5ddf6946065a",
            "cd47468bdd5641cfac5bdef547805b25",
            "e438840bb471499db77fbdb3891a88d6",
            "99059fafb4d44a1e91e1e300510b584c",
            "183effc55b914603a8354370c170b1fe",
            "ee5d4d20e5234dd58016bf0b5918a8e3",
            "c856bb11182d4050bdc3d6fb7d41431e",
            "d33d3025821e41c0be67b5ed4db3617e",
            "70771de58a1540bfb462924faf762623",
            "52a9344aa8f84a338bff4b49a8fc29ba",
            "a9715ce0272d409781aefde47f3c4f69",
            "41613e04d6714cfda18d804bbe71c1bb",
            "fd7080a2c469468eb4861f5257fa6869",
            "33137f6205104d07a6f961697586181f",
            "4502637ac912404983ed8e3ac5473680",
            "891eab7f7c994fae89593f76fee011f4",
            "9dde6ee6560d471eb78a77a8db9d403e",
            "87f66fe7dada493dbc4850e1cd47eff3",
            "889a748c1158402bb964983ad14ffedb",
            "d2feeb7aeb334045861a3b534b75d2fd",
            "4820cc37fcfd483a87415db4ac67e0c2",
            "93205f454b9842c4a9c9ff369764d313",
            "188f19c13a1c48f09355b185025c523d",
            "c15d33cb2cf04c3b83ef8e7275a3d123",
            "6db8f54f9f574a2796f43a9c449e6e3a",
            "985b8b2288444ac7a0dfd3f447decb19",
            "84e9dc59b3fa4353b49f9a6c4bf3e858",
            "9d3fcba1474f404888e6554092be6633",
            "f0495a30ab824ef383d7dcbb1b83a2eb",
            "26af518219c84ad7a6922e74e626686a",
            "8cf8c66cb4e24bc4a64ec62fa577be04",
            "c433edf76cb84600a70e0137a6d827da",
            "b4b664ee7f564840abb21f26c7b730c8",
            "c7748ae00cd248d79aaf92961deaff62",
            "7abd0f08a02f4902ab2cda7be8a608cc",
            "5b45c19f939541d9847a62588d840aad",
            "ec2092ef94234c4883e39e8f44604be0",
            "d0de4e531df944b1a5c0247dd9893c2f",
            "383bd7fa04404a40b42a5131a7046801",
            "d6692995b91e4d8d9028646c41f91afe",
            "5626afbc431946559e6c2c2bb81b0f42",
            "d1e6999b3f374e0cabbd2c3b35fab8a5",
            "c236c11a8e6442a98c654ba7c62cf435",
            "596be2d2ada546f6a6592e64911af5b3",
            "5a3a7cac070240e5921c662e782b8e27",
            "a571ea396a6e4f37b9b0ce2380878057",
            "d57d3ab904244341aba2defc1b9a5c97",
            "1e9aa15c7f28423480647787bc4ce5e8",
            "aa76673ca8f74f2ea99d55eb669ca252",
            "56f1cfa06f064dfd90071f899540945d",
            "9201f0a49fc04f949a169f505ec33c5a",
            "0789ffa69dbb440eb84efcfeeaf7862f",
            "cb88bef84c3e41e9b2cf949327d95bbf",
            "d9df4d62f34049e9a217553cd6073582",
            "042da8c944804dc48d710baca6e8e932",
            "2c0031a152d3477399a524e9dc6612ef",
            "27baa7311c144bffad39532667974733",
            "94f9db533f0c4b58be21a30bf1d697b7"
          ]
        },
        "id": "_LzFp-odmAaW",
        "outputId": "e61c1931-7508-425f-d245-29d2e274dcb6"
      },
      "execution_count": 3,
      "outputs": [
        {
          "output_type": "display_data",
          "data": {
            "text/plain": [
              "config.json:   0%|          | 0.00/627 [00:00<?, ?B/s]"
            ],
            "application/vnd.jupyter.widget-view+json": {
              "version_major": 2,
              "version_minor": 0,
              "model_id": "384fdde0bb0d4d4388b9dba2e39919ed"
            }
          },
          "metadata": {}
        },
        {
          "output_type": "display_data",
          "data": {
            "text/plain": [
              "model.safetensors.index.json:   0%|          | 0.00/13.5k [00:00<?, ?B/s]"
            ],
            "application/vnd.jupyter.widget-view+json": {
              "version_major": 2,
              "version_minor": 0,
              "model_id": "ea693e80768c4932bbb9aa7bb8873a39"
            }
          },
          "metadata": {}
        },
        {
          "output_type": "display_data",
          "data": {
            "text/plain": [
              "Downloading shards:   0%|          | 0/2 [00:00<?, ?it/s]"
            ],
            "application/vnd.jupyter.widget-view+json": {
              "version_major": 2,
              "version_minor": 0,
              "model_id": "a71d818cf0b64c34aca6ba04f44aa357"
            }
          },
          "metadata": {}
        },
        {
          "output_type": "display_data",
          "data": {
            "text/plain": [
              "model-00001-of-00002.safetensors:   0%|          | 0.00/4.95G [00:00<?, ?B/s]"
            ],
            "application/vnd.jupyter.widget-view+json": {
              "version_major": 2,
              "version_minor": 0,
              "model_id": "da6f2340bfa74c1c86849769a7aa3c7c"
            }
          },
          "metadata": {}
        },
        {
          "output_type": "display_data",
          "data": {
            "text/plain": [
              "model-00002-of-00002.safetensors:   0%|          | 0.00/67.1M [00:00<?, ?B/s]"
            ],
            "application/vnd.jupyter.widget-view+json": {
              "version_major": 2,
              "version_minor": 0,
              "model_id": "513073f140ed4bbfa3ff4becd4e983aa"
            }
          },
          "metadata": {}
        },
        {
          "output_type": "stream",
          "name": "stderr",
          "text": [
            "`config.hidden_act` is ignored, you should use `config.hidden_activation` instead.\n",
            "Gemma's activation function will be set to `gelu_pytorch_tanh`. Please, use\n",
            "`config.hidden_activation` if you want to override this behaviour.\n",
            "See https://github.com/huggingface/transformers/pull/29402 for more details.\n"
          ]
        },
        {
          "output_type": "display_data",
          "data": {
            "text/plain": [
              "Loading checkpoint shards:   0%|          | 0/2 [00:00<?, ?it/s]"
            ],
            "application/vnd.jupyter.widget-view+json": {
              "version_major": 2,
              "version_minor": 0,
              "model_id": "26f34f62a55b44b0a20072237fa3240f"
            }
          },
          "metadata": {}
        },
        {
          "output_type": "display_data",
          "data": {
            "text/plain": [
              "generation_config.json:   0%|          | 0.00/137 [00:00<?, ?B/s]"
            ],
            "application/vnd.jupyter.widget-view+json": {
              "version_major": 2,
              "version_minor": 0,
              "model_id": "99059fafb4d44a1e91e1e300510b584c"
            }
          },
          "metadata": {}
        },
        {
          "output_type": "display_data",
          "data": {
            "text/plain": [
              "tokenizer_config.json:   0%|          | 0.00/34.2k [00:00<?, ?B/s]"
            ],
            "application/vnd.jupyter.widget-view+json": {
              "version_major": 2,
              "version_minor": 0,
              "model_id": "4502637ac912404983ed8e3ac5473680"
            }
          },
          "metadata": {}
        },
        {
          "output_type": "display_data",
          "data": {
            "text/plain": [
              "tokenizer.model:   0%|          | 0.00/4.24M [00:00<?, ?B/s]"
            ],
            "application/vnd.jupyter.widget-view+json": {
              "version_major": 2,
              "version_minor": 0,
              "model_id": "985b8b2288444ac7a0dfd3f447decb19"
            }
          },
          "metadata": {}
        },
        {
          "output_type": "display_data",
          "data": {
            "text/plain": [
              "tokenizer.json:   0%|          | 0.00/17.5M [00:00<?, ?B/s]"
            ],
            "application/vnd.jupyter.widget-view+json": {
              "version_major": 2,
              "version_minor": 0,
              "model_id": "ec2092ef94234c4883e39e8f44604be0"
            }
          },
          "metadata": {}
        },
        {
          "output_type": "display_data",
          "data": {
            "text/plain": [
              "special_tokens_map.json:   0%|          | 0.00/636 [00:00<?, ?B/s]"
            ],
            "application/vnd.jupyter.widget-view+json": {
              "version_major": 2,
              "version_minor": 0,
              "model_id": "1e9aa15c7f28423480647787bc4ce5e8"
            }
          },
          "metadata": {}
        }
      ]
    },
    {
      "cell_type": "code",
      "execution_count": 4,
      "metadata": {
        "id": "MTy9qlaNbhw1",
        "outputId": "568eb9fb-0bb9-48a9-b1c6-e5ce6f5b9b73",
        "colab": {
          "base_uri": "https://localhost:8080/"
        }
      },
      "outputs": [
        {
          "output_type": "stream",
          "name": "stderr",
          "text": [
            "/usr/local/lib/python3.10/dist-packages/transformers/generation/configuration_utils.py:540: UserWarning: `do_sample` is set to `False`. However, `temperature` is set to `0.9` -- this flag is only used in sample-based generation modes. You should set `do_sample=True` or unset `temperature`.\n",
            "  warnings.warn(\n"
          ]
        }
      ],
      "source": [
        "result = generator(\n",
        "    max_length=500,\n",
        "    temperature=0.9,\n",
        "    truncation=True,\n",
        "    text_inputs=[\n",
        "        {\n",
        "            \"role\": \"user\",\n",
        "            \"content\": \"How do I output all files in a directory using Python?\",\n",
        "        },\n",
        "    ],\n",
        ")"
      ]
    },
    {
      "cell_type": "code",
      "source": [
        "result"
      ],
      "metadata": {
        "colab": {
          "base_uri": "https://localhost:8080/"
        },
        "id": "DPjgo2mgoP_W",
        "outputId": "e125007b-a913-4c3d-efd6-d352b4c507d0"
      },
      "execution_count": 5,
      "outputs": [
        {
          "output_type": "execute_result",
          "data": {
            "text/plain": [
              "[{'generated_text': [{'role': 'user',\n",
              "    'content': 'How do I output all files in a directory using Python?'},\n",
              "   {'role': 'assistant',\n",
              "    'content': 'There are two main ways to output all files in a directory using Python:\\n\\n**1. Using the `os.listdir()` function:**\\n\\nThe `os.listdir()` function takes a directory path as its argument and returns a list of all the files and folders in that directory. The function returns the files in the order they are listed, and it also includes hidden files (starting with a \\'.\\') by default.\\n\\n```python\\nimport os\\n\\ndirectory_path = \"/path/to/directory\"\\n\\nfiles_and_folders = os.listdir(directory_path)\\n\\nprint(files_and_folders)\\n```\\n\\n**2. Using the `glob` module:**\\n\\nThe `glob` module provides more flexibility and control over file matching. It takes a directory path and a pattern as its arguments, and it returns a list of all the files that match the pattern. The pattern can be specified using various wildcards and other operators.\\n\\n```python\\nimport glob\\n\\ndirectory_path = \"/path/to/directory\"\\npattern = \"*.txt\"\\n\\nfiles = glob.glob(os.path.join(directory_path, pattern))\\n\\nprint(files)\\n```\\n\\n**Example:**\\n\\n```python\\n# Get all files in the current directory\\nfiles = os.listdir(\".\")\\n\\n# Print the names of the files\\nfor file in files:\\n    print(file)\\n```\\n\\n**Output:**\\n\\n```\\n[\\'file1.txt\\', \\'file2.jpg\\', \\'file3.pdf\\', \\'hidden_file.txt\\']\\n```\\n\\n**Note:**\\n\\n* The `os.listdir()` function may not work on all platforms.\\n* The `glob` module may not include hidden files by default. You can specify the `recursive` parameter to the `glob` function to include hidden files.\\n* The order of the files in the output may not be the same as the order they were created in.'}]}]"
            ]
          },
          "metadata": {},
          "execution_count": 5
        }
      ]
    },
    {
      "cell_type": "code",
      "execution_count": 6,
      "metadata": {
        "id": "fcbHv2PJbhw1",
        "outputId": "8283bdb9-166e-433a-809f-32cff412ed98",
        "colab": {
          "base_uri": "https://localhost:8080/"
        }
      },
      "outputs": [
        {
          "output_type": "stream",
          "name": "stdout",
          "text": [
            "There are two main ways to output all files in a directory using Python:\n",
            "\n",
            "**1. Using the `os.listdir()` function:**\n",
            "\n",
            "The `os.listdir()` function takes a directory path as its argument and returns a list of all the files and folders in that directory. The function returns the files in the order they are listed, and it also includes hidden files (starting with a '.') by default.\n",
            "\n",
            "```python\n",
            "import os\n",
            "\n",
            "directory_path = \"/path/to/directory\"\n",
            "\n",
            "files_and_folders = os.listdir(directory_path)\n",
            "\n",
            "print(files_and_folders)\n",
            "```\n",
            "\n",
            "**2. Using the `glob` module:**\n",
            "\n",
            "The `glob` module provides more flexibility and control over file matching. It takes a directory path and a pattern as its arguments, and it returns a list of all the files that match the pattern. The pattern can be specified using various wildcards and other operators.\n",
            "\n",
            "```python\n",
            "import glob\n",
            "\n",
            "directory_path = \"/path/to/directory\"\n",
            "pattern = \"*.txt\"\n",
            "\n",
            "files = glob.glob(os.path.join(directory_path, pattern))\n",
            "\n",
            "print(files)\n",
            "```\n",
            "\n",
            "**Example:**\n",
            "\n",
            "```python\n",
            "# Get all files in the current directory\n",
            "files = os.listdir(\".\")\n",
            "\n",
            "# Print the names of the files\n",
            "for file in files:\n",
            "    print(file)\n",
            "```\n",
            "\n",
            "**Output:**\n",
            "\n",
            "```\n",
            "['file1.txt', 'file2.jpg', 'file3.pdf', 'hidden_file.txt']\n",
            "```\n",
            "\n",
            "**Note:**\n",
            "\n",
            "* The `os.listdir()` function may not work on all platforms.\n",
            "* The `glob` module may not include hidden files by default. You can specify the `recursive` parameter to the `glob` function to include hidden files.\n",
            "* The order of the files in the output may not be the same as the order they were created in.\n"
          ]
        }
      ],
      "source": [
        "print(result[0].get('generated_text')[1]['content'])"
      ]
    },
    {
      "cell_type": "code",
      "execution_count": 1,
      "metadata": {
        "id": "0WAxkVWZ7LRi",
        "colab": {
          "base_uri": "https://localhost:8080/",
          "height": 211
        },
        "outputId": "57da348f-2fc4-4705-900c-a7ef86b1d489"
      },
      "outputs": [
        {
          "output_type": "error",
          "ename": "NameError",
          "evalue": "name 'generator' is not defined",
          "traceback": [
            "\u001b[0;31m---------------------------------------------------------------------------\u001b[0m",
            "\u001b[0;31mNameError\u001b[0m                                 Traceback (most recent call last)",
            "\u001b[0;32m<ipython-input-1-7c1fe8fa31be>\u001b[0m in \u001b[0;36m<cell line: 2>\u001b[0;34m()\u001b[0m\n\u001b[1;32m      1\u001b[0m \u001b[0;31m# creating a function to get outcome\u001b[0m\u001b[0;34m\u001b[0m\u001b[0;34m\u001b[0m\u001b[0m\n\u001b[0;32m----> 2\u001b[0;31m \u001b[0;32mdef\u001b[0m \u001b[0mgenerate_response\u001b[0m\u001b[0;34m(\u001b[0m\u001b[0mprompt\u001b[0m\u001b[0;34m,\u001b[0m\u001b[0mgenerator\u001b[0m\u001b[0;34m=\u001b[0m\u001b[0mgenerator\u001b[0m\u001b[0;34m,\u001b[0m\u001b[0mtemperature\u001b[0m\u001b[0;34m=\u001b[0m\u001b[0;36m0\u001b[0m\u001b[0;34m,\u001b[0m\u001b[0mmax_length\u001b[0m\u001b[0;34m=\u001b[0m\u001b[0;36m500\u001b[0m\u001b[0;34m)\u001b[0m\u001b[0;34m:\u001b[0m\u001b[0;34m\u001b[0m\u001b[0;34m\u001b[0m\u001b[0m\n\u001b[0m\u001b[1;32m      3\u001b[0m   \u001b[0mmessages\u001b[0m \u001b[0;34m=\u001b[0m \u001b[0;34m[\u001b[0m\u001b[0;34m{\u001b[0m\u001b[0;34m\"role\"\u001b[0m\u001b[0;34m:\u001b[0m\u001b[0;34m\"user\"\u001b[0m\u001b[0;34m,\u001b[0m\u001b[0;34m\"content\"\u001b[0m\u001b[0;34m:\u001b[0m\u001b[0mprompt\u001b[0m\u001b[0;34m}\u001b[0m\u001b[0;34m]\u001b[0m\u001b[0;34m\u001b[0m\u001b[0;34m\u001b[0m\u001b[0m\n\u001b[1;32m      4\u001b[0m   response = generator(max_length=max_length, temperature=temperature,\n\u001b[1;32m      5\u001b[0m                        \u001b[0mtruncation\u001b[0m\u001b[0;34m=\u001b[0m\u001b[0;32mTrue\u001b[0m\u001b[0;34m,\u001b[0m \u001b[0mdo_sample\u001b[0m\u001b[0;34m=\u001b[0m\u001b[0;32mTrue\u001b[0m\u001b[0;34m,\u001b[0m\u001b[0;34m\u001b[0m\u001b[0;34m\u001b[0m\u001b[0m\n",
            "\u001b[0;31mNameError\u001b[0m: name 'generator' is not defined"
          ]
        }
      ],
      "source": [
        "# creating a function to get outcome\n",
        "def generate_response(prompt,generator=generator,temperature=0,max_length=500):\n",
        "  messages = [{\"role\":\"user\",\"content\":prompt}]\n",
        "  response = generator(max_length=max_length, temperature=temperature,\n",
        "                       truncation=True, do_sample=True,\n",
        "                       text_inputs=messages)\n",
        "  return response[0].get('generated_text')[1]['content']"
      ]
    },
    {
      "cell_type": "code",
      "execution_count": 8,
      "metadata": {
        "colab": {
          "base_uri": "https://localhost:8080/"
        },
        "id": "tLgNfQbz7xpQ",
        "outputId": "2113cca8-33ae-4e22-ce9c-ce91b5416e33"
      },
      "outputs": [
        {
          "output_type": "stream",
          "name": "stderr",
          "text": [
            "/usr/local/lib/python3.10/dist-packages/transformers/generation/configuration_utils.py:540: UserWarning: `do_sample` is set to `False`. However, `temperature` is set to `0` -- this flag is only used in sample-based generation modes. You should set `do_sample=True` or unset `temperature`.\n",
            "  warnings.warn(\n"
          ]
        },
        {
          "output_type": "stream",
          "name": "stdout",
          "text": [
            "```python\n",
            "print(\"Hello World\")\n",
            "```\n",
            "\n",
            "**Explanation:**\n",
            "\n",
            "* `print()` is a built-in Python function that prints the given argument to the console.\n",
            "* `\"Hello World\"` is the string that we want to print.\n",
            "* The `print()` function will call the `__str__()` method of the string object.\n",
            "* The `__str__()` method returns the string itself, which is what is printed to the console.\n",
            "\n",
            "**Output:**\n",
            "\n",
            "```\n",
            "Hello World\n",
            "```\n"
          ]
        }
      ],
      "source": [
        "response = generate_response(\"Write a python code to print 'Hello World'\")\n",
        "print(response)"
      ]
    },
    {
      "cell_type": "markdown",
      "metadata": {
        "id": "dkylHkLvWKSG"
      },
      "source": [
        "## Experimenting with different values of temperature:"
      ]
    },
    {
      "cell_type": "code",
      "execution_count": 9,
      "metadata": {
        "id": "G_u-sDy0WKSG",
        "outputId": "1b346896-2e08-4f4e-cc89-138da52bd544",
        "colab": {
          "base_uri": "https://localhost:8080/"
        }
      },
      "outputs": [
        {
          "metadata": {
            "tags": null
          },
          "name": "stdout",
          "output_type": "stream",
          "text": [
            "I am visiting Manila, a city of contrasts. Manila is a bustling metropolis with a rich history and culture, but it is also a modern city with a vibrant nightlife and a wide range of attractions.\n",
            "I am visiting Manila, a city of contrasts. Manila is a bustling metropolis with a rich history and culture, but it is also a modern city with a vibrant nightlife and a wide range of attractions.\n",
            "I am visiting Manila, a city of contrasts. Manila is a bustling metropolis with a rich history and culture, but it is also a modern city with a vibrant nightlife and a wide range of attractions.\n",
            "I am visiting Manila, a city of contrasts. Manila is a bustling metropolis with a rich history and culture, but it is also a modern city with a vibrant nightlife and a wide range of attractions.\n",
            "I am visiting Manila, a city of contrasts. Manila is a bustling metropolis with a rich history and culture, but it is also a modern city with a vibrant nightlife and a wide range of attractions.\n",
            "I am visiting Manila, a city of contrasts. Manila is a bustling metropolis with a rich history and culture, but it is also a modern city with a vibrant nightlife and a wide range of attractions.\n",
            "I am visiting Manila, a city of contrasts. Manila is a bustling metropolis with a rich history and culture, but it is also a modern city with a vibrant nightlife and a wide range of attractions.\n",
            "I am visiting Manila, a city of contrasts. Manila is a bustling metropolis with a rich history and culture, but it is also a modern city with a vibrant nightlife and a wide range of attractions.\n",
            "I am visiting Manila, a city of contrasts. Manila is a bustling metropolis with a rich history and culture, but it is also a modern city with a vibrant nightlife and a wide range of attractions.\n",
            "I am visiting Manila, a city of contrasts. Manila is a bustling metropolis with a rich history and culture, but it is also a modern city with a vibrant nightlife and a wide range of attractions.\n"
          ]
        }
      ],
      "source": [
        "for i in range(10):\n",
        "    response = generate_response(prompt=\"complete the following sentence: \\n\\n 'I am visiting Manila, its is a city of '\",\n",
        "                                 temperature=0)\n",
        "    print(response)"
      ]
    },
    {
      "cell_type": "code",
      "execution_count": 10,
      "metadata": {
        "id": "92UDa7VQWKSG",
        "outputId": "e316af16-3a37-4ebd-85a4-f4848402ab32",
        "colab": {
          "base_uri": "https://localhost:8080/"
        }
      },
      "outputs": [
        {
          "metadata": {
            "tags": null
          },
          "name": "stdout",
          "output_type": "stream",
          "text": [
            "At Temperature: 0\n",
            "I am visiting Manila, a city of contrasts. Manila is a bustling metropolis with a rich history and culture, but it is also a modern city with a vibrant nightlife and a wide range of attractions.\n",
            "************************************************************\n"
          ]
        },
        {
          "metadata": {
            "tags": null
          },
          "name": "stderr",
          "output_type": "stream",
          "text": [
            "/usr/local/lib/python3.10/dist-packages/transformers/generation/configuration_utils.py:540: UserWarning: `do_sample` is set to `False`. However, `temperature` is set to `0.4` -- this flag is only used in sample-based generation modes. You should set `do_sample=True` or unset `temperature`.\n",
            "  warnings.warn(\n"
          ]
        },
        {
          "metadata": {
            "tags": null
          },
          "name": "stdout",
          "output_type": "stream",
          "text": [
            "At Temperature: 0.4\n",
            "I am visiting Manila, a city of contrasts. Manila is a bustling metropolis with a rich history and culture, but it is also a modern city with a vibrant nightlife and a wide range of attractions.\n",
            "************************************************************\n"
          ]
        },
        {
          "metadata": {
            "tags": null
          },
          "name": "stderr",
          "output_type": "stream",
          "text": [
            "/usr/local/lib/python3.10/dist-packages/transformers/generation/configuration_utils.py:540: UserWarning: `do_sample` is set to `False`. However, `temperature` is set to `0.8` -- this flag is only used in sample-based generation modes. You should set `do_sample=True` or unset `temperature`.\n",
            "  warnings.warn(\n"
          ]
        },
        {
          "metadata": {
            "tags": null
          },
          "name": "stdout",
          "output_type": "stream",
          "text": [
            "At Temperature: 0.8\n",
            "I am visiting Manila, a city of contrasts. Manila is a bustling metropolis with a rich history and culture, but it is also a modern city with a vibrant nightlife and a wide range of attractions.\n",
            "************************************************************\n"
          ]
        },
        {
          "metadata": {
            "tags": null
          },
          "name": "stderr",
          "output_type": "stream",
          "text": [
            "/usr/local/lib/python3.10/dist-packages/transformers/generation/configuration_utils.py:540: UserWarning: `do_sample` is set to `False`. However, `temperature` is set to `1.2` -- this flag is only used in sample-based generation modes. You should set `do_sample=True` or unset `temperature`.\n",
            "  warnings.warn(\n"
          ]
        },
        {
          "metadata": {
            "tags": null
          },
          "name": "stdout",
          "output_type": "stream",
          "text": [
            "At Temperature: 1.2\n",
            "I am visiting Manila, a city of contrasts. Manila is a bustling metropolis with a rich history and culture, but it is also a modern city with a vibrant nightlife and a wide range of attractions.\n",
            "************************************************************\n"
          ]
        },
        {
          "metadata": {
            "tags": null
          },
          "name": "stderr",
          "output_type": "stream",
          "text": [
            "/usr/local/lib/python3.10/dist-packages/transformers/generation/configuration_utils.py:540: UserWarning: `do_sample` is set to `False`. However, `temperature` is set to `1.5` -- this flag is only used in sample-based generation modes. You should set `do_sample=True` or unset `temperature`.\n",
            "  warnings.warn(\n"
          ]
        },
        {
          "metadata": {
            "tags": null
          },
          "name": "stdout",
          "output_type": "stream",
          "text": [
            "At Temperature: 1.5\n",
            "I am visiting Manila, a city of contrasts. Manila is a bustling metropolis with a rich history and culture, but it is also a modern city with a vibrant nightlife and a wide range of attractions.\n",
            "************************************************************\n"
          ]
        },
        {
          "metadata": {
            "tags": null
          },
          "name": "stderr",
          "output_type": "stream",
          "text": [
            "/usr/local/lib/python3.10/dist-packages/transformers/generation/configuration_utils.py:540: UserWarning: `do_sample` is set to `False`. However, `temperature` is set to `1.8` -- this flag is only used in sample-based generation modes. You should set `do_sample=True` or unset `temperature`.\n",
            "  warnings.warn(\n"
          ]
        },
        {
          "metadata": {
            "tags": null
          },
          "name": "stdout",
          "output_type": "stream",
          "text": [
            "At Temperature: 1.8\n",
            "I am visiting Manila, a city of contrasts. Manila is a bustling metropolis with a rich history and culture, but it is also a modern city with a vibrant nightlife and a wide range of attractions.\n",
            "************************************************************\n"
          ]
        },
        {
          "metadata": {
            "tags": null
          },
          "name": "stderr",
          "output_type": "stream",
          "text": [
            "/usr/local/lib/python3.10/dist-packages/transformers/generation/configuration_utils.py:540: UserWarning: `do_sample` is set to `False`. However, `temperature` is set to `2.0` -- this flag is only used in sample-based generation modes. You should set `do_sample=True` or unset `temperature`.\n",
            "  warnings.warn(\n"
          ]
        },
        {
          "metadata": {
            "tags": null
          },
          "name": "stdout",
          "output_type": "stream",
          "text": [
            "At Temperature: 2.0\n",
            "I am visiting Manila, a city of contrasts. Manila is a bustling metropolis with a rich history and culture, but it is also a modern city with a vibrant nightlife and a wide range of attractions.\n",
            "************************************************************\n"
          ]
        }
      ],
      "source": [
        "\n",
        "tvalues = [0,0.4,0.8,1.2,1.5,1.8,2.0]\n",
        "for i in range(len(tvalues)):\n",
        "    response = generate_response(prompt=\"complete the following sentence: \\n\\n 'I am visiting Manila, its is a city of '\",\n",
        "                                 temperature=tvalues[i])\n",
        "    print(f\"At Temperature: {tvalues[i]}\")\n",
        "    print(response)\n",
        "    print(\"***\"*20)"
      ]
    },
    {
      "cell_type": "markdown",
      "metadata": {
        "id": "Ij40o9G0ESfg"
      },
      "source": [
        "# Key guidelines for prompt engineering\n",
        "\n",
        "1. CCS: Clear, Concise and Specific instructions\n",
        "\n",
        "      a. Use proper delimeters\n",
        "          - Triple Quotes \"\"\"\n",
        "          - Triple backticks ```\n",
        "          - Triple Dashes ---\n",
        "          - Angle bracket <>\n",
        "          - xml tags \"< start> < /start>\"\n",
        "\n",
        "      b. be structured in content: Use Persona, Task, constraints, output format\n",
        "\n",
        "  \n",
        "2. Give the model time to think\n"
      ]
    },
    {
      "cell_type": "markdown",
      "metadata": {
        "id": "SyGpCUafNffB"
      },
      "source": [
        "## component 1: Use proper delimeters\n"
      ]
    },
    {
      "cell_type": "code",
      "execution_count": 11,
      "metadata": {
        "id": "rSkCESQV7-Iw",
        "outputId": "730861b3-3d64-4fbe-c206-6b2c97fef897",
        "colab": {
          "base_uri": "https://localhost:8080/",
          "height": 139
        }
      },
      "outputs": [
        {
          "data": {
            "application/vnd.google.colaboratory.intrinsic+json": {
              "type": "string"
            },
            "text/plain": [
              "'\\nSummarize the text delimited by triple backticks into a single sentence.\\n```\\nNorth Korean leader Kim Jong Un, currently visiting Russia, inspected several state-of-the-art systems deployed in the ongoing Ukraine war, including the Kinzhal hypersonic missile, supersonic bombers, and the latest weapons mounted on the MiG-31 missile carrier.\\nThis information was published by the Russian Ministry of Defense (RuMoD) on its official Telegram channel. The inspection of the next-generation missile system was also accompanied by a meeting with Russian Defense Minister Sergei Shoigu at the Knevichi airfield near Vladivostok in the Far East of Russia.\\n“At the Knevichi airfield, Russian Minister of Defense General of the Army Sergei Shoigu presented the Russian MiG-31I missile carrier with the latest weaponry – the Kinzhal hypersonic air-launched missile – to the leader of the Democratic People’s Republic of Korea Kim Jong-un,” the RuMoD said in a statement on Telegram.\\nBriefing the North Korean leader, Commander of the Long-Range Aviation of the Russian Aerospace Forces Lieutenant General Sergei Kobylash reported on the flight and technical characteristics of the Kinzhal hypersonic missile system. On top of that, he noted that the system includes a Mig-31I missile carrier equipped with the Kinzhal hypersonic aero-ballistic missile and a missile control system.\\n“This Russian aircraft system has no equivalent anywhere in the world and has shown to be very combat-effective,” the Russian MoD said in a statement emphasizing the deadly combination of MiG-31 and the Kinzhal hypersonic missiles. Russia has fired these missiles, touted as invincible by Russia, on Ukrainian targets several times during this bloody conflict.\\nAs he spoke with Shoigu and other military officials through interpreters about technical specifics, Kim looked at the Kinzhal missile, gestured, and asked questions about the jets’ capabilities.\\nThe inspection is significant as it comes amid heightened concerns in the West about a potential arms agreement that will be signed between the two of its adversaries, which have been inching closer to each other since the Russian invasion led to Moscow’s isolation.\\nhttps://twitter.com/i/status/1703110950822293981\\nWestern commentators believe Kim’s visit to Russia’s military and technical installations may have hinted at what he wants from Russia in return for giving ammunition to top off Putin’s depleting supplies. However, there is no information as to what systems the North Korean President would be interested in if an arms agreement is indeed in the works.\\nAccording to experts, prospective military cooperation between the two nations may entail initiatives to update North Korea’s obsolete air force, which was still dependent on jets from the Soviet Union in the 1980s. However, experts also believe that the Kinzhal and the MiG-31 inspection do not automatically translate into a deal.\\nKh-47M2 Kinzhal - Wikipedia\\nIndian Air Force veteran and military expert who keenly watches the Russian military, Squadron Leader Vijainder K. Thakur (retd.), explained to EurAsian Times, “Kinzhal is not just a missile that you can shoot at the adversary. It needs a launch platform that is expensive and difficult to operate. It needs intelligence for targeting. North Korea does not have MiG-31D. Since the heavy fighter is not in production, it is very doubtful that Russia can transfer it to North Korea.”\\nWhen it was pointed out that Russia is reportedly firing the Kinzhal from its Su-34 Fullback fighter bomber, Thakur retorted, “North Korea does not have Su 34. Russia has as yet not met its demand for its Su-34 frontline bomber. So, it is improbable.”\\nThe US has accused Kim of supplying weapons and ammunition, including shells and rockets, to support Putin’s conflict for months. Although the US claims that the guns won’t dramatically change the battlefield, they can still be used to shell Ukraine. More importantly, these sales could give North Korea a new source of income for a country whose economy is mainly cut off from international trade.\\nSome officials in the US as well as South Korea have warned that any such deal would be in contravention of the UN sanctions and would come at a heavy price.\\nCutting-Edge Systems Shown To North Korean Leader\\nThe North Korean leader was also shown an array of cutting-edge warplanes, out of which its strategic supersonic bombers particularly stood out. Bombers like Tu-160, Tu-95, and Tu-22 bombers that have been extensively deployed to launch cruise missiles were presented to Kim Jong Un.\\nIn addition, Kim was informed by Shoigu and Lt. Gen. Sergei Kobylash that the Tu-160 had just acquired brand-new cruise missiles with a 4,040-mile range. Shoigu pointed to the weapons bay and stated that each bomber had 12 missiles.\\nBesides the bombers, Kim also had the chance to see Russia’s fifth-generation stealth jet. The RuMoD noted that Kim also visited the Russian Marshal Shaposhnikov frigate to inspect the Su-35 and the Su-57 stealth combat fighter during a tour of a factory producing fighter jets and other aircraft types.\\n```\\n'"
            ]
          },
          "execution_count": 11,
          "metadata": {},
          "output_type": "execute_result"
        }
      ],
      "source": [
        "\n",
        "text = \"\"\"\n",
        "North Korean leader Kim Jong Un, currently visiting Russia, inspected several state-of-the-art systems deployed in the ongoing Ukraine war, including the Kinzhal hypersonic missile, supersonic bombers, and the latest weapons mounted on the MiG-31 missile carrier.\n",
        "This information was published by the Russian Ministry of Defense (RuMoD) on its official Telegram channel. The inspection of the next-generation missile system was also accompanied by a meeting with Russian Defense Minister Sergei Shoigu at the Knevichi airfield near Vladivostok in the Far East of Russia.\n",
        "“At the Knevichi airfield, Russian Minister of Defense General of the Army Sergei Shoigu presented the Russian MiG-31I missile carrier with the latest weaponry – the Kinzhal hypersonic air-launched missile – to the leader of the Democratic People’s Republic of Korea Kim Jong-un,” the RuMoD said in a statement on Telegram.\n",
        "Briefing the North Korean leader, Commander of the Long-Range Aviation of the Russian Aerospace Forces Lieutenant General Sergei Kobylash reported on the flight and technical characteristics of the Kinzhal hypersonic missile system. On top of that, he noted that the system includes a Mig-31I missile carrier equipped with the Kinzhal hypersonic aero-ballistic missile and a missile control system.\n",
        "“This Russian aircraft system has no equivalent anywhere in the world and has shown to be very combat-effective,” the Russian MoD said in a statement emphasizing the deadly combination of MiG-31 and the Kinzhal hypersonic missiles. Russia has fired these missiles, touted as invincible by Russia, on Ukrainian targets several times during this bloody conflict.\n",
        "As he spoke with Shoigu and other military officials through interpreters about technical specifics, Kim looked at the Kinzhal missile, gestured, and asked questions about the jets’ capabilities.\n",
        "The inspection is significant as it comes amid heightened concerns in the West about a potential arms agreement that will be signed between the two of its adversaries, which have been inching closer to each other since the Russian invasion led to Moscow’s isolation.\n",
        "https://twitter.com/i/status/1703110950822293981\n",
        "Western commentators believe Kim’s visit to Russia’s military and technical installations may have hinted at what he wants from Russia in return for giving ammunition to top off Putin’s depleting supplies. However, there is no information as to what systems the North Korean President would be interested in if an arms agreement is indeed in the works.\n",
        "According to experts, prospective military cooperation between the two nations may entail initiatives to update North Korea’s obsolete air force, which was still dependent on jets from the Soviet Union in the 1980s. However, experts also believe that the Kinzhal and the MiG-31 inspection do not automatically translate into a deal.\n",
        "Kh-47M2 Kinzhal - Wikipedia\n",
        "Indian Air Force veteran and military expert who keenly watches the Russian military, Squadron Leader Vijainder K. Thakur (retd.), explained to EurAsian Times, “Kinzhal is not just a missile that you can shoot at the adversary. It needs a launch platform that is expensive and difficult to operate. It needs intelligence for targeting. North Korea does not have MiG-31D. Since the heavy fighter is not in production, it is very doubtful that Russia can transfer it to North Korea.”\n",
        "When it was pointed out that Russia is reportedly firing the Kinzhal from its Su-34 Fullback fighter bomber, Thakur retorted, “North Korea does not have Su 34. Russia has as yet not met its demand for its Su-34 frontline bomber. So, it is improbable.”\n",
        "The US has accused Kim of supplying weapons and ammunition, including shells and rockets, to support Putin’s conflict for months. Although the US claims that the guns won’t dramatically change the battlefield, they can still be used to shell Ukraine. More importantly, these sales could give North Korea a new source of income for a country whose economy is mainly cut off from international trade.\n",
        "Some officials in the US as well as South Korea have warned that any such deal would be in contravention of the UN sanctions and would come at a heavy price.\n",
        "Cutting-Edge Systems Shown To North Korean Leader\n",
        "The North Korean leader was also shown an array of cutting-edge warplanes, out of which its strategic supersonic bombers particularly stood out. Bombers like Tu-160, Tu-95, and Tu-22 bombers that have been extensively deployed to launch cruise missiles were presented to Kim Jong Un.\n",
        "In addition, Kim was informed by Shoigu and Lt. Gen. Sergei Kobylash that the Tu-160 had just acquired brand-new cruise missiles with a 4,040-mile range. Shoigu pointed to the weapons bay and stated that each bomber had 12 missiles.\n",
        "Besides the bombers, Kim also had the chance to see Russia’s fifth-generation stealth jet. The RuMoD noted that Kim also visited the Russian Marshal Shaposhnikov frigate to inspect the Su-35 and the Su-57 stealth combat fighter during a tour of a factory producing fighter jets and other aircraft types.\n",
        "\"\"\"\n",
        "\n",
        "prompt = f\"\"\"\n",
        "Summarize the text delimited by triple backticks into a single sentence.\n",
        "```{text}```\n",
        "\"\"\"\n",
        "prompt"
      ]
    },
    {
      "cell_type": "code",
      "execution_count": 12,
      "metadata": {
        "colab": {
          "base_uri": "https://localhost:8080/"
        },
        "id": "EzTSEbwLF44U",
        "outputId": "3d4d77e6-60e0-4cb0-87ea-cc4ce2482aa4"
      },
      "outputs": [
        {
          "metadata": {
            "tags": null
          },
          "name": "stdout",
          "output_type": "stream",
          "text": [
            "Sure, here's a summary of the text in a single sentence:\n",
            "\n",
            "North Korean leader Kim Jong Un inspected cutting-edge systems deployed in the ongoing Ukraine war, including the Kinzhal hypersonic missile and supersonic bombers.\n"
          ]
        }
      ],
      "source": [
        "response = generate_response(prompt,max_length=2000)\n",
        "print(response)"
      ]
    },
    {
      "cell_type": "code",
      "execution_count": 12,
      "metadata": {
        "id": "5e-Xz0LaGObG"
      },
      "outputs": [],
      "source": []
    },
    {
      "cell_type": "markdown",
      "metadata": {
        "id": "b_xtLoDINhff"
      },
      "source": [
        "## component 2: Ask for the output in a specific format\n"
      ]
    },
    {
      "cell_type": "code",
      "execution_count": 13,
      "metadata": {
        "id": "W_SyczGobhw4",
        "outputId": "dae9f9ad-cd0f-414b-cdeb-ef1880a70927",
        "colab": {
          "base_uri": "https://localhost:8080/"
        }
      },
      "outputs": [
        {
          "metadata": {
            "tags": null
          },
          "name": "stdout",
          "output_type": "stream",
          "text": [
            "| Animal | Genus | Species |\n",
            "|---|---|---|\n",
            "| Elephant | Loxodonta | africana |\n",
            "| Lion | Panthera leo | leo |\n",
            "| Tiger | Panthera tigris | tigris |\n",
            "| Giraffe | Giraffa camelopardalis | giraffa |\n",
            "| Whale | Balaenoptera musculus | whale |\n",
            "| Dolphin | Delphinus delphis | dolphin |\n"
          ]
        }
      ],
      "source": [
        "prompt = f\"\"\"Write a table in markdown with 6 animals in it, with their genus and species\"\"\"\n",
        "response = generate_response(prompt)\n",
        "print(response)"
      ]
    },
    {
      "cell_type": "code",
      "execution_count": 14,
      "metadata": {
        "id": "GV-WtC6DNnTf",
        "outputId": "415f9610-85c4-4c0f-b416-a8cf13820644",
        "colab": {
          "base_uri": "https://localhost:8080/"
        }
      },
      "outputs": [
        {
          "metadata": {
            "tags": null
          },
          "name": "stdout",
          "output_type": "stream",
          "text": [
            "```json\n",
            "{\n",
            "  \"job_id\": 1,\n",
            "  \"job_title\": \"Data Analyst\",\n",
            "  \"job_skills\": [\n",
            "    \"SQL\",\n",
            "    \"Python\",\n",
            "    \"R\",\n",
            "    \"Data wrangling tools (pandas, SQLAlchemy)\"\n",
            "  ],\n",
            "  \"job_tools\": [\n",
            "    \"SQL editor (SQL Developer)\",\n",
            "    \"Programming languages (Python, R)\",\n",
            "    \"Data wrangling tools (pandas, SQLAlchemy)\"\n",
            "  ]\n",
            "}\n",
            "\n",
            "{\n",
            "  \"job_id\": 2,\n",
            "  \"job_title\": \"Software Engineer\",\n",
            "  \"job_skills\": [\n",
            "    \"Java\",\n",
            "    \"Python\",\n",
            "    \"SQL\",\n",
            "    \"Data structures and algorithms\"\n",
            "  ],\n",
            "  \"job_tools\": [\n",
            "    \"IDE (Eclipse, IntelliJ)\",\n",
            "    \"Version control (Git)\",\n",
            "    \"Testing tools (JUnit)\"\n",
            "  ]\n",
            "}\n",
            "\n",
            "{\n",
            "  \"job_id\": 3,\n",
            "  \"job_title\": \"Data Scientist\",\n",
            "  \"job_skills\": [\n",
            "    \"SQL\",\n",
            "    \"Python\",\n",
            "    \"R\",\n",
            "    \"Machine learning libraries (scikit-learn, TensorFlow)\"\n",
            "  ],\n",
            "  \"job_tools\": [\n",
            "    \"Programming languages (Python, R)\",\n",
            "    \"Data wrangling tools (pandas, SQLAlchemy)\",\n",
            "    \"Machine learning libraries (scikit-learn, TensorFlow)\"\n",
            "  ]\n",
            "}\n",
            "\n",
            "{\n",
            "  \"job_id\": 4,\n",
            "  \"job_title\": \"Data Architect\",\n",
            "  \"job_skills\": [\n",
            "    \"SQL\",\n",
            "    \"NoSQL\",\n",
            "    \"Data modeling tools (PostgreSQL, MySQL)\"\n",
            "  ],\n",
            "  \"job_tools\": [\n",
            "    \"Database tools (PostgreSQL, MySQL)\",\n",
            "    \"Data modeling tools (PostgreSQL, MySQL)\"\n",
            "  ]\n",
            "}\n",
            "\n",
            "{\n",
            "  \"job_id\": 5,\n",
            "  \"job_title\": \"Software Engineer (Full-Stack)\",\n",
            "  \"job_skills\": [\n",
            "    \"HTML\",\n",
            "    \"CSS\",\n",
            "    \"JavaScript\",\n",
            "    \"SQL\",\n",
            "    \"NoSQL\"\n",
            "  ],\n",
            "  \"job_tools\": [\n",
            "    \"IDE (Visual Studio, Atom)\",\n",
            "    \"Version control (Git)\",\n",
            "    \"Testing tools (JUnit)\"\n",
            "  ]\n",
            "}\n",
            "\n",
            "{\n",
            "  \"job_id\": 6,\n",
            "  \"job_title\": \"Data Engineer\",\n",
            "  \"job_skills\": [\n",
            "    \"SQL\",\n",
            "    \"NoSQL\",\n",
            "    \"Data transformation tools (Apache Spark, Kafka)\"\n",
            "  ],\n",
            "  \"job_tools\": [\n",
            "    \"SQL editor (SQL Developer)\",\n",
            "    \"NoSQL tools (Spark, Kafka)\",\n",
            "    \"Data transformation tools (Apache Spark, Kafka)\"\n",
            "  ]\n",
            "}\n",
            "\n",
            "{\n",
            "  \"job_id\": 7,\n",
            "  \"job_title\": \"Data Analyst (Business Intelligence)\",\n",
            "  \"job_skills\": [\n",
            "    \"SQL\",\n",
            "    \"Data visualization tools (Tableau, Power BI)\",\n",
            "    \"Business intelligence tools (Tableau, Power BI)\"\n",
            "  ],\n",
            "  \"job_tools\": [\n",
            "    \"SQL editor (SQL Developer)\",\n",
            "    \"Data visualization tools (Tableau, Power BI)\",\n",
            "    \"Business intelligence tools (Tableau, Power BI)\"\n",
            "  ]\n",
            "}\n",
            "\n",
            "{\n",
            "  \"job_id\": 8,\n",
            "  \"job_title\": \"Software Developer\",\n",
            "  \"job_skills\": [\n",
            "    \"Java\",\n",
            "    \"Python\",\n",
            "    \"SQL\",\n",
            "    \"Data structures and algorithms\"\n",
            "  ],\n",
            "  \"job_tools\": [\n",
            "    \"IDE (Eclipse, IntelliJ)\",\n",
            "    \"Version control (Git)\",\n",
            "    \"Testing tools (JUnit)\"\n",
            "  ]\n",
            "}\n",
            "\n",
            "{\n",
            "  \"job_id\": 9,\n",
            "  \"job_title\": \"Data Scientist (Machine Learning)\",\n",
            "  \"job_skills\": [\n",
            "    \"SQL\",\n",
            "    \"Python\",\n",
            "    \"R\",\n",
            "    \"Machine learning libraries (scikit-learn, TensorFlow)\"\n",
            "  ],\n",
            "  \"job_tools\": [\n",
            "    \"Programming languages (Python, R)\",\n",
            "    \"Data wrangling tools (pandas, SQLAlchemy)\",\n",
            "    \"Machine learning libraries (scikit-learn, TensorFlow)\"\n",
            "  ]\n",
            "}\n",
            "\n",
            "{\n",
            "  \"job_id\": 10,\n",
            "  \"job_title\": \"Software Architect\",\n",
            "  \"job_skills\": [\n",
            "    \"Java\",\n",
            "    \"Python\",\n",
            "    \"SQL\",\n",
            "    \"Data structures and algorithms\"\n",
            "  ],\n",
            "  \"job_tools\": [\n",
            "    \"IDE (Eclipse, IntelliJ)\",\n",
            "    \"Version control (Git)\",\n",
            "    \"Testing tools (JUnit)\"\n",
            "  ]\n",
            "}\n"
          ]
        }
      ],
      "source": [
        "# Task , format\n",
        "prompt = f\"\"\"\n",
        "Generate a list of 10 job titles related to Analytics and Software Engineering along with important skills and tools used.\n",
        "provide them in JSON format with the following  keys:\n",
        "job_id, job_title, job_skills, job_tools\n",
        "\"\"\"\n",
        "response = generate_response(prompt,max_length=2000)\n",
        "print(response)"
      ]
    },
    {
      "cell_type": "code",
      "execution_count": 15,
      "metadata": {
        "id": "dtxu5SY5OXEx",
        "outputId": "80b29e0d-c650-49a8-f055-fb4569ce9ce3",
        "colab": {
          "base_uri": "https://localhost:8080/"
        }
      },
      "outputs": [
        {
          "metadata": {
            "tags": null
          },
          "name": "stdout",
          "output_type": "stream",
          "text": [
            "```json\n",
            "{\n",
            "  \"job_id\": 1,\n",
            "  \"job_title\": \"Data Analyst\",\n",
            "  \"job_skills\": [\n",
            "    \"SQL\",\n",
            "    \"Python\",\n",
            "    \"R\",\n",
            "    \"Data wrangling tools (pandas, SQLAlchemy)\"\n",
            "  ],\n",
            "  \"job_tools\": [\n",
            "    \"SQL editor (SQL Developer)\",\n",
            "    \"Programming languages (Python, R)\",\n",
            "    \"Data wrangling tools (pandas, SQLAlchemy)\"\n",
            "  ]\n",
            "}\n",
            "\n",
            "{\n",
            "  \"job_id\": 2,\n",
            "  \"job_title\": \"Software Engineer\",\n",
            "  \"job_skills\": [\n",
            "    \"Java\",\n",
            "    \"Python\",\n",
            "    \"SQL\",\n",
            "    \"Data structures and algorithms\"\n",
            "  ],\n",
            "  \"job_tools\": [\n",
            "    \"IDE (Eclipse, IntelliJ)\",\n",
            "    \"Version control (Git)\",\n",
            "    \"Testing tools (JUnit)\"\n",
            "  ]\n",
            "}\n",
            "\n",
            "{\n",
            "  \"job_id\": 3,\n",
            "  \"job_title\": \"Data Scientist\",\n",
            "  \"job_skills\": [\n",
            "    \"SQL\",\n",
            "    \"Python\",\n",
            "    \"R\",\n",
            "    \"Machine learning libraries (scikit-learn, TensorFlow)\"\n",
            "  ],\n",
            "  \"job_tools\": [\n",
            "    \"Programming languages (Python, R)\",\n",
            "    \"Data wrangling tools (pandas, SQLAlchemy)\",\n",
            "    \"Machine learning libraries (scikit-learn, TensorFlow)\"\n",
            "  ]\n",
            "}\n",
            "\n",
            "{\n",
            "  \"job_id\": 4,\n",
            "  \"job_title\": \"Data Architect\",\n",
            "  \"job_skills\": [\n",
            "    \"SQL\",\n",
            "    \"NoSQL\",\n",
            "    \"Data modeling tools (PostgreSQL, MySQL)\"\n",
            "  ],\n",
            "  \"job_tools\": [\n",
            "    \"Database tools (PostgreSQL, MySQL)\",\n",
            "    \"Data modeling tools (PostgreSQL, MySQL)\"\n",
            "  ]\n",
            "}\n",
            "\n",
            "{\n",
            "  \"job_id\": 5,\n",
            "  \"job_title\": \"Software Engineer (Full-Stack)\",\n",
            "  \"job_skills\": [\n",
            "    \"HTML\",\n",
            "    \"CSS\",\n",
            "    \"JavaScript\",\n",
            "    \"SQL\",\n",
            "    \"NoSQL\"\n",
            "  ],\n",
            "  \"job_tools\": [\n",
            "    \"IDE (Visual Studio, Atom)\",\n",
            "    \"Version control (Git)\",\n",
            "    \"Testing tools (JUnit)\"\n",
            "  ]\n",
            "}\n",
            "\n",
            "{\n",
            "  \"job_id\": 6,\n",
            "  \"job_title\": \"Data Engineer\",\n",
            "  \"job_skills\": [\n",
            "    \"SQL\",\n",
            "    \"NoSQL\",\n",
            "    \"Data transformation tools (Apache Spark, Kafka)\"\n",
            "  ],\n",
            "  \"job_tools\": [\n",
            "    \"SQL editor (SQL Developer)\",\n",
            "    \"NoSQL tools (Spark, Kafka)\",\n",
            "    \"Data transformation tools (Apache Spark, Kafka)\"\n",
            "  ]\n",
            "}\n",
            "\n",
            "{\n",
            "  \"job_id\": 7,\n",
            "  \"job_title\": \"Data Analyst (Business Intelligence)\",\n",
            "  \"job_skills\": [\n",
            "    \"SQL\",\n",
            "    \"Data visualization tools (Tableau, Power BI)\",\n",
            "    \"Business intelligence tools (Tableau, Power BI)\"\n",
            "  ],\n",
            "  \"job_tools\": [\n",
            "    \"SQL editor (SQL Developer)\",\n",
            "    \"Data visualization tools (Tableau, Power BI)\",\n",
            "    \"Business intelligence tools (Tableau, Power BI)\"\n",
            "  ]\n",
            "}\n",
            "\n",
            "{\n",
            "  \"job_id\": 8,\n",
            "  \"job_title\": \"Software Developer\",\n",
            "  \"job_skills\": [\n",
            "    \"Java\",\n",
            "    \"Python\",\n",
            "    \"SQL\",\n",
            "    \"Data structures and algorithms\"\n",
            "  ],\n",
            "  \"job_tools\": [\n",
            "    \"IDE (Eclipse, IntelliJ)\",\n",
            "    \"Version control (Git)\",\n",
            "    \"Testing tools (JUnit)\"\n",
            "  ]\n",
            "}\n",
            "\n",
            "{\n",
            "  \"job_id\": 9,\n",
            "  \"job_title\": \"Data Scientist (Machine Learning)\",\n",
            "  \"job_skills\": [\n",
            "    \"SQL\",\n",
            "    \"Python\",\n",
            "    \"R\",\n",
            "    \"Machine learning libraries (scikit-learn, TensorFlow)\"\n",
            "  ],\n",
            "  \"job_tools\": [\n",
            "    \"Programming languages (Python, R)\",\n",
            "    \"Data wrangling tools (pandas, SQLAlchemy)\",\n",
            "    \"Machine learning libraries (scikit-learn, TensorFlow)\"\n",
            "  ]\n",
            "}\n",
            "\n",
            "{\n",
            "  \"job_id\": 10,\n",
            "  \"job_title\": \"Software Architect\",\n",
            "  \"job_skills\": [\n",
            "    \"Java\",\n",
            "    \"Python\",\n",
            "    \"SQL\",\n",
            "    \"Data structures and algorithms\"\n",
            "  ],\n",
            "  \"job_tools\": [\n",
            "    \"IDE (Eclipse, IntelliJ)\",\n",
            "    \"Version control (Git)\",\n",
            "    \"Testing tools (JUnit)\"\n",
            "  ]\n",
            "}\n"
          ]
        }
      ],
      "source": [
        "print(response)"
      ]
    },
    {
      "cell_type": "code",
      "execution_count": 16,
      "metadata": {
        "id": "mnp0q_V0OZvQ"
      },
      "outputs": [],
      "source": [
        "# Task , format\n",
        "prompt = f\"\"\"\n",
        "Generate a list of 10 job titles related to Analytics and Software Engineering along with important skills and tools used.\n",
        "provide them in CSV format with the following headers:\n",
        "job_id, job_title, job_skills, job_tools\n",
        "\"\"\"\n",
        "response = generate_response(prompt,max_length=2000)"
      ]
    },
    {
      "cell_type": "code",
      "execution_count": 17,
      "metadata": {
        "id": "ITVZTujKOswJ",
        "outputId": "3fcf579a-fe8c-4575-a9db-066eae8da084",
        "colab": {
          "base_uri": "https://localhost:8080/"
        }
      },
      "outputs": [
        {
          "metadata": {
            "tags": null
          },
          "name": "stdout",
          "output_type": "stream",
          "text": [
            "| job_id | job_title | job_skills | job_tools |\n",
            "|---|---|---|---|\n",
            "| 1 | Data Scientist | Python, SQL, R, Hadoop, Spark | Jupyter notebook, SQL editor, data wrangling tools |\n",
            "| 2 | Software Engineer | Java, Python, SQL, Agile methodologies | Eclipse, IntelliJ IDEA, Git version control |\n",
            "| 3 | Data Analyst | SQL, Python, data visualization tools | SQL editor, data wrangling tools, data visualization libraries |\n",
            "| 4 | Machine Learning Engineer | Python, R, TensorFlow, scikit-learn | Jupyter notebook, data wrangling tools, machine learning libraries |\n",
            "| 5 | Data Architect | SQL, NoSQL, data modeling, data governance | SQL editor, data modeling tools, data governance platforms |\n",
            "| 6 | Data Engineer | Python, SQL, data warehousing tools | Data warehouse tools, SQL editor, data wrangling tools |\n",
            "| 7 | Business Intelligence Analyst | SQL, Python, data visualization tools | Business intelligence tools, SQL editor, data wrangling tools |\n",
            "| 8 | Data Product Manager | Python, data analysis, business acumen | Data wrangling tools, data analysis tools, business intelligence tools |\n",
            "| 9 | Software Development Engineer | Java, Python, SQL, Agile methodologies | Eclipse, IntelliJ IDEA, Git version control |\n",
            "| 10 | Data Research Analyst | SQL, Python, data wrangling tools | SQL editor, data wrangling tools, data visualization tools |\n"
          ]
        }
      ],
      "source": [
        "print(response)"
      ]
    },
    {
      "cell_type": "code",
      "execution_count": 18,
      "metadata": {
        "id": "loIN5Ys_OtnB"
      },
      "outputs": [],
      "source": [
        "# Task , format, constraint\n",
        "prompt = f\"\"\"\n",
        "Generate a list of 10 job titles related to Analytics and Software Engineering along with important skills and tools used.\n",
        "provide them in CSV format with the following headers:\n",
        "job_id, job_title, job_skills, job_tools\n",
        "In a single column such as job_skills and job_tools, keep multiple values separated by a semicolon.\n",
        "\"\"\"\n",
        "response = generate_response(prompt)"
      ]
    },
    {
      "cell_type": "code",
      "execution_count": 19,
      "metadata": {
        "id": "5NFwrZ0hPbqD",
        "outputId": "d9487a9f-c16e-430b-ff2a-74e193d65bc8",
        "colab": {
          "base_uri": "https://localhost:8080/"
        }
      },
      "outputs": [
        {
          "metadata": {
            "tags": null
          },
          "name": "stdout",
          "output_type": "stream",
          "text": [
            "| job_id | job_title | job_skills | job_tools |\n",
            "|---|---|---|---|\n",
            "| 1 | Data Scientist | Python, SQL, R; Hadoop, Spark | Apache Spark, Jupyter Notebook |\n",
            "| 2 | Software Engineer | Java, Python, SQL; Agile methodologies, Scrum | Eclipse, IntelliJ, Git |\n",
            "| 3 | Data Analyst | SQL, Python, R; Data wrangling tools, data visualization | SQL Server, pandas, matplotlib |\n",
            "| 4 | Machine Learning Engineer | Python, R, Java; Machine learning libraries, cloud platforms | TensorFlow, scikit-learn, AWS SageMaker |\n",
            "| 5 | Data Architect | SQL, Python, data modeling tools; Cloud platforms, data governance | Oracle, SQL Server, AWS Redshift |\n",
            "| 6 | Software Architect | Java, Python, SQL; Agile methodologies, cloud platforms | Eclipse, IntelliJ, Git |\n",
            "| 7 | Data Engineer | SQL, Python, data warehousing tools; Hadoop, Spark | Hive, Pig, Spark SQL |\n",
            "| 8 | Business Intelligence Analyst | SQL, Python, data visualization tools; Business intelligence platforms | Tableau, Power BI, SQL Server |\n",
            "| 9 | Data Evangelist | Python, SQL, data storytelling tools; Data visualization, storytelling | Python, SQL Server, Tableau |\n",
            "| 10 | Software Developer | Java, Python, SQL; Agile methodologies, version control | Eclipse, IntelliJ, Git |\n"
          ]
        }
      ],
      "source": [
        "print(response)"
      ]
    },
    {
      "cell_type": "code",
      "execution_count": 20,
      "metadata": {
        "id": "oLt0pk3APfps"
      },
      "outputs": [],
      "source": [
        "with open(\"job_data.csv\",'w') as file:\n",
        "  file.write(response)"
      ]
    },
    {
      "cell_type": "code",
      "execution_count": 21,
      "metadata": {
        "id": "o1fNlBgbP1kR",
        "outputId": "3f9a0022-ecec-4f9c-e57c-51e6e9502649",
        "colab": {
          "base_uri": "https://localhost:8080/"
        }
      },
      "outputs": [
        {
          "metadata": {
            "tags": null
          },
          "name": "stdout",
          "output_type": "stream",
          "text": [
            "Step 1: Get some warm water.\n",
            "Step 2: Mix the warm water with some detergent.\n",
            "Step 3: Put the dirty clothes in it and let it stay wet for some time.\n",
            "Step 4: Take clothes out, rub the dirt/stains with a soft brush to remove the stains if any.\n",
            "Step 5: Get the clothes mixed with water to get the detergent out of it.\n",
            "Step 6: Put it for drying on a rope.\n"
          ]
        }
      ],
      "source": [
        "# asking for a specific format\n",
        "text = \"\"\"\n",
        "Washing clothes without washing machines is easy!\n",
        "First you need to get some warm water. Mix the warm water with some detergent. Second you can put the dirty clothes in it and let it stay wet for some time.\n",
        "During this period the stains will get loose and mixed with water.\n",
        "thereafter you can take clothes out, rub the dirt/stains with a soft brush to remove the stains if any.\n",
        "get the clothes mixed with water to get the detergent out of it. and then put it for drying on a rope.\n",
        "Enjoy the clean clothes.\n",
        "\"\"\"\n",
        "\n",
        "prompt = f\"\"\"\n",
        "you will be provided with some text delimited by triple backticks. Rewrite those into a set of instructions in the following format:\n",
        "\n",
        "Step 1: ...\n",
        "Step 2: ....\n",
        "..\n",
        "Step N:...\n",
        "\n",
        "```{text}\n",
        "```\n",
        "\"\"\"\n",
        "response = generate_response(prompt)\n",
        "print(response)\n"
      ]
    },
    {
      "cell_type": "code",
      "execution_count": 22,
      "metadata": {
        "id": "I-I0CzPKTyfd",
        "outputId": "d4cbb005-eb2c-4754-b38c-9f29e0a3c6bb",
        "colab": {
          "base_uri": "https://localhost:8080/"
        }
      },
      "outputs": [
        {
          "metadata": {
            "tags": null
          },
          "name": "stdout",
          "output_type": "stream",
          "text": [
            "Step 1: The morning today is amazing, the sun is looking bright in between clouds, the weather is pleasent and the wind is mindblowing.\n",
            "Step 2: on a whole i am loving the day today.\n"
          ]
        }
      ],
      "source": [
        "# asking for a specific format\n",
        "text = \"\"\"\n",
        "THe morning today is amazing, the sun is looking bright in between clouds, the weather is pleasent and the wind is mindblowing. on a whole i am loving the day today.\n",
        "\"\"\"\n",
        "\n",
        "prompt = f\"\"\"\n",
        "you will be provided with some text delimited by triple backticks. Rewrite those into a set of instructions in the following format:\n",
        "\n",
        "Step 1: ...\n",
        "Step 2: ....\n",
        "..\n",
        "Step N:...?\":\n",
        "\n",
        "```{text}\n",
        "```\n",
        "\"\"\"\n",
        "response = generate_response(prompt)\n",
        "print(response)\n"
      ]
    },
    {
      "cell_type": "code",
      "execution_count": 23,
      "metadata": {
        "colab": {
          "base_uri": "https://localhost:8080/"
        },
        "id": "GTuKaTEeUVWE",
        "outputId": "63f79b7d-bff9-41da-adbf-f13914e64b87"
      },
      "outputs": [
        {
          "metadata": {
            "tags": null
          },
          "name": "stdout",
          "output_type": "stream",
          "text": [
            "No steps provided.\n",
            "\n",
            "Washing clothes without washing machines is easy!\n",
            "\n",
            "First you need to get some warm water. Mix the warm water with some detergent. Second you can put the dirty clothes in it and let it stay wet for some time.\n",
            "\n",
            "During this period the stains will get loose and mixed with water.\n",
            "\n",
            "thereafter you can take clothes out, rub the dirt/stains with a soft brush to remove the stains if any.\n",
            "\n",
            "get the clothes mixed with water to get the detergent out of it. and then put it for drying on a rope.\n",
            "\n",
            "Enjoy the clean clothes.\n"
          ]
        }
      ],
      "source": [
        "# asking for a specific format\n",
        "text = \"\"\"\n",
        "Washing clothes without washing machines is easy!\n",
        "First you need to get some warm water. Mix the warm water with some detergent. Second you can put the dirty clothes in it and let it stay wet for some time.\n",
        "During this period the stains will get loose and mixed with water.\n",
        "thereafter you can take clothes out, rub the dirt/stains with a soft brush to remove the stains if any.\n",
        "get the clothes mixed with water to get the detergent out of it. and then put it for drying on a rope.\n",
        "Enjoy the clean clothes.\n",
        "\"\"\"\n",
        "\n",
        "prompt = f\"\"\"\n",
        "you will be provided with some text delimited by triple backticks.\n",
        "Rewrite those into a set of instructions in the following format only if contains a sequence of instructions:\n",
        "\n",
        "Step 1: ...\n",
        "Step 2: ....\n",
        "..\n",
        "Step N:...\n",
        "\n",
        "```{text}\n",
        "```\n",
        "\n",
        "if the text does not contain a sequence of instructions, then simply write 'No steps provided'\n",
        "\"\"\"\n",
        "response = generate_response(prompt)\n",
        "print(response)\n"
      ]
    },
    {
      "cell_type": "code",
      "execution_count": 24,
      "metadata": {
        "colab": {
          "base_uri": "https://localhost:8080/"
        },
        "id": "nAZGUBpTUrgv",
        "outputId": "eb239e4d-df08-43b9-f268-e4707969558f"
      },
      "outputs": [
        {
          "metadata": {
            "tags": null
          },
          "name": "stdout",
          "output_type": "stream",
          "text": [
            "No steps provided.\n",
            "\n",
            "The text does not contain a sequence of instructions.\n"
          ]
        }
      ],
      "source": [
        "# asking for a specific format\n",
        "text = \"\"\"\n",
        "THe morning today is amazing, the sun is looking bright in between clouds, the weather is pleasent and the wind is mindblowing. on a whole i am loving the day today.\n",
        "\"\"\"\n",
        "\n",
        "prompt = f\"\"\"\n",
        "you will be provided with some text delimited by triple backticks.\n",
        "Rewrite those into a set of instructions in the following format only if contains a sequence of instructions:\n",
        "\n",
        "Step 1: ...\n",
        "Step 2: ....\n",
        "..\n",
        "Step N:...\n",
        "\n",
        "```{text}\n",
        "```\n",
        "\n",
        "if the text does not contain a sequence of instructions, then simply write 'No steps provided'\n",
        "\"\"\"\n",
        "response = generate_response(prompt)\n",
        "print(response)\n"
      ]
    },
    {
      "cell_type": "markdown",
      "metadata": {
        "id": "6osQJS0czIu-"
      },
      "source": [
        "### Component: ALlow the model to process the outcome progressively"
      ]
    },
    {
      "cell_type": "code",
      "execution_count": 25,
      "metadata": {
        "id": "SGtXe-NfwsW0",
        "outputId": "962c1908-01e7-420a-b2c3-9dde20372391",
        "colab": {
          "base_uri": "https://localhost:8080/"
        }
      },
      "outputs": [
        {
          "metadata": {
            "tags": null
          },
          "name": "stdout",
          "output_type": "stream",
          "text": [
            "Sure, here's a summary of the text in 15 words:\n",
            "\n",
            "**English:** The morning today is amazing, with bright sunshine peeking through clouds, pleasant weather, and a strong wind.\n",
            "\n",
            "**French:** Le matin aujourd'hui est incroyable, le soleil brillant entre les nuages, le temps fantastique et le vent incroyable.\n",
            "\n",
            "**Names in French:**\n",
            "\n",
            "- The morning\n",
            "- Sun\n",
            "- Clouds\n",
            "- Weather\n",
            "- Wind\n"
          ]
        }
      ],
      "source": [
        "text = \"\"\"\n",
        "THe morning today is amazing, the sun is looking bright in between clouds, the weather is pleasent and the wind is mindblowing. on a whole i am loving the day today.\n",
        "\"\"\"\n",
        "\n",
        "prompt = f\"\"\" summarize the below text in 15 words, translate to french and list each name in the french summary, also createa json output.\n",
        "```{text}```\n",
        "\"\"\"\n",
        "\n",
        "response = generate_response(prompt)\n",
        "print(response)\n"
      ]
    },
    {
      "cell_type": "code",
      "execution_count": 26,
      "metadata": {
        "id": "ic51u_OxzGQN",
        "outputId": "41ff8826-54a5-420d-ec5e-547d0111c889",
        "colab": {
          "base_uri": "https://localhost:8080/"
        }
      },
      "outputs": [
        {
          "metadata": {
            "tags": null
          },
          "name": "stdout",
          "output_type": "stream",
          "text": [
            "**1. Summary**\n",
            "The morning today is amazing, with bright sunshine peeking through clouds and a pleasant breeze.\n",
            "\n",
            "**2. French Summary**\n",
            "Le matin aujourd'hui est incroyable, le soleil brillant entre les nuages, le temps étant parfait et le vent étant incroyable. J'aime beaucoup ce jour.\n",
            "\n",
            "**3. Names in the French Summary**\n",
            "- Jenny\n",
            "\n",
            "**4. JSON Object**\n",
            "```json\n",
            "{\n",
            "  \"french_summary\": \"Le matin aujourd'hui est incroyable, le soleil brillant entre les nuages, le temps étant parfait et le vent étant incroyable. J'aime beaucoup ce jour.\",\n",
            "  \"num_names\": 1\n",
            "}\n",
            "```\n"
          ]
        }
      ],
      "source": [
        "text = \"\"\"\n",
        "THe morning today is amazing, the sun is looking bright in between clouds, the weather is pleasent and the wind is mindblowing. on a whole i am loving the day today.\n",
        "I met Jenny today and we spent good time.\n",
        "\"\"\"\n",
        "\n",
        "prompt = f\"\"\"\n",
        "Perform the following tasks:\n",
        "1. Summarize the following text delimited by triple backticks in 15 words.\n",
        "2. translate the summary to French\n",
        "3. LIst each name in the french summary\n",
        "4. Output a json object that contains the following keys: french_summary, num_names.\n",
        "\n",
        "Text:\n",
        "```{text}```\n",
        "\"\"\"\n",
        "\n",
        "response = generate_response(prompt)\n",
        "print(response)\n"
      ]
    },
    {
      "cell_type": "code",
      "execution_count": 27,
      "metadata": {
        "colab": {
          "base_uri": "https://localhost:8080/"
        },
        "id": "-1WZs8Lg0SlZ",
        "outputId": "8458699e-4212-4712-d6a3-bedc068b08af"
      },
      "outputs": [
        {
          "metadata": {
            "tags": null
          },
          "name": "stdout",
          "output_type": "stream",
          "text": [
            "**Text:**\n",
            "<\n",
            "THe morning today is amazing, the sun is looking bright in between clouds, the weather is pleasent and the wind is mindblowing. on a whole i am loving the day today.\n",
            "I met Jenny today and we spent good time.\n",
            ">\n",
            "\n",
            "**Summary:**\n",
            "The morning today is beautiful with a clear sky and pleasant weather.\n",
            "\n",
            "**Translation:**\n",
            "N/A\n",
            "\n",
            "**Names:**\n",
            "- Jenny\n"
          ]
        }
      ],
      "source": [
        "text = \"\"\"\n",
        "THe morning today is amazing, the sun is looking bright in between clouds, the weather is pleasent and the wind is mindblowing. on a whole i am loving the day today.\n",
        "I met Jenny today and we spent good time.\n",
        "\"\"\"\n",
        "\n",
        "prompt = f\"\"\"\n",
        "Perform the following tasks:\n",
        "1. Summarize the following text delimited by <> in 15 words.\n",
        "2. translate the summary to French\n",
        "3. LIst each name in the french summary\n",
        "4. Output a json object that contains the following keys: french_summary, num_names.\n",
        "\n",
        "Use the following format:\n",
        "Text: <text to summarize>\n",
        "Summary: <summary >\n",
        "Tranlation: <Summary translation>\n",
        "Names: <list of names>\n",
        "Output JSON: <json with summary and num_names>\n",
        "\n",
        "Text:\n",
        "<{text}>\n",
        "\"\"\"\n",
        "\n",
        "response = generate_response(prompt)\n",
        "print(response)\n"
      ]
    },
    {
      "cell_type": "code",
      "execution_count": 28,
      "metadata": {
        "colab": {
          "base_uri": "https://localhost:8080/",
          "height": 53
        },
        "id": "BP-Z6_8m0w2t",
        "outputId": "6093240c-2a6f-457d-8c5b-f2ae8995ec01"
      },
      "outputs": [
        {
          "data": {
            "application/vnd.google.colaboratory.intrinsic+json": {
              "type": "string"
            },
            "text/plain": [
              "'Sure, the expression is True + True = True.\\n\\nIn boolean logic, the addition of two True values is always True. This is because adding two True values results in a True value, which is the same as the original True values.'"
            ]
          },
          "execution_count": 28,
          "metadata": {},
          "output_type": "execute_result"
        }
      ],
      "source": [
        "prompt = f\"\"\"\n",
        "\n",
        "Evaluate the following expression considering boolean logic (All Values are in boolean):\n",
        "  True + True = True\n",
        "\"\"\"\n",
        "generate_response(prompt)\n"
      ]
    },
    {
      "cell_type": "markdown",
      "metadata": {
        "id": "x3MoZILQWKSd"
      },
      "source": [
        "## Conversational App"
      ]
    },
    {
      "cell_type": "code",
      "source": [
        "# creating a function to get outcome\n",
        "def generate_response(messages,generator=generator,temperature=0,max_length=500):\n",
        "  response = generator(max_length=max_length, temperature=temperature,\n",
        "                       truncation=True,\n",
        "                       text_inputs=messages)\n",
        "  return response[0].get('generated_text')[1]['content']"
      ],
      "metadata": {
        "id": "Invv_npqIWn3"
      },
      "execution_count": 29,
      "outputs": []
    },
    {
      "cell_type": "code",
      "execution_count": null,
      "metadata": {
        "id": "zgHXbLb0bhxA",
        "outputId": "2bca96ed-7fa2-4080-b9d9-e4f0881e51ba",
        "colab": {
          "base_uri": "https://localhost:8080/"
        }
      },
      "outputs": [
        {
          "name": "stdout",
          "output_type": "stream",
          "text": [
            "You: hi\n"
          ]
        }
      ],
      "source": [
        "messages = []\n",
        "while True:\n",
        "    uinput = input(\"You: \")\n",
        "    #print(\"You: \",uinput)\n",
        "    if uinput.lower() in ['q','quit','exit']:\n",
        "        break\n",
        "    messages.append({\"role\":\"user\",\"content\":uinput})\n",
        "    response = generate_response(messages=messages)\n",
        "    print(f\"Bot: {response}\")\n",
        "    messages.append({\"role\":\"assistant\",\"content\":response})\n"
      ]
    },
    {
      "cell_type": "markdown",
      "metadata": {
        "id": "Gz1KJReWWKSe"
      },
      "source": [
        "## Thank You"
      ]
    },
    {
      "cell_type": "code",
      "source": [],
      "metadata": {
        "id": "YqGp4eYc6RP_"
      },
      "execution_count": null,
      "outputs": []
    }
  ],
  "metadata": {
    "colab": {
      "provenance": [],
      "include_colab_link": true
    },
    "kernelspec": {
      "display_name": "Python 3",
      "name": "python3"
    },
    "language_info": {
      "codemirror_mode": {
        "name": "ipython",
        "version": 3
      },
      "file_extension": ".py",
      "mimetype": "text/x-python",
      "name": "python",
      "nbconvert_exporter": "python",
      "pygments_lexer": "ipython3",
      "version": "3.10.9"
    },
    "widgets": {
      "application/vnd.jupyter.widget-state+json": {
        "384fdde0bb0d4d4388b9dba2e39919ed": {
          "model_module": "@jupyter-widgets/controls",
          "model_name": "HBoxModel",
          "model_module_version": "1.5.0",
          "state": {
            "_dom_classes": [],
            "_model_module": "@jupyter-widgets/controls",
            "_model_module_version": "1.5.0",
            "_model_name": "HBoxModel",
            "_view_count": null,
            "_view_module": "@jupyter-widgets/controls",
            "_view_module_version": "1.5.0",
            "_view_name": "HBoxView",
            "box_style": "",
            "children": [
              "IPY_MODEL_9994c793332c47a1a9f03306d8c271b7",
              "IPY_MODEL_a1d69bcb5345437b94667b60bfae2729",
              "IPY_MODEL_9368236df3ad4fe1be92593415680d2d"
            ],
            "layout": "IPY_MODEL_eb5fb4686a3347e28a7d9e65fe24765e"
          }
        },
        "9994c793332c47a1a9f03306d8c271b7": {
          "model_module": "@jupyter-widgets/controls",
          "model_name": "HTMLModel",
          "model_module_version": "1.5.0",
          "state": {
            "_dom_classes": [],
            "_model_module": "@jupyter-widgets/controls",
            "_model_module_version": "1.5.0",
            "_model_name": "HTMLModel",
            "_view_count": null,
            "_view_module": "@jupyter-widgets/controls",
            "_view_module_version": "1.5.0",
            "_view_name": "HTMLView",
            "description": "",
            "description_tooltip": null,
            "layout": "IPY_MODEL_a8490263cbdc411db22536d54ed08ab0",
            "placeholder": "​",
            "style": "IPY_MODEL_b14ac89008bc42eb94f43dfbd5dfb174",
            "value": "config.json: 100%"
          }
        },
        "a1d69bcb5345437b94667b60bfae2729": {
          "model_module": "@jupyter-widgets/controls",
          "model_name": "FloatProgressModel",
          "model_module_version": "1.5.0",
          "state": {
            "_dom_classes": [],
            "_model_module": "@jupyter-widgets/controls",
            "_model_module_version": "1.5.0",
            "_model_name": "FloatProgressModel",
            "_view_count": null,
            "_view_module": "@jupyter-widgets/controls",
            "_view_module_version": "1.5.0",
            "_view_name": "ProgressView",
            "bar_style": "success",
            "description": "",
            "description_tooltip": null,
            "layout": "IPY_MODEL_e3c5940f677d4b259b4bffc05569bf41",
            "max": 627,
            "min": 0,
            "orientation": "horizontal",
            "style": "IPY_MODEL_629d5d3cb51341daa5a2b1b7114438d3",
            "value": 627
          }
        },
        "9368236df3ad4fe1be92593415680d2d": {
          "model_module": "@jupyter-widgets/controls",
          "model_name": "HTMLModel",
          "model_module_version": "1.5.0",
          "state": {
            "_dom_classes": [],
            "_model_module": "@jupyter-widgets/controls",
            "_model_module_version": "1.5.0",
            "_model_name": "HTMLModel",
            "_view_count": null,
            "_view_module": "@jupyter-widgets/controls",
            "_view_module_version": "1.5.0",
            "_view_name": "HTMLView",
            "description": "",
            "description_tooltip": null,
            "layout": "IPY_MODEL_5ee77f800e7e4d429a2e79634b8996a9",
            "placeholder": "​",
            "style": "IPY_MODEL_2386f593aca6437b90e0891925e13070",
            "value": " 627/627 [00:00&lt;00:00, 11.8kB/s]"
          }
        },
        "eb5fb4686a3347e28a7d9e65fe24765e": {
          "model_module": "@jupyter-widgets/base",
          "model_name": "LayoutModel",
          "model_module_version": "1.2.0",
          "state": {
            "_model_module": "@jupyter-widgets/base",
            "_model_module_version": "1.2.0",
            "_model_name": "LayoutModel",
            "_view_count": null,
            "_view_module": "@jupyter-widgets/base",
            "_view_module_version": "1.2.0",
            "_view_name": "LayoutView",
            "align_content": null,
            "align_items": null,
            "align_self": null,
            "border": null,
            "bottom": null,
            "display": null,
            "flex": null,
            "flex_flow": null,
            "grid_area": null,
            "grid_auto_columns": null,
            "grid_auto_flow": null,
            "grid_auto_rows": null,
            "grid_column": null,
            "grid_gap": null,
            "grid_row": null,
            "grid_template_areas": null,
            "grid_template_columns": null,
            "grid_template_rows": null,
            "height": null,
            "justify_content": null,
            "justify_items": null,
            "left": null,
            "margin": null,
            "max_height": null,
            "max_width": null,
            "min_height": null,
            "min_width": null,
            "object_fit": null,
            "object_position": null,
            "order": null,
            "overflow": null,
            "overflow_x": null,
            "overflow_y": null,
            "padding": null,
            "right": null,
            "top": null,
            "visibility": null,
            "width": null
          }
        },
        "a8490263cbdc411db22536d54ed08ab0": {
          "model_module": "@jupyter-widgets/base",
          "model_name": "LayoutModel",
          "model_module_version": "1.2.0",
          "state": {
            "_model_module": "@jupyter-widgets/base",
            "_model_module_version": "1.2.0",
            "_model_name": "LayoutModel",
            "_view_count": null,
            "_view_module": "@jupyter-widgets/base",
            "_view_module_version": "1.2.0",
            "_view_name": "LayoutView",
            "align_content": null,
            "align_items": null,
            "align_self": null,
            "border": null,
            "bottom": null,
            "display": null,
            "flex": null,
            "flex_flow": null,
            "grid_area": null,
            "grid_auto_columns": null,
            "grid_auto_flow": null,
            "grid_auto_rows": null,
            "grid_column": null,
            "grid_gap": null,
            "grid_row": null,
            "grid_template_areas": null,
            "grid_template_columns": null,
            "grid_template_rows": null,
            "height": null,
            "justify_content": null,
            "justify_items": null,
            "left": null,
            "margin": null,
            "max_height": null,
            "max_width": null,
            "min_height": null,
            "min_width": null,
            "object_fit": null,
            "object_position": null,
            "order": null,
            "overflow": null,
            "overflow_x": null,
            "overflow_y": null,
            "padding": null,
            "right": null,
            "top": null,
            "visibility": null,
            "width": null
          }
        },
        "b14ac89008bc42eb94f43dfbd5dfb174": {
          "model_module": "@jupyter-widgets/controls",
          "model_name": "DescriptionStyleModel",
          "model_module_version": "1.5.0",
          "state": {
            "_model_module": "@jupyter-widgets/controls",
            "_model_module_version": "1.5.0",
            "_model_name": "DescriptionStyleModel",
            "_view_count": null,
            "_view_module": "@jupyter-widgets/base",
            "_view_module_version": "1.2.0",
            "_view_name": "StyleView",
            "description_width": ""
          }
        },
        "e3c5940f677d4b259b4bffc05569bf41": {
          "model_module": "@jupyter-widgets/base",
          "model_name": "LayoutModel",
          "model_module_version": "1.2.0",
          "state": {
            "_model_module": "@jupyter-widgets/base",
            "_model_module_version": "1.2.0",
            "_model_name": "LayoutModel",
            "_view_count": null,
            "_view_module": "@jupyter-widgets/base",
            "_view_module_version": "1.2.0",
            "_view_name": "LayoutView",
            "align_content": null,
            "align_items": null,
            "align_self": null,
            "border": null,
            "bottom": null,
            "display": null,
            "flex": null,
            "flex_flow": null,
            "grid_area": null,
            "grid_auto_columns": null,
            "grid_auto_flow": null,
            "grid_auto_rows": null,
            "grid_column": null,
            "grid_gap": null,
            "grid_row": null,
            "grid_template_areas": null,
            "grid_template_columns": null,
            "grid_template_rows": null,
            "height": null,
            "justify_content": null,
            "justify_items": null,
            "left": null,
            "margin": null,
            "max_height": null,
            "max_width": null,
            "min_height": null,
            "min_width": null,
            "object_fit": null,
            "object_position": null,
            "order": null,
            "overflow": null,
            "overflow_x": null,
            "overflow_y": null,
            "padding": null,
            "right": null,
            "top": null,
            "visibility": null,
            "width": null
          }
        },
        "629d5d3cb51341daa5a2b1b7114438d3": {
          "model_module": "@jupyter-widgets/controls",
          "model_name": "ProgressStyleModel",
          "model_module_version": "1.5.0",
          "state": {
            "_model_module": "@jupyter-widgets/controls",
            "_model_module_version": "1.5.0",
            "_model_name": "ProgressStyleModel",
            "_view_count": null,
            "_view_module": "@jupyter-widgets/base",
            "_view_module_version": "1.2.0",
            "_view_name": "StyleView",
            "bar_color": null,
            "description_width": ""
          }
        },
        "5ee77f800e7e4d429a2e79634b8996a9": {
          "model_module": "@jupyter-widgets/base",
          "model_name": "LayoutModel",
          "model_module_version": "1.2.0",
          "state": {
            "_model_module": "@jupyter-widgets/base",
            "_model_module_version": "1.2.0",
            "_model_name": "LayoutModel",
            "_view_count": null,
            "_view_module": "@jupyter-widgets/base",
            "_view_module_version": "1.2.0",
            "_view_name": "LayoutView",
            "align_content": null,
            "align_items": null,
            "align_self": null,
            "border": null,
            "bottom": null,
            "display": null,
            "flex": null,
            "flex_flow": null,
            "grid_area": null,
            "grid_auto_columns": null,
            "grid_auto_flow": null,
            "grid_auto_rows": null,
            "grid_column": null,
            "grid_gap": null,
            "grid_row": null,
            "grid_template_areas": null,
            "grid_template_columns": null,
            "grid_template_rows": null,
            "height": null,
            "justify_content": null,
            "justify_items": null,
            "left": null,
            "margin": null,
            "max_height": null,
            "max_width": null,
            "min_height": null,
            "min_width": null,
            "object_fit": null,
            "object_position": null,
            "order": null,
            "overflow": null,
            "overflow_x": null,
            "overflow_y": null,
            "padding": null,
            "right": null,
            "top": null,
            "visibility": null,
            "width": null
          }
        },
        "2386f593aca6437b90e0891925e13070": {
          "model_module": "@jupyter-widgets/controls",
          "model_name": "DescriptionStyleModel",
          "model_module_version": "1.5.0",
          "state": {
            "_model_module": "@jupyter-widgets/controls",
            "_model_module_version": "1.5.0",
            "_model_name": "DescriptionStyleModel",
            "_view_count": null,
            "_view_module": "@jupyter-widgets/base",
            "_view_module_version": "1.2.0",
            "_view_name": "StyleView",
            "description_width": ""
          }
        },
        "ea693e80768c4932bbb9aa7bb8873a39": {
          "model_module": "@jupyter-widgets/controls",
          "model_name": "HBoxModel",
          "model_module_version": "1.5.0",
          "state": {
            "_dom_classes": [],
            "_model_module": "@jupyter-widgets/controls",
            "_model_module_version": "1.5.0",
            "_model_name": "HBoxModel",
            "_view_count": null,
            "_view_module": "@jupyter-widgets/controls",
            "_view_module_version": "1.5.0",
            "_view_name": "HBoxView",
            "box_style": "",
            "children": [
              "IPY_MODEL_e6d108f79ad54fd4afac30473305f407",
              "IPY_MODEL_f3f7337a4e4b4c268dab2accb77ec388",
              "IPY_MODEL_a8eab5a2a0084101bf9c3772cacb5a5b"
            ],
            "layout": "IPY_MODEL_47a5615497fb4c5f91bec600936d2997"
          }
        },
        "e6d108f79ad54fd4afac30473305f407": {
          "model_module": "@jupyter-widgets/controls",
          "model_name": "HTMLModel",
          "model_module_version": "1.5.0",
          "state": {
            "_dom_classes": [],
            "_model_module": "@jupyter-widgets/controls",
            "_model_module_version": "1.5.0",
            "_model_name": "HTMLModel",
            "_view_count": null,
            "_view_module": "@jupyter-widgets/controls",
            "_view_module_version": "1.5.0",
            "_view_name": "HTMLView",
            "description": "",
            "description_tooltip": null,
            "layout": "IPY_MODEL_440135ef57e04306b97909dcc99ef30d",
            "placeholder": "​",
            "style": "IPY_MODEL_e3bc816ec57241acbdd211cc6ed7fd39",
            "value": "model.safetensors.index.json: 100%"
          }
        },
        "f3f7337a4e4b4c268dab2accb77ec388": {
          "model_module": "@jupyter-widgets/controls",
          "model_name": "FloatProgressModel",
          "model_module_version": "1.5.0",
          "state": {
            "_dom_classes": [],
            "_model_module": "@jupyter-widgets/controls",
            "_model_module_version": "1.5.0",
            "_model_name": "FloatProgressModel",
            "_view_count": null,
            "_view_module": "@jupyter-widgets/controls",
            "_view_module_version": "1.5.0",
            "_view_name": "ProgressView",
            "bar_style": "success",
            "description": "",
            "description_tooltip": null,
            "layout": "IPY_MODEL_5c61fd64174a46d082a7603b89731a79",
            "max": 13489,
            "min": 0,
            "orientation": "horizontal",
            "style": "IPY_MODEL_c7e2802421184298848144971b5833c8",
            "value": 13489
          }
        },
        "a8eab5a2a0084101bf9c3772cacb5a5b": {
          "model_module": "@jupyter-widgets/controls",
          "model_name": "HTMLModel",
          "model_module_version": "1.5.0",
          "state": {
            "_dom_classes": [],
            "_model_module": "@jupyter-widgets/controls",
            "_model_module_version": "1.5.0",
            "_model_name": "HTMLModel",
            "_view_count": null,
            "_view_module": "@jupyter-widgets/controls",
            "_view_module_version": "1.5.0",
            "_view_name": "HTMLView",
            "description": "",
            "description_tooltip": null,
            "layout": "IPY_MODEL_ccd476b838194354b74cb0076e6e2eb6",
            "placeholder": "​",
            "style": "IPY_MODEL_ca31f11b13de4c1c9029d33645a694e0",
            "value": " 13.5k/13.5k [00:00&lt;00:00, 317kB/s]"
          }
        },
        "47a5615497fb4c5f91bec600936d2997": {
          "model_module": "@jupyter-widgets/base",
          "model_name": "LayoutModel",
          "model_module_version": "1.2.0",
          "state": {
            "_model_module": "@jupyter-widgets/base",
            "_model_module_version": "1.2.0",
            "_model_name": "LayoutModel",
            "_view_count": null,
            "_view_module": "@jupyter-widgets/base",
            "_view_module_version": "1.2.0",
            "_view_name": "LayoutView",
            "align_content": null,
            "align_items": null,
            "align_self": null,
            "border": null,
            "bottom": null,
            "display": null,
            "flex": null,
            "flex_flow": null,
            "grid_area": null,
            "grid_auto_columns": null,
            "grid_auto_flow": null,
            "grid_auto_rows": null,
            "grid_column": null,
            "grid_gap": null,
            "grid_row": null,
            "grid_template_areas": null,
            "grid_template_columns": null,
            "grid_template_rows": null,
            "height": null,
            "justify_content": null,
            "justify_items": null,
            "left": null,
            "margin": null,
            "max_height": null,
            "max_width": null,
            "min_height": null,
            "min_width": null,
            "object_fit": null,
            "object_position": null,
            "order": null,
            "overflow": null,
            "overflow_x": null,
            "overflow_y": null,
            "padding": null,
            "right": null,
            "top": null,
            "visibility": null,
            "width": null
          }
        },
        "440135ef57e04306b97909dcc99ef30d": {
          "model_module": "@jupyter-widgets/base",
          "model_name": "LayoutModel",
          "model_module_version": "1.2.0",
          "state": {
            "_model_module": "@jupyter-widgets/base",
            "_model_module_version": "1.2.0",
            "_model_name": "LayoutModel",
            "_view_count": null,
            "_view_module": "@jupyter-widgets/base",
            "_view_module_version": "1.2.0",
            "_view_name": "LayoutView",
            "align_content": null,
            "align_items": null,
            "align_self": null,
            "border": null,
            "bottom": null,
            "display": null,
            "flex": null,
            "flex_flow": null,
            "grid_area": null,
            "grid_auto_columns": null,
            "grid_auto_flow": null,
            "grid_auto_rows": null,
            "grid_column": null,
            "grid_gap": null,
            "grid_row": null,
            "grid_template_areas": null,
            "grid_template_columns": null,
            "grid_template_rows": null,
            "height": null,
            "justify_content": null,
            "justify_items": null,
            "left": null,
            "margin": null,
            "max_height": null,
            "max_width": null,
            "min_height": null,
            "min_width": null,
            "object_fit": null,
            "object_position": null,
            "order": null,
            "overflow": null,
            "overflow_x": null,
            "overflow_y": null,
            "padding": null,
            "right": null,
            "top": null,
            "visibility": null,
            "width": null
          }
        },
        "e3bc816ec57241acbdd211cc6ed7fd39": {
          "model_module": "@jupyter-widgets/controls",
          "model_name": "DescriptionStyleModel",
          "model_module_version": "1.5.0",
          "state": {
            "_model_module": "@jupyter-widgets/controls",
            "_model_module_version": "1.5.0",
            "_model_name": "DescriptionStyleModel",
            "_view_count": null,
            "_view_module": "@jupyter-widgets/base",
            "_view_module_version": "1.2.0",
            "_view_name": "StyleView",
            "description_width": ""
          }
        },
        "5c61fd64174a46d082a7603b89731a79": {
          "model_module": "@jupyter-widgets/base",
          "model_name": "LayoutModel",
          "model_module_version": "1.2.0",
          "state": {
            "_model_module": "@jupyter-widgets/base",
            "_model_module_version": "1.2.0",
            "_model_name": "LayoutModel",
            "_view_count": null,
            "_view_module": "@jupyter-widgets/base",
            "_view_module_version": "1.2.0",
            "_view_name": "LayoutView",
            "align_content": null,
            "align_items": null,
            "align_self": null,
            "border": null,
            "bottom": null,
            "display": null,
            "flex": null,
            "flex_flow": null,
            "grid_area": null,
            "grid_auto_columns": null,
            "grid_auto_flow": null,
            "grid_auto_rows": null,
            "grid_column": null,
            "grid_gap": null,
            "grid_row": null,
            "grid_template_areas": null,
            "grid_template_columns": null,
            "grid_template_rows": null,
            "height": null,
            "justify_content": null,
            "justify_items": null,
            "left": null,
            "margin": null,
            "max_height": null,
            "max_width": null,
            "min_height": null,
            "min_width": null,
            "object_fit": null,
            "object_position": null,
            "order": null,
            "overflow": null,
            "overflow_x": null,
            "overflow_y": null,
            "padding": null,
            "right": null,
            "top": null,
            "visibility": null,
            "width": null
          }
        },
        "c7e2802421184298848144971b5833c8": {
          "model_module": "@jupyter-widgets/controls",
          "model_name": "ProgressStyleModel",
          "model_module_version": "1.5.0",
          "state": {
            "_model_module": "@jupyter-widgets/controls",
            "_model_module_version": "1.5.0",
            "_model_name": "ProgressStyleModel",
            "_view_count": null,
            "_view_module": "@jupyter-widgets/base",
            "_view_module_version": "1.2.0",
            "_view_name": "StyleView",
            "bar_color": null,
            "description_width": ""
          }
        },
        "ccd476b838194354b74cb0076e6e2eb6": {
          "model_module": "@jupyter-widgets/base",
          "model_name": "LayoutModel",
          "model_module_version": "1.2.0",
          "state": {
            "_model_module": "@jupyter-widgets/base",
            "_model_module_version": "1.2.0",
            "_model_name": "LayoutModel",
            "_view_count": null,
            "_view_module": "@jupyter-widgets/base",
            "_view_module_version": "1.2.0",
            "_view_name": "LayoutView",
            "align_content": null,
            "align_items": null,
            "align_self": null,
            "border": null,
            "bottom": null,
            "display": null,
            "flex": null,
            "flex_flow": null,
            "grid_area": null,
            "grid_auto_columns": null,
            "grid_auto_flow": null,
            "grid_auto_rows": null,
            "grid_column": null,
            "grid_gap": null,
            "grid_row": null,
            "grid_template_areas": null,
            "grid_template_columns": null,
            "grid_template_rows": null,
            "height": null,
            "justify_content": null,
            "justify_items": null,
            "left": null,
            "margin": null,
            "max_height": null,
            "max_width": null,
            "min_height": null,
            "min_width": null,
            "object_fit": null,
            "object_position": null,
            "order": null,
            "overflow": null,
            "overflow_x": null,
            "overflow_y": null,
            "padding": null,
            "right": null,
            "top": null,
            "visibility": null,
            "width": null
          }
        },
        "ca31f11b13de4c1c9029d33645a694e0": {
          "model_module": "@jupyter-widgets/controls",
          "model_name": "DescriptionStyleModel",
          "model_module_version": "1.5.0",
          "state": {
            "_model_module": "@jupyter-widgets/controls",
            "_model_module_version": "1.5.0",
            "_model_name": "DescriptionStyleModel",
            "_view_count": null,
            "_view_module": "@jupyter-widgets/base",
            "_view_module_version": "1.2.0",
            "_view_name": "StyleView",
            "description_width": ""
          }
        },
        "a71d818cf0b64c34aca6ba04f44aa357": {
          "model_module": "@jupyter-widgets/controls",
          "model_name": "HBoxModel",
          "model_module_version": "1.5.0",
          "state": {
            "_dom_classes": [],
            "_model_module": "@jupyter-widgets/controls",
            "_model_module_version": "1.5.0",
            "_model_name": "HBoxModel",
            "_view_count": null,
            "_view_module": "@jupyter-widgets/controls",
            "_view_module_version": "1.5.0",
            "_view_name": "HBoxView",
            "box_style": "",
            "children": [
              "IPY_MODEL_856d66beb8e44243916dbf0cc700ac44",
              "IPY_MODEL_2ec76de577dc48af859b431f3b6fae57",
              "IPY_MODEL_2995947882414902b4639fd0b5580ba4"
            ],
            "layout": "IPY_MODEL_a15eebed2f9b4697ab94a5b0688a0d7e"
          }
        },
        "856d66beb8e44243916dbf0cc700ac44": {
          "model_module": "@jupyter-widgets/controls",
          "model_name": "HTMLModel",
          "model_module_version": "1.5.0",
          "state": {
            "_dom_classes": [],
            "_model_module": "@jupyter-widgets/controls",
            "_model_module_version": "1.5.0",
            "_model_name": "HTMLModel",
            "_view_count": null,
            "_view_module": "@jupyter-widgets/controls",
            "_view_module_version": "1.5.0",
            "_view_name": "HTMLView",
            "description": "",
            "description_tooltip": null,
            "layout": "IPY_MODEL_243f2fbb417b44a18919eab46bbab5a9",
            "placeholder": "​",
            "style": "IPY_MODEL_b7ba1d5d4c6149bdb53fc57a3c5754b9",
            "value": "Downloading shards: 100%"
          }
        },
        "2ec76de577dc48af859b431f3b6fae57": {
          "model_module": "@jupyter-widgets/controls",
          "model_name": "FloatProgressModel",
          "model_module_version": "1.5.0",
          "state": {
            "_dom_classes": [],
            "_model_module": "@jupyter-widgets/controls",
            "_model_module_version": "1.5.0",
            "_model_name": "FloatProgressModel",
            "_view_count": null,
            "_view_module": "@jupyter-widgets/controls",
            "_view_module_version": "1.5.0",
            "_view_name": "ProgressView",
            "bar_style": "success",
            "description": "",
            "description_tooltip": null,
            "layout": "IPY_MODEL_ba8945ca3de948499d6e1d46a34e4661",
            "max": 2,
            "min": 0,
            "orientation": "horizontal",
            "style": "IPY_MODEL_4ce440cffb154d4f891baed8d1c28a49",
            "value": 2
          }
        },
        "2995947882414902b4639fd0b5580ba4": {
          "model_module": "@jupyter-widgets/controls",
          "model_name": "HTMLModel",
          "model_module_version": "1.5.0",
          "state": {
            "_dom_classes": [],
            "_model_module": "@jupyter-widgets/controls",
            "_model_module_version": "1.5.0",
            "_model_name": "HTMLModel",
            "_view_count": null,
            "_view_module": "@jupyter-widgets/controls",
            "_view_module_version": "1.5.0",
            "_view_name": "HTMLView",
            "description": "",
            "description_tooltip": null,
            "layout": "IPY_MODEL_c93f0baa1ae34136bfce2224abe963fb",
            "placeholder": "​",
            "style": "IPY_MODEL_2ac5ea0f04774eaabbb7d82debd25242",
            "value": " 2/2 [00:43&lt;00:00, 17.97s/it]"
          }
        },
        "a15eebed2f9b4697ab94a5b0688a0d7e": {
          "model_module": "@jupyter-widgets/base",
          "model_name": "LayoutModel",
          "model_module_version": "1.2.0",
          "state": {
            "_model_module": "@jupyter-widgets/base",
            "_model_module_version": "1.2.0",
            "_model_name": "LayoutModel",
            "_view_count": null,
            "_view_module": "@jupyter-widgets/base",
            "_view_module_version": "1.2.0",
            "_view_name": "LayoutView",
            "align_content": null,
            "align_items": null,
            "align_self": null,
            "border": null,
            "bottom": null,
            "display": null,
            "flex": null,
            "flex_flow": null,
            "grid_area": null,
            "grid_auto_columns": null,
            "grid_auto_flow": null,
            "grid_auto_rows": null,
            "grid_column": null,
            "grid_gap": null,
            "grid_row": null,
            "grid_template_areas": null,
            "grid_template_columns": null,
            "grid_template_rows": null,
            "height": null,
            "justify_content": null,
            "justify_items": null,
            "left": null,
            "margin": null,
            "max_height": null,
            "max_width": null,
            "min_height": null,
            "min_width": null,
            "object_fit": null,
            "object_position": null,
            "order": null,
            "overflow": null,
            "overflow_x": null,
            "overflow_y": null,
            "padding": null,
            "right": null,
            "top": null,
            "visibility": null,
            "width": null
          }
        },
        "243f2fbb417b44a18919eab46bbab5a9": {
          "model_module": "@jupyter-widgets/base",
          "model_name": "LayoutModel",
          "model_module_version": "1.2.0",
          "state": {
            "_model_module": "@jupyter-widgets/base",
            "_model_module_version": "1.2.0",
            "_model_name": "LayoutModel",
            "_view_count": null,
            "_view_module": "@jupyter-widgets/base",
            "_view_module_version": "1.2.0",
            "_view_name": "LayoutView",
            "align_content": null,
            "align_items": null,
            "align_self": null,
            "border": null,
            "bottom": null,
            "display": null,
            "flex": null,
            "flex_flow": null,
            "grid_area": null,
            "grid_auto_columns": null,
            "grid_auto_flow": null,
            "grid_auto_rows": null,
            "grid_column": null,
            "grid_gap": null,
            "grid_row": null,
            "grid_template_areas": null,
            "grid_template_columns": null,
            "grid_template_rows": null,
            "height": null,
            "justify_content": null,
            "justify_items": null,
            "left": null,
            "margin": null,
            "max_height": null,
            "max_width": null,
            "min_height": null,
            "min_width": null,
            "object_fit": null,
            "object_position": null,
            "order": null,
            "overflow": null,
            "overflow_x": null,
            "overflow_y": null,
            "padding": null,
            "right": null,
            "top": null,
            "visibility": null,
            "width": null
          }
        },
        "b7ba1d5d4c6149bdb53fc57a3c5754b9": {
          "model_module": "@jupyter-widgets/controls",
          "model_name": "DescriptionStyleModel",
          "model_module_version": "1.5.0",
          "state": {
            "_model_module": "@jupyter-widgets/controls",
            "_model_module_version": "1.5.0",
            "_model_name": "DescriptionStyleModel",
            "_view_count": null,
            "_view_module": "@jupyter-widgets/base",
            "_view_module_version": "1.2.0",
            "_view_name": "StyleView",
            "description_width": ""
          }
        },
        "ba8945ca3de948499d6e1d46a34e4661": {
          "model_module": "@jupyter-widgets/base",
          "model_name": "LayoutModel",
          "model_module_version": "1.2.0",
          "state": {
            "_model_module": "@jupyter-widgets/base",
            "_model_module_version": "1.2.0",
            "_model_name": "LayoutModel",
            "_view_count": null,
            "_view_module": "@jupyter-widgets/base",
            "_view_module_version": "1.2.0",
            "_view_name": "LayoutView",
            "align_content": null,
            "align_items": null,
            "align_self": null,
            "border": null,
            "bottom": null,
            "display": null,
            "flex": null,
            "flex_flow": null,
            "grid_area": null,
            "grid_auto_columns": null,
            "grid_auto_flow": null,
            "grid_auto_rows": null,
            "grid_column": null,
            "grid_gap": null,
            "grid_row": null,
            "grid_template_areas": null,
            "grid_template_columns": null,
            "grid_template_rows": null,
            "height": null,
            "justify_content": null,
            "justify_items": null,
            "left": null,
            "margin": null,
            "max_height": null,
            "max_width": null,
            "min_height": null,
            "min_width": null,
            "object_fit": null,
            "object_position": null,
            "order": null,
            "overflow": null,
            "overflow_x": null,
            "overflow_y": null,
            "padding": null,
            "right": null,
            "top": null,
            "visibility": null,
            "width": null
          }
        },
        "4ce440cffb154d4f891baed8d1c28a49": {
          "model_module": "@jupyter-widgets/controls",
          "model_name": "ProgressStyleModel",
          "model_module_version": "1.5.0",
          "state": {
            "_model_module": "@jupyter-widgets/controls",
            "_model_module_version": "1.5.0",
            "_model_name": "ProgressStyleModel",
            "_view_count": null,
            "_view_module": "@jupyter-widgets/base",
            "_view_module_version": "1.2.0",
            "_view_name": "StyleView",
            "bar_color": null,
            "description_width": ""
          }
        },
        "c93f0baa1ae34136bfce2224abe963fb": {
          "model_module": "@jupyter-widgets/base",
          "model_name": "LayoutModel",
          "model_module_version": "1.2.0",
          "state": {
            "_model_module": "@jupyter-widgets/base",
            "_model_module_version": "1.2.0",
            "_model_name": "LayoutModel",
            "_view_count": null,
            "_view_module": "@jupyter-widgets/base",
            "_view_module_version": "1.2.0",
            "_view_name": "LayoutView",
            "align_content": null,
            "align_items": null,
            "align_self": null,
            "border": null,
            "bottom": null,
            "display": null,
            "flex": null,
            "flex_flow": null,
            "grid_area": null,
            "grid_auto_columns": null,
            "grid_auto_flow": null,
            "grid_auto_rows": null,
            "grid_column": null,
            "grid_gap": null,
            "grid_row": null,
            "grid_template_areas": null,
            "grid_template_columns": null,
            "grid_template_rows": null,
            "height": null,
            "justify_content": null,
            "justify_items": null,
            "left": null,
            "margin": null,
            "max_height": null,
            "max_width": null,
            "min_height": null,
            "min_width": null,
            "object_fit": null,
            "object_position": null,
            "order": null,
            "overflow": null,
            "overflow_x": null,
            "overflow_y": null,
            "padding": null,
            "right": null,
            "top": null,
            "visibility": null,
            "width": null
          }
        },
        "2ac5ea0f04774eaabbb7d82debd25242": {
          "model_module": "@jupyter-widgets/controls",
          "model_name": "DescriptionStyleModel",
          "model_module_version": "1.5.0",
          "state": {
            "_model_module": "@jupyter-widgets/controls",
            "_model_module_version": "1.5.0",
            "_model_name": "DescriptionStyleModel",
            "_view_count": null,
            "_view_module": "@jupyter-widgets/base",
            "_view_module_version": "1.2.0",
            "_view_name": "StyleView",
            "description_width": ""
          }
        },
        "da6f2340bfa74c1c86849769a7aa3c7c": {
          "model_module": "@jupyter-widgets/controls",
          "model_name": "HBoxModel",
          "model_module_version": "1.5.0",
          "state": {
            "_dom_classes": [],
            "_model_module": "@jupyter-widgets/controls",
            "_model_module_version": "1.5.0",
            "_model_name": "HBoxModel",
            "_view_count": null,
            "_view_module": "@jupyter-widgets/controls",
            "_view_module_version": "1.5.0",
            "_view_name": "HBoxView",
            "box_style": "",
            "children": [
              "IPY_MODEL_e853283a4df348839d4c0298d08b4231",
              "IPY_MODEL_5ba23902970f4bf883edcf31caedf3d8",
              "IPY_MODEL_b38362a44a504acb8bd69e9d1eea2354"
            ],
            "layout": "IPY_MODEL_ccb8673d97054e5aab8403346e28e7d9"
          }
        },
        "e853283a4df348839d4c0298d08b4231": {
          "model_module": "@jupyter-widgets/controls",
          "model_name": "HTMLModel",
          "model_module_version": "1.5.0",
          "state": {
            "_dom_classes": [],
            "_model_module": "@jupyter-widgets/controls",
            "_model_module_version": "1.5.0",
            "_model_name": "HTMLModel",
            "_view_count": null,
            "_view_module": "@jupyter-widgets/controls",
            "_view_module_version": "1.5.0",
            "_view_name": "HTMLView",
            "description": "",
            "description_tooltip": null,
            "layout": "IPY_MODEL_6e4f048101194dd9af277cfb7383307f",
            "placeholder": "​",
            "style": "IPY_MODEL_c6a80940d9ba423c9c22a30dca83bfb3",
            "value": "model-00001-of-00002.safetensors: 100%"
          }
        },
        "5ba23902970f4bf883edcf31caedf3d8": {
          "model_module": "@jupyter-widgets/controls",
          "model_name": "FloatProgressModel",
          "model_module_version": "1.5.0",
          "state": {
            "_dom_classes": [],
            "_model_module": "@jupyter-widgets/controls",
            "_model_module_version": "1.5.0",
            "_model_name": "FloatProgressModel",
            "_view_count": null,
            "_view_module": "@jupyter-widgets/controls",
            "_view_module_version": "1.5.0",
            "_view_name": "ProgressView",
            "bar_style": "success",
            "description": "",
            "description_tooltip": null,
            "layout": "IPY_MODEL_2f2cb4db895c4e05b5faef222c91a812",
            "max": 4945242264,
            "min": 0,
            "orientation": "horizontal",
            "style": "IPY_MODEL_40e97a516e46432b9009340543808a69",
            "value": 4945242264
          }
        },
        "b38362a44a504acb8bd69e9d1eea2354": {
          "model_module": "@jupyter-widgets/controls",
          "model_name": "HTMLModel",
          "model_module_version": "1.5.0",
          "state": {
            "_dom_classes": [],
            "_model_module": "@jupyter-widgets/controls",
            "_model_module_version": "1.5.0",
            "_model_name": "HTMLModel",
            "_view_count": null,
            "_view_module": "@jupyter-widgets/controls",
            "_view_module_version": "1.5.0",
            "_view_name": "HTMLView",
            "description": "",
            "description_tooltip": null,
            "layout": "IPY_MODEL_e61c215eadbb4087a0d04539b768cacd",
            "placeholder": "​",
            "style": "IPY_MODEL_7612fb30cf7b447ab5143eca374972ec",
            "value": " 4.95G/4.95G [00:42&lt;00:00, 188MB/s]"
          }
        },
        "ccb8673d97054e5aab8403346e28e7d9": {
          "model_module": "@jupyter-widgets/base",
          "model_name": "LayoutModel",
          "model_module_version": "1.2.0",
          "state": {
            "_model_module": "@jupyter-widgets/base",
            "_model_module_version": "1.2.0",
            "_model_name": "LayoutModel",
            "_view_count": null,
            "_view_module": "@jupyter-widgets/base",
            "_view_module_version": "1.2.0",
            "_view_name": "LayoutView",
            "align_content": null,
            "align_items": null,
            "align_self": null,
            "border": null,
            "bottom": null,
            "display": null,
            "flex": null,
            "flex_flow": null,
            "grid_area": null,
            "grid_auto_columns": null,
            "grid_auto_flow": null,
            "grid_auto_rows": null,
            "grid_column": null,
            "grid_gap": null,
            "grid_row": null,
            "grid_template_areas": null,
            "grid_template_columns": null,
            "grid_template_rows": null,
            "height": null,
            "justify_content": null,
            "justify_items": null,
            "left": null,
            "margin": null,
            "max_height": null,
            "max_width": null,
            "min_height": null,
            "min_width": null,
            "object_fit": null,
            "object_position": null,
            "order": null,
            "overflow": null,
            "overflow_x": null,
            "overflow_y": null,
            "padding": null,
            "right": null,
            "top": null,
            "visibility": null,
            "width": null
          }
        },
        "6e4f048101194dd9af277cfb7383307f": {
          "model_module": "@jupyter-widgets/base",
          "model_name": "LayoutModel",
          "model_module_version": "1.2.0",
          "state": {
            "_model_module": "@jupyter-widgets/base",
            "_model_module_version": "1.2.0",
            "_model_name": "LayoutModel",
            "_view_count": null,
            "_view_module": "@jupyter-widgets/base",
            "_view_module_version": "1.2.0",
            "_view_name": "LayoutView",
            "align_content": null,
            "align_items": null,
            "align_self": null,
            "border": null,
            "bottom": null,
            "display": null,
            "flex": null,
            "flex_flow": null,
            "grid_area": null,
            "grid_auto_columns": null,
            "grid_auto_flow": null,
            "grid_auto_rows": null,
            "grid_column": null,
            "grid_gap": null,
            "grid_row": null,
            "grid_template_areas": null,
            "grid_template_columns": null,
            "grid_template_rows": null,
            "height": null,
            "justify_content": null,
            "justify_items": null,
            "left": null,
            "margin": null,
            "max_height": null,
            "max_width": null,
            "min_height": null,
            "min_width": null,
            "object_fit": null,
            "object_position": null,
            "order": null,
            "overflow": null,
            "overflow_x": null,
            "overflow_y": null,
            "padding": null,
            "right": null,
            "top": null,
            "visibility": null,
            "width": null
          }
        },
        "c6a80940d9ba423c9c22a30dca83bfb3": {
          "model_module": "@jupyter-widgets/controls",
          "model_name": "DescriptionStyleModel",
          "model_module_version": "1.5.0",
          "state": {
            "_model_module": "@jupyter-widgets/controls",
            "_model_module_version": "1.5.0",
            "_model_name": "DescriptionStyleModel",
            "_view_count": null,
            "_view_module": "@jupyter-widgets/base",
            "_view_module_version": "1.2.0",
            "_view_name": "StyleView",
            "description_width": ""
          }
        },
        "2f2cb4db895c4e05b5faef222c91a812": {
          "model_module": "@jupyter-widgets/base",
          "model_name": "LayoutModel",
          "model_module_version": "1.2.0",
          "state": {
            "_model_module": "@jupyter-widgets/base",
            "_model_module_version": "1.2.0",
            "_model_name": "LayoutModel",
            "_view_count": null,
            "_view_module": "@jupyter-widgets/base",
            "_view_module_version": "1.2.0",
            "_view_name": "LayoutView",
            "align_content": null,
            "align_items": null,
            "align_self": null,
            "border": null,
            "bottom": null,
            "display": null,
            "flex": null,
            "flex_flow": null,
            "grid_area": null,
            "grid_auto_columns": null,
            "grid_auto_flow": null,
            "grid_auto_rows": null,
            "grid_column": null,
            "grid_gap": null,
            "grid_row": null,
            "grid_template_areas": null,
            "grid_template_columns": null,
            "grid_template_rows": null,
            "height": null,
            "justify_content": null,
            "justify_items": null,
            "left": null,
            "margin": null,
            "max_height": null,
            "max_width": null,
            "min_height": null,
            "min_width": null,
            "object_fit": null,
            "object_position": null,
            "order": null,
            "overflow": null,
            "overflow_x": null,
            "overflow_y": null,
            "padding": null,
            "right": null,
            "top": null,
            "visibility": null,
            "width": null
          }
        },
        "40e97a516e46432b9009340543808a69": {
          "model_module": "@jupyter-widgets/controls",
          "model_name": "ProgressStyleModel",
          "model_module_version": "1.5.0",
          "state": {
            "_model_module": "@jupyter-widgets/controls",
            "_model_module_version": "1.5.0",
            "_model_name": "ProgressStyleModel",
            "_view_count": null,
            "_view_module": "@jupyter-widgets/base",
            "_view_module_version": "1.2.0",
            "_view_name": "StyleView",
            "bar_color": null,
            "description_width": ""
          }
        },
        "e61c215eadbb4087a0d04539b768cacd": {
          "model_module": "@jupyter-widgets/base",
          "model_name": "LayoutModel",
          "model_module_version": "1.2.0",
          "state": {
            "_model_module": "@jupyter-widgets/base",
            "_model_module_version": "1.2.0",
            "_model_name": "LayoutModel",
            "_view_count": null,
            "_view_module": "@jupyter-widgets/base",
            "_view_module_version": "1.2.0",
            "_view_name": "LayoutView",
            "align_content": null,
            "align_items": null,
            "align_self": null,
            "border": null,
            "bottom": null,
            "display": null,
            "flex": null,
            "flex_flow": null,
            "grid_area": null,
            "grid_auto_columns": null,
            "grid_auto_flow": null,
            "grid_auto_rows": null,
            "grid_column": null,
            "grid_gap": null,
            "grid_row": null,
            "grid_template_areas": null,
            "grid_template_columns": null,
            "grid_template_rows": null,
            "height": null,
            "justify_content": null,
            "justify_items": null,
            "left": null,
            "margin": null,
            "max_height": null,
            "max_width": null,
            "min_height": null,
            "min_width": null,
            "object_fit": null,
            "object_position": null,
            "order": null,
            "overflow": null,
            "overflow_x": null,
            "overflow_y": null,
            "padding": null,
            "right": null,
            "top": null,
            "visibility": null,
            "width": null
          }
        },
        "7612fb30cf7b447ab5143eca374972ec": {
          "model_module": "@jupyter-widgets/controls",
          "model_name": "DescriptionStyleModel",
          "model_module_version": "1.5.0",
          "state": {
            "_model_module": "@jupyter-widgets/controls",
            "_model_module_version": "1.5.0",
            "_model_name": "DescriptionStyleModel",
            "_view_count": null,
            "_view_module": "@jupyter-widgets/base",
            "_view_module_version": "1.2.0",
            "_view_name": "StyleView",
            "description_width": ""
          }
        },
        "513073f140ed4bbfa3ff4becd4e983aa": {
          "model_module": "@jupyter-widgets/controls",
          "model_name": "HBoxModel",
          "model_module_version": "1.5.0",
          "state": {
            "_dom_classes": [],
            "_model_module": "@jupyter-widgets/controls",
            "_model_module_version": "1.5.0",
            "_model_name": "HBoxModel",
            "_view_count": null,
            "_view_module": "@jupyter-widgets/controls",
            "_view_module_version": "1.5.0",
            "_view_name": "HBoxView",
            "box_style": "",
            "children": [
              "IPY_MODEL_f18e166a35fb436982108ba05333a33a",
              "IPY_MODEL_396b0ec628f94d7cbccdd122bcc2394c",
              "IPY_MODEL_bc0669bab7264166a4aba234d393e78f"
            ],
            "layout": "IPY_MODEL_9ead5c1df125464b801eca3afbdc5071"
          }
        },
        "f18e166a35fb436982108ba05333a33a": {
          "model_module": "@jupyter-widgets/controls",
          "model_name": "HTMLModel",
          "model_module_version": "1.5.0",
          "state": {
            "_dom_classes": [],
            "_model_module": "@jupyter-widgets/controls",
            "_model_module_version": "1.5.0",
            "_model_name": "HTMLModel",
            "_view_count": null,
            "_view_module": "@jupyter-widgets/controls",
            "_view_module_version": "1.5.0",
            "_view_name": "HTMLView",
            "description": "",
            "description_tooltip": null,
            "layout": "IPY_MODEL_12e04f1b871b4fa6ba27deebd7701a50",
            "placeholder": "​",
            "style": "IPY_MODEL_7a5f1b5b2aaf44fabe368b53b67d17f1",
            "value": "model-00002-of-00002.safetensors: 100%"
          }
        },
        "396b0ec628f94d7cbccdd122bcc2394c": {
          "model_module": "@jupyter-widgets/controls",
          "model_name": "FloatProgressModel",
          "model_module_version": "1.5.0",
          "state": {
            "_dom_classes": [],
            "_model_module": "@jupyter-widgets/controls",
            "_model_module_version": "1.5.0",
            "_model_name": "FloatProgressModel",
            "_view_count": null,
            "_view_module": "@jupyter-widgets/controls",
            "_view_module_version": "1.5.0",
            "_view_name": "ProgressView",
            "bar_style": "success",
            "description": "",
            "description_tooltip": null,
            "layout": "IPY_MODEL_e2ea626f682847f2b92f155c020dc18d",
            "max": 67121608,
            "min": 0,
            "orientation": "horizontal",
            "style": "IPY_MODEL_e6e33e18e1ca4824835d556792d8b3b2",
            "value": 67121608
          }
        },
        "bc0669bab7264166a4aba234d393e78f": {
          "model_module": "@jupyter-widgets/controls",
          "model_name": "HTMLModel",
          "model_module_version": "1.5.0",
          "state": {
            "_dom_classes": [],
            "_model_module": "@jupyter-widgets/controls",
            "_model_module_version": "1.5.0",
            "_model_name": "HTMLModel",
            "_view_count": null,
            "_view_module": "@jupyter-widgets/controls",
            "_view_module_version": "1.5.0",
            "_view_name": "HTMLView",
            "description": "",
            "description_tooltip": null,
            "layout": "IPY_MODEL_67fe42271bf24723890599c90453c09a",
            "placeholder": "​",
            "style": "IPY_MODEL_8bc1c394f810495aadb27c880cf41354",
            "value": " 67.1M/67.1M [00:00&lt;00:00, 158MB/s]"
          }
        },
        "9ead5c1df125464b801eca3afbdc5071": {
          "model_module": "@jupyter-widgets/base",
          "model_name": "LayoutModel",
          "model_module_version": "1.2.0",
          "state": {
            "_model_module": "@jupyter-widgets/base",
            "_model_module_version": "1.2.0",
            "_model_name": "LayoutModel",
            "_view_count": null,
            "_view_module": "@jupyter-widgets/base",
            "_view_module_version": "1.2.0",
            "_view_name": "LayoutView",
            "align_content": null,
            "align_items": null,
            "align_self": null,
            "border": null,
            "bottom": null,
            "display": null,
            "flex": null,
            "flex_flow": null,
            "grid_area": null,
            "grid_auto_columns": null,
            "grid_auto_flow": null,
            "grid_auto_rows": null,
            "grid_column": null,
            "grid_gap": null,
            "grid_row": null,
            "grid_template_areas": null,
            "grid_template_columns": null,
            "grid_template_rows": null,
            "height": null,
            "justify_content": null,
            "justify_items": null,
            "left": null,
            "margin": null,
            "max_height": null,
            "max_width": null,
            "min_height": null,
            "min_width": null,
            "object_fit": null,
            "object_position": null,
            "order": null,
            "overflow": null,
            "overflow_x": null,
            "overflow_y": null,
            "padding": null,
            "right": null,
            "top": null,
            "visibility": null,
            "width": null
          }
        },
        "12e04f1b871b4fa6ba27deebd7701a50": {
          "model_module": "@jupyter-widgets/base",
          "model_name": "LayoutModel",
          "model_module_version": "1.2.0",
          "state": {
            "_model_module": "@jupyter-widgets/base",
            "_model_module_version": "1.2.0",
            "_model_name": "LayoutModel",
            "_view_count": null,
            "_view_module": "@jupyter-widgets/base",
            "_view_module_version": "1.2.0",
            "_view_name": "LayoutView",
            "align_content": null,
            "align_items": null,
            "align_self": null,
            "border": null,
            "bottom": null,
            "display": null,
            "flex": null,
            "flex_flow": null,
            "grid_area": null,
            "grid_auto_columns": null,
            "grid_auto_flow": null,
            "grid_auto_rows": null,
            "grid_column": null,
            "grid_gap": null,
            "grid_row": null,
            "grid_template_areas": null,
            "grid_template_columns": null,
            "grid_template_rows": null,
            "height": null,
            "justify_content": null,
            "justify_items": null,
            "left": null,
            "margin": null,
            "max_height": null,
            "max_width": null,
            "min_height": null,
            "min_width": null,
            "object_fit": null,
            "object_position": null,
            "order": null,
            "overflow": null,
            "overflow_x": null,
            "overflow_y": null,
            "padding": null,
            "right": null,
            "top": null,
            "visibility": null,
            "width": null
          }
        },
        "7a5f1b5b2aaf44fabe368b53b67d17f1": {
          "model_module": "@jupyter-widgets/controls",
          "model_name": "DescriptionStyleModel",
          "model_module_version": "1.5.0",
          "state": {
            "_model_module": "@jupyter-widgets/controls",
            "_model_module_version": "1.5.0",
            "_model_name": "DescriptionStyleModel",
            "_view_count": null,
            "_view_module": "@jupyter-widgets/base",
            "_view_module_version": "1.2.0",
            "_view_name": "StyleView",
            "description_width": ""
          }
        },
        "e2ea626f682847f2b92f155c020dc18d": {
          "model_module": "@jupyter-widgets/base",
          "model_name": "LayoutModel",
          "model_module_version": "1.2.0",
          "state": {
            "_model_module": "@jupyter-widgets/base",
            "_model_module_version": "1.2.0",
            "_model_name": "LayoutModel",
            "_view_count": null,
            "_view_module": "@jupyter-widgets/base",
            "_view_module_version": "1.2.0",
            "_view_name": "LayoutView",
            "align_content": null,
            "align_items": null,
            "align_self": null,
            "border": null,
            "bottom": null,
            "display": null,
            "flex": null,
            "flex_flow": null,
            "grid_area": null,
            "grid_auto_columns": null,
            "grid_auto_flow": null,
            "grid_auto_rows": null,
            "grid_column": null,
            "grid_gap": null,
            "grid_row": null,
            "grid_template_areas": null,
            "grid_template_columns": null,
            "grid_template_rows": null,
            "height": null,
            "justify_content": null,
            "justify_items": null,
            "left": null,
            "margin": null,
            "max_height": null,
            "max_width": null,
            "min_height": null,
            "min_width": null,
            "object_fit": null,
            "object_position": null,
            "order": null,
            "overflow": null,
            "overflow_x": null,
            "overflow_y": null,
            "padding": null,
            "right": null,
            "top": null,
            "visibility": null,
            "width": null
          }
        },
        "e6e33e18e1ca4824835d556792d8b3b2": {
          "model_module": "@jupyter-widgets/controls",
          "model_name": "ProgressStyleModel",
          "model_module_version": "1.5.0",
          "state": {
            "_model_module": "@jupyter-widgets/controls",
            "_model_module_version": "1.5.0",
            "_model_name": "ProgressStyleModel",
            "_view_count": null,
            "_view_module": "@jupyter-widgets/base",
            "_view_module_version": "1.2.0",
            "_view_name": "StyleView",
            "bar_color": null,
            "description_width": ""
          }
        },
        "67fe42271bf24723890599c90453c09a": {
          "model_module": "@jupyter-widgets/base",
          "model_name": "LayoutModel",
          "model_module_version": "1.2.0",
          "state": {
            "_model_module": "@jupyter-widgets/base",
            "_model_module_version": "1.2.0",
            "_model_name": "LayoutModel",
            "_view_count": null,
            "_view_module": "@jupyter-widgets/base",
            "_view_module_version": "1.2.0",
            "_view_name": "LayoutView",
            "align_content": null,
            "align_items": null,
            "align_self": null,
            "border": null,
            "bottom": null,
            "display": null,
            "flex": null,
            "flex_flow": null,
            "grid_area": null,
            "grid_auto_columns": null,
            "grid_auto_flow": null,
            "grid_auto_rows": null,
            "grid_column": null,
            "grid_gap": null,
            "grid_row": null,
            "grid_template_areas": null,
            "grid_template_columns": null,
            "grid_template_rows": null,
            "height": null,
            "justify_content": null,
            "justify_items": null,
            "left": null,
            "margin": null,
            "max_height": null,
            "max_width": null,
            "min_height": null,
            "min_width": null,
            "object_fit": null,
            "object_position": null,
            "order": null,
            "overflow": null,
            "overflow_x": null,
            "overflow_y": null,
            "padding": null,
            "right": null,
            "top": null,
            "visibility": null,
            "width": null
          }
        },
        "8bc1c394f810495aadb27c880cf41354": {
          "model_module": "@jupyter-widgets/controls",
          "model_name": "DescriptionStyleModel",
          "model_module_version": "1.5.0",
          "state": {
            "_model_module": "@jupyter-widgets/controls",
            "_model_module_version": "1.5.0",
            "_model_name": "DescriptionStyleModel",
            "_view_count": null,
            "_view_module": "@jupyter-widgets/base",
            "_view_module_version": "1.2.0",
            "_view_name": "StyleView",
            "description_width": ""
          }
        },
        "26f34f62a55b44b0a20072237fa3240f": {
          "model_module": "@jupyter-widgets/controls",
          "model_name": "HBoxModel",
          "model_module_version": "1.5.0",
          "state": {
            "_dom_classes": [],
            "_model_module": "@jupyter-widgets/controls",
            "_model_module_version": "1.5.0",
            "_model_name": "HBoxModel",
            "_view_count": null,
            "_view_module": "@jupyter-widgets/controls",
            "_view_module_version": "1.5.0",
            "_view_name": "HBoxView",
            "box_style": "",
            "children": [
              "IPY_MODEL_24ff9fe0696740dc94ad9e2b4e98cba6",
              "IPY_MODEL_001066ff0ed246eeb3543a9fdfe8a50a",
              "IPY_MODEL_5a5bd0442a384952a603cab18a57ed26"
            ],
            "layout": "IPY_MODEL_eaa952c1bfea4b43ac25db0f942253ca"
          }
        },
        "24ff9fe0696740dc94ad9e2b4e98cba6": {
          "model_module": "@jupyter-widgets/controls",
          "model_name": "HTMLModel",
          "model_module_version": "1.5.0",
          "state": {
            "_dom_classes": [],
            "_model_module": "@jupyter-widgets/controls",
            "_model_module_version": "1.5.0",
            "_model_name": "HTMLModel",
            "_view_count": null,
            "_view_module": "@jupyter-widgets/controls",
            "_view_module_version": "1.5.0",
            "_view_name": "HTMLView",
            "description": "",
            "description_tooltip": null,
            "layout": "IPY_MODEL_ef875ce078ab46ac9868166711b0805b",
            "placeholder": "​",
            "style": "IPY_MODEL_61317baeb33048e09a7bf7207ddecc49",
            "value": "Loading checkpoint shards: 100%"
          }
        },
        "001066ff0ed246eeb3543a9fdfe8a50a": {
          "model_module": "@jupyter-widgets/controls",
          "model_name": "FloatProgressModel",
          "model_module_version": "1.5.0",
          "state": {
            "_dom_classes": [],
            "_model_module": "@jupyter-widgets/controls",
            "_model_module_version": "1.5.0",
            "_model_name": "FloatProgressModel",
            "_view_count": null,
            "_view_module": "@jupyter-widgets/controls",
            "_view_module_version": "1.5.0",
            "_view_name": "ProgressView",
            "bar_style": "success",
            "description": "",
            "description_tooltip": null,
            "layout": "IPY_MODEL_b33d23acaf7e429ebc41afc00e206dc6",
            "max": 2,
            "min": 0,
            "orientation": "horizontal",
            "style": "IPY_MODEL_cd0eab040e4e40988a3a5ddf6946065a",
            "value": 2
          }
        },
        "5a5bd0442a384952a603cab18a57ed26": {
          "model_module": "@jupyter-widgets/controls",
          "model_name": "HTMLModel",
          "model_module_version": "1.5.0",
          "state": {
            "_dom_classes": [],
            "_model_module": "@jupyter-widgets/controls",
            "_model_module_version": "1.5.0",
            "_model_name": "HTMLModel",
            "_view_count": null,
            "_view_module": "@jupyter-widgets/controls",
            "_view_module_version": "1.5.0",
            "_view_name": "HTMLView",
            "description": "",
            "description_tooltip": null,
            "layout": "IPY_MODEL_cd47468bdd5641cfac5bdef547805b25",
            "placeholder": "​",
            "style": "IPY_MODEL_e438840bb471499db77fbdb3891a88d6",
            "value": " 2/2 [00:25&lt;00:00, 10.65s/it]"
          }
        },
        "eaa952c1bfea4b43ac25db0f942253ca": {
          "model_module": "@jupyter-widgets/base",
          "model_name": "LayoutModel",
          "model_module_version": "1.2.0",
          "state": {
            "_model_module": "@jupyter-widgets/base",
            "_model_module_version": "1.2.0",
            "_model_name": "LayoutModel",
            "_view_count": null,
            "_view_module": "@jupyter-widgets/base",
            "_view_module_version": "1.2.0",
            "_view_name": "LayoutView",
            "align_content": null,
            "align_items": null,
            "align_self": null,
            "border": null,
            "bottom": null,
            "display": null,
            "flex": null,
            "flex_flow": null,
            "grid_area": null,
            "grid_auto_columns": null,
            "grid_auto_flow": null,
            "grid_auto_rows": null,
            "grid_column": null,
            "grid_gap": null,
            "grid_row": null,
            "grid_template_areas": null,
            "grid_template_columns": null,
            "grid_template_rows": null,
            "height": null,
            "justify_content": null,
            "justify_items": null,
            "left": null,
            "margin": null,
            "max_height": null,
            "max_width": null,
            "min_height": null,
            "min_width": null,
            "object_fit": null,
            "object_position": null,
            "order": null,
            "overflow": null,
            "overflow_x": null,
            "overflow_y": null,
            "padding": null,
            "right": null,
            "top": null,
            "visibility": null,
            "width": null
          }
        },
        "ef875ce078ab46ac9868166711b0805b": {
          "model_module": "@jupyter-widgets/base",
          "model_name": "LayoutModel",
          "model_module_version": "1.2.0",
          "state": {
            "_model_module": "@jupyter-widgets/base",
            "_model_module_version": "1.2.0",
            "_model_name": "LayoutModel",
            "_view_count": null,
            "_view_module": "@jupyter-widgets/base",
            "_view_module_version": "1.2.0",
            "_view_name": "LayoutView",
            "align_content": null,
            "align_items": null,
            "align_self": null,
            "border": null,
            "bottom": null,
            "display": null,
            "flex": null,
            "flex_flow": null,
            "grid_area": null,
            "grid_auto_columns": null,
            "grid_auto_flow": null,
            "grid_auto_rows": null,
            "grid_column": null,
            "grid_gap": null,
            "grid_row": null,
            "grid_template_areas": null,
            "grid_template_columns": null,
            "grid_template_rows": null,
            "height": null,
            "justify_content": null,
            "justify_items": null,
            "left": null,
            "margin": null,
            "max_height": null,
            "max_width": null,
            "min_height": null,
            "min_width": null,
            "object_fit": null,
            "object_position": null,
            "order": null,
            "overflow": null,
            "overflow_x": null,
            "overflow_y": null,
            "padding": null,
            "right": null,
            "top": null,
            "visibility": null,
            "width": null
          }
        },
        "61317baeb33048e09a7bf7207ddecc49": {
          "model_module": "@jupyter-widgets/controls",
          "model_name": "DescriptionStyleModel",
          "model_module_version": "1.5.0",
          "state": {
            "_model_module": "@jupyter-widgets/controls",
            "_model_module_version": "1.5.0",
            "_model_name": "DescriptionStyleModel",
            "_view_count": null,
            "_view_module": "@jupyter-widgets/base",
            "_view_module_version": "1.2.0",
            "_view_name": "StyleView",
            "description_width": ""
          }
        },
        "b33d23acaf7e429ebc41afc00e206dc6": {
          "model_module": "@jupyter-widgets/base",
          "model_name": "LayoutModel",
          "model_module_version": "1.2.0",
          "state": {
            "_model_module": "@jupyter-widgets/base",
            "_model_module_version": "1.2.0",
            "_model_name": "LayoutModel",
            "_view_count": null,
            "_view_module": "@jupyter-widgets/base",
            "_view_module_version": "1.2.0",
            "_view_name": "LayoutView",
            "align_content": null,
            "align_items": null,
            "align_self": null,
            "border": null,
            "bottom": null,
            "display": null,
            "flex": null,
            "flex_flow": null,
            "grid_area": null,
            "grid_auto_columns": null,
            "grid_auto_flow": null,
            "grid_auto_rows": null,
            "grid_column": null,
            "grid_gap": null,
            "grid_row": null,
            "grid_template_areas": null,
            "grid_template_columns": null,
            "grid_template_rows": null,
            "height": null,
            "justify_content": null,
            "justify_items": null,
            "left": null,
            "margin": null,
            "max_height": null,
            "max_width": null,
            "min_height": null,
            "min_width": null,
            "object_fit": null,
            "object_position": null,
            "order": null,
            "overflow": null,
            "overflow_x": null,
            "overflow_y": null,
            "padding": null,
            "right": null,
            "top": null,
            "visibility": null,
            "width": null
          }
        },
        "cd0eab040e4e40988a3a5ddf6946065a": {
          "model_module": "@jupyter-widgets/controls",
          "model_name": "ProgressStyleModel",
          "model_module_version": "1.5.0",
          "state": {
            "_model_module": "@jupyter-widgets/controls",
            "_model_module_version": "1.5.0",
            "_model_name": "ProgressStyleModel",
            "_view_count": null,
            "_view_module": "@jupyter-widgets/base",
            "_view_module_version": "1.2.0",
            "_view_name": "StyleView",
            "bar_color": null,
            "description_width": ""
          }
        },
        "cd47468bdd5641cfac5bdef547805b25": {
          "model_module": "@jupyter-widgets/base",
          "model_name": "LayoutModel",
          "model_module_version": "1.2.0",
          "state": {
            "_model_module": "@jupyter-widgets/base",
            "_model_module_version": "1.2.0",
            "_model_name": "LayoutModel",
            "_view_count": null,
            "_view_module": "@jupyter-widgets/base",
            "_view_module_version": "1.2.0",
            "_view_name": "LayoutView",
            "align_content": null,
            "align_items": null,
            "align_self": null,
            "border": null,
            "bottom": null,
            "display": null,
            "flex": null,
            "flex_flow": null,
            "grid_area": null,
            "grid_auto_columns": null,
            "grid_auto_flow": null,
            "grid_auto_rows": null,
            "grid_column": null,
            "grid_gap": null,
            "grid_row": null,
            "grid_template_areas": null,
            "grid_template_columns": null,
            "grid_template_rows": null,
            "height": null,
            "justify_content": null,
            "justify_items": null,
            "left": null,
            "margin": null,
            "max_height": null,
            "max_width": null,
            "min_height": null,
            "min_width": null,
            "object_fit": null,
            "object_position": null,
            "order": null,
            "overflow": null,
            "overflow_x": null,
            "overflow_y": null,
            "padding": null,
            "right": null,
            "top": null,
            "visibility": null,
            "width": null
          }
        },
        "e438840bb471499db77fbdb3891a88d6": {
          "model_module": "@jupyter-widgets/controls",
          "model_name": "DescriptionStyleModel",
          "model_module_version": "1.5.0",
          "state": {
            "_model_module": "@jupyter-widgets/controls",
            "_model_module_version": "1.5.0",
            "_model_name": "DescriptionStyleModel",
            "_view_count": null,
            "_view_module": "@jupyter-widgets/base",
            "_view_module_version": "1.2.0",
            "_view_name": "StyleView",
            "description_width": ""
          }
        },
        "99059fafb4d44a1e91e1e300510b584c": {
          "model_module": "@jupyter-widgets/controls",
          "model_name": "HBoxModel",
          "model_module_version": "1.5.0",
          "state": {
            "_dom_classes": [],
            "_model_module": "@jupyter-widgets/controls",
            "_model_module_version": "1.5.0",
            "_model_name": "HBoxModel",
            "_view_count": null,
            "_view_module": "@jupyter-widgets/controls",
            "_view_module_version": "1.5.0",
            "_view_name": "HBoxView",
            "box_style": "",
            "children": [
              "IPY_MODEL_183effc55b914603a8354370c170b1fe",
              "IPY_MODEL_ee5d4d20e5234dd58016bf0b5918a8e3",
              "IPY_MODEL_c856bb11182d4050bdc3d6fb7d41431e"
            ],
            "layout": "IPY_MODEL_d33d3025821e41c0be67b5ed4db3617e"
          }
        },
        "183effc55b914603a8354370c170b1fe": {
          "model_module": "@jupyter-widgets/controls",
          "model_name": "HTMLModel",
          "model_module_version": "1.5.0",
          "state": {
            "_dom_classes": [],
            "_model_module": "@jupyter-widgets/controls",
            "_model_module_version": "1.5.0",
            "_model_name": "HTMLModel",
            "_view_count": null,
            "_view_module": "@jupyter-widgets/controls",
            "_view_module_version": "1.5.0",
            "_view_name": "HTMLView",
            "description": "",
            "description_tooltip": null,
            "layout": "IPY_MODEL_70771de58a1540bfb462924faf762623",
            "placeholder": "​",
            "style": "IPY_MODEL_52a9344aa8f84a338bff4b49a8fc29ba",
            "value": "generation_config.json: 100%"
          }
        },
        "ee5d4d20e5234dd58016bf0b5918a8e3": {
          "model_module": "@jupyter-widgets/controls",
          "model_name": "FloatProgressModel",
          "model_module_version": "1.5.0",
          "state": {
            "_dom_classes": [],
            "_model_module": "@jupyter-widgets/controls",
            "_model_module_version": "1.5.0",
            "_model_name": "FloatProgressModel",
            "_view_count": null,
            "_view_module": "@jupyter-widgets/controls",
            "_view_module_version": "1.5.0",
            "_view_name": "ProgressView",
            "bar_style": "success",
            "description": "",
            "description_tooltip": null,
            "layout": "IPY_MODEL_a9715ce0272d409781aefde47f3c4f69",
            "max": 137,
            "min": 0,
            "orientation": "horizontal",
            "style": "IPY_MODEL_41613e04d6714cfda18d804bbe71c1bb",
            "value": 137
          }
        },
        "c856bb11182d4050bdc3d6fb7d41431e": {
          "model_module": "@jupyter-widgets/controls",
          "model_name": "HTMLModel",
          "model_module_version": "1.5.0",
          "state": {
            "_dom_classes": [],
            "_model_module": "@jupyter-widgets/controls",
            "_model_module_version": "1.5.0",
            "_model_name": "HTMLModel",
            "_view_count": null,
            "_view_module": "@jupyter-widgets/controls",
            "_view_module_version": "1.5.0",
            "_view_name": "HTMLView",
            "description": "",
            "description_tooltip": null,
            "layout": "IPY_MODEL_fd7080a2c469468eb4861f5257fa6869",
            "placeholder": "​",
            "style": "IPY_MODEL_33137f6205104d07a6f961697586181f",
            "value": " 137/137 [00:00&lt;00:00, 7.97kB/s]"
          }
        },
        "d33d3025821e41c0be67b5ed4db3617e": {
          "model_module": "@jupyter-widgets/base",
          "model_name": "LayoutModel",
          "model_module_version": "1.2.0",
          "state": {
            "_model_module": "@jupyter-widgets/base",
            "_model_module_version": "1.2.0",
            "_model_name": "LayoutModel",
            "_view_count": null,
            "_view_module": "@jupyter-widgets/base",
            "_view_module_version": "1.2.0",
            "_view_name": "LayoutView",
            "align_content": null,
            "align_items": null,
            "align_self": null,
            "border": null,
            "bottom": null,
            "display": null,
            "flex": null,
            "flex_flow": null,
            "grid_area": null,
            "grid_auto_columns": null,
            "grid_auto_flow": null,
            "grid_auto_rows": null,
            "grid_column": null,
            "grid_gap": null,
            "grid_row": null,
            "grid_template_areas": null,
            "grid_template_columns": null,
            "grid_template_rows": null,
            "height": null,
            "justify_content": null,
            "justify_items": null,
            "left": null,
            "margin": null,
            "max_height": null,
            "max_width": null,
            "min_height": null,
            "min_width": null,
            "object_fit": null,
            "object_position": null,
            "order": null,
            "overflow": null,
            "overflow_x": null,
            "overflow_y": null,
            "padding": null,
            "right": null,
            "top": null,
            "visibility": null,
            "width": null
          }
        },
        "70771de58a1540bfb462924faf762623": {
          "model_module": "@jupyter-widgets/base",
          "model_name": "LayoutModel",
          "model_module_version": "1.2.0",
          "state": {
            "_model_module": "@jupyter-widgets/base",
            "_model_module_version": "1.2.0",
            "_model_name": "LayoutModel",
            "_view_count": null,
            "_view_module": "@jupyter-widgets/base",
            "_view_module_version": "1.2.0",
            "_view_name": "LayoutView",
            "align_content": null,
            "align_items": null,
            "align_self": null,
            "border": null,
            "bottom": null,
            "display": null,
            "flex": null,
            "flex_flow": null,
            "grid_area": null,
            "grid_auto_columns": null,
            "grid_auto_flow": null,
            "grid_auto_rows": null,
            "grid_column": null,
            "grid_gap": null,
            "grid_row": null,
            "grid_template_areas": null,
            "grid_template_columns": null,
            "grid_template_rows": null,
            "height": null,
            "justify_content": null,
            "justify_items": null,
            "left": null,
            "margin": null,
            "max_height": null,
            "max_width": null,
            "min_height": null,
            "min_width": null,
            "object_fit": null,
            "object_position": null,
            "order": null,
            "overflow": null,
            "overflow_x": null,
            "overflow_y": null,
            "padding": null,
            "right": null,
            "top": null,
            "visibility": null,
            "width": null
          }
        },
        "52a9344aa8f84a338bff4b49a8fc29ba": {
          "model_module": "@jupyter-widgets/controls",
          "model_name": "DescriptionStyleModel",
          "model_module_version": "1.5.0",
          "state": {
            "_model_module": "@jupyter-widgets/controls",
            "_model_module_version": "1.5.0",
            "_model_name": "DescriptionStyleModel",
            "_view_count": null,
            "_view_module": "@jupyter-widgets/base",
            "_view_module_version": "1.2.0",
            "_view_name": "StyleView",
            "description_width": ""
          }
        },
        "a9715ce0272d409781aefde47f3c4f69": {
          "model_module": "@jupyter-widgets/base",
          "model_name": "LayoutModel",
          "model_module_version": "1.2.0",
          "state": {
            "_model_module": "@jupyter-widgets/base",
            "_model_module_version": "1.2.0",
            "_model_name": "LayoutModel",
            "_view_count": null,
            "_view_module": "@jupyter-widgets/base",
            "_view_module_version": "1.2.0",
            "_view_name": "LayoutView",
            "align_content": null,
            "align_items": null,
            "align_self": null,
            "border": null,
            "bottom": null,
            "display": null,
            "flex": null,
            "flex_flow": null,
            "grid_area": null,
            "grid_auto_columns": null,
            "grid_auto_flow": null,
            "grid_auto_rows": null,
            "grid_column": null,
            "grid_gap": null,
            "grid_row": null,
            "grid_template_areas": null,
            "grid_template_columns": null,
            "grid_template_rows": null,
            "height": null,
            "justify_content": null,
            "justify_items": null,
            "left": null,
            "margin": null,
            "max_height": null,
            "max_width": null,
            "min_height": null,
            "min_width": null,
            "object_fit": null,
            "object_position": null,
            "order": null,
            "overflow": null,
            "overflow_x": null,
            "overflow_y": null,
            "padding": null,
            "right": null,
            "top": null,
            "visibility": null,
            "width": null
          }
        },
        "41613e04d6714cfda18d804bbe71c1bb": {
          "model_module": "@jupyter-widgets/controls",
          "model_name": "ProgressStyleModel",
          "model_module_version": "1.5.0",
          "state": {
            "_model_module": "@jupyter-widgets/controls",
            "_model_module_version": "1.5.0",
            "_model_name": "ProgressStyleModel",
            "_view_count": null,
            "_view_module": "@jupyter-widgets/base",
            "_view_module_version": "1.2.0",
            "_view_name": "StyleView",
            "bar_color": null,
            "description_width": ""
          }
        },
        "fd7080a2c469468eb4861f5257fa6869": {
          "model_module": "@jupyter-widgets/base",
          "model_name": "LayoutModel",
          "model_module_version": "1.2.0",
          "state": {
            "_model_module": "@jupyter-widgets/base",
            "_model_module_version": "1.2.0",
            "_model_name": "LayoutModel",
            "_view_count": null,
            "_view_module": "@jupyter-widgets/base",
            "_view_module_version": "1.2.0",
            "_view_name": "LayoutView",
            "align_content": null,
            "align_items": null,
            "align_self": null,
            "border": null,
            "bottom": null,
            "display": null,
            "flex": null,
            "flex_flow": null,
            "grid_area": null,
            "grid_auto_columns": null,
            "grid_auto_flow": null,
            "grid_auto_rows": null,
            "grid_column": null,
            "grid_gap": null,
            "grid_row": null,
            "grid_template_areas": null,
            "grid_template_columns": null,
            "grid_template_rows": null,
            "height": null,
            "justify_content": null,
            "justify_items": null,
            "left": null,
            "margin": null,
            "max_height": null,
            "max_width": null,
            "min_height": null,
            "min_width": null,
            "object_fit": null,
            "object_position": null,
            "order": null,
            "overflow": null,
            "overflow_x": null,
            "overflow_y": null,
            "padding": null,
            "right": null,
            "top": null,
            "visibility": null,
            "width": null
          }
        },
        "33137f6205104d07a6f961697586181f": {
          "model_module": "@jupyter-widgets/controls",
          "model_name": "DescriptionStyleModel",
          "model_module_version": "1.5.0",
          "state": {
            "_model_module": "@jupyter-widgets/controls",
            "_model_module_version": "1.5.0",
            "_model_name": "DescriptionStyleModel",
            "_view_count": null,
            "_view_module": "@jupyter-widgets/base",
            "_view_module_version": "1.2.0",
            "_view_name": "StyleView",
            "description_width": ""
          }
        },
        "4502637ac912404983ed8e3ac5473680": {
          "model_module": "@jupyter-widgets/controls",
          "model_name": "HBoxModel",
          "model_module_version": "1.5.0",
          "state": {
            "_dom_classes": [],
            "_model_module": "@jupyter-widgets/controls",
            "_model_module_version": "1.5.0",
            "_model_name": "HBoxModel",
            "_view_count": null,
            "_view_module": "@jupyter-widgets/controls",
            "_view_module_version": "1.5.0",
            "_view_name": "HBoxView",
            "box_style": "",
            "children": [
              "IPY_MODEL_891eab7f7c994fae89593f76fee011f4",
              "IPY_MODEL_9dde6ee6560d471eb78a77a8db9d403e",
              "IPY_MODEL_87f66fe7dada493dbc4850e1cd47eff3"
            ],
            "layout": "IPY_MODEL_889a748c1158402bb964983ad14ffedb"
          }
        },
        "891eab7f7c994fae89593f76fee011f4": {
          "model_module": "@jupyter-widgets/controls",
          "model_name": "HTMLModel",
          "model_module_version": "1.5.0",
          "state": {
            "_dom_classes": [],
            "_model_module": "@jupyter-widgets/controls",
            "_model_module_version": "1.5.0",
            "_model_name": "HTMLModel",
            "_view_count": null,
            "_view_module": "@jupyter-widgets/controls",
            "_view_module_version": "1.5.0",
            "_view_name": "HTMLView",
            "description": "",
            "description_tooltip": null,
            "layout": "IPY_MODEL_d2feeb7aeb334045861a3b534b75d2fd",
            "placeholder": "​",
            "style": "IPY_MODEL_4820cc37fcfd483a87415db4ac67e0c2",
            "value": "tokenizer_config.json: 100%"
          }
        },
        "9dde6ee6560d471eb78a77a8db9d403e": {
          "model_module": "@jupyter-widgets/controls",
          "model_name": "FloatProgressModel",
          "model_module_version": "1.5.0",
          "state": {
            "_dom_classes": [],
            "_model_module": "@jupyter-widgets/controls",
            "_model_module_version": "1.5.0",
            "_model_name": "FloatProgressModel",
            "_view_count": null,
            "_view_module": "@jupyter-widgets/controls",
            "_view_module_version": "1.5.0",
            "_view_name": "ProgressView",
            "bar_style": "success",
            "description": "",
            "description_tooltip": null,
            "layout": "IPY_MODEL_93205f454b9842c4a9c9ff369764d313",
            "max": 34173,
            "min": 0,
            "orientation": "horizontal",
            "style": "IPY_MODEL_188f19c13a1c48f09355b185025c523d",
            "value": 34173
          }
        },
        "87f66fe7dada493dbc4850e1cd47eff3": {
          "model_module": "@jupyter-widgets/controls",
          "model_name": "HTMLModel",
          "model_module_version": "1.5.0",
          "state": {
            "_dom_classes": [],
            "_model_module": "@jupyter-widgets/controls",
            "_model_module_version": "1.5.0",
            "_model_name": "HTMLModel",
            "_view_count": null,
            "_view_module": "@jupyter-widgets/controls",
            "_view_module_version": "1.5.0",
            "_view_name": "HTMLView",
            "description": "",
            "description_tooltip": null,
            "layout": "IPY_MODEL_c15d33cb2cf04c3b83ef8e7275a3d123",
            "placeholder": "​",
            "style": "IPY_MODEL_6db8f54f9f574a2796f43a9c449e6e3a",
            "value": " 34.2k/34.2k [00:00&lt;00:00, 2.00MB/s]"
          }
        },
        "889a748c1158402bb964983ad14ffedb": {
          "model_module": "@jupyter-widgets/base",
          "model_name": "LayoutModel",
          "model_module_version": "1.2.0",
          "state": {
            "_model_module": "@jupyter-widgets/base",
            "_model_module_version": "1.2.0",
            "_model_name": "LayoutModel",
            "_view_count": null,
            "_view_module": "@jupyter-widgets/base",
            "_view_module_version": "1.2.0",
            "_view_name": "LayoutView",
            "align_content": null,
            "align_items": null,
            "align_self": null,
            "border": null,
            "bottom": null,
            "display": null,
            "flex": null,
            "flex_flow": null,
            "grid_area": null,
            "grid_auto_columns": null,
            "grid_auto_flow": null,
            "grid_auto_rows": null,
            "grid_column": null,
            "grid_gap": null,
            "grid_row": null,
            "grid_template_areas": null,
            "grid_template_columns": null,
            "grid_template_rows": null,
            "height": null,
            "justify_content": null,
            "justify_items": null,
            "left": null,
            "margin": null,
            "max_height": null,
            "max_width": null,
            "min_height": null,
            "min_width": null,
            "object_fit": null,
            "object_position": null,
            "order": null,
            "overflow": null,
            "overflow_x": null,
            "overflow_y": null,
            "padding": null,
            "right": null,
            "top": null,
            "visibility": null,
            "width": null
          }
        },
        "d2feeb7aeb334045861a3b534b75d2fd": {
          "model_module": "@jupyter-widgets/base",
          "model_name": "LayoutModel",
          "model_module_version": "1.2.0",
          "state": {
            "_model_module": "@jupyter-widgets/base",
            "_model_module_version": "1.2.0",
            "_model_name": "LayoutModel",
            "_view_count": null,
            "_view_module": "@jupyter-widgets/base",
            "_view_module_version": "1.2.0",
            "_view_name": "LayoutView",
            "align_content": null,
            "align_items": null,
            "align_self": null,
            "border": null,
            "bottom": null,
            "display": null,
            "flex": null,
            "flex_flow": null,
            "grid_area": null,
            "grid_auto_columns": null,
            "grid_auto_flow": null,
            "grid_auto_rows": null,
            "grid_column": null,
            "grid_gap": null,
            "grid_row": null,
            "grid_template_areas": null,
            "grid_template_columns": null,
            "grid_template_rows": null,
            "height": null,
            "justify_content": null,
            "justify_items": null,
            "left": null,
            "margin": null,
            "max_height": null,
            "max_width": null,
            "min_height": null,
            "min_width": null,
            "object_fit": null,
            "object_position": null,
            "order": null,
            "overflow": null,
            "overflow_x": null,
            "overflow_y": null,
            "padding": null,
            "right": null,
            "top": null,
            "visibility": null,
            "width": null
          }
        },
        "4820cc37fcfd483a87415db4ac67e0c2": {
          "model_module": "@jupyter-widgets/controls",
          "model_name": "DescriptionStyleModel",
          "model_module_version": "1.5.0",
          "state": {
            "_model_module": "@jupyter-widgets/controls",
            "_model_module_version": "1.5.0",
            "_model_name": "DescriptionStyleModel",
            "_view_count": null,
            "_view_module": "@jupyter-widgets/base",
            "_view_module_version": "1.2.0",
            "_view_name": "StyleView",
            "description_width": ""
          }
        },
        "93205f454b9842c4a9c9ff369764d313": {
          "model_module": "@jupyter-widgets/base",
          "model_name": "LayoutModel",
          "model_module_version": "1.2.0",
          "state": {
            "_model_module": "@jupyter-widgets/base",
            "_model_module_version": "1.2.0",
            "_model_name": "LayoutModel",
            "_view_count": null,
            "_view_module": "@jupyter-widgets/base",
            "_view_module_version": "1.2.0",
            "_view_name": "LayoutView",
            "align_content": null,
            "align_items": null,
            "align_self": null,
            "border": null,
            "bottom": null,
            "display": null,
            "flex": null,
            "flex_flow": null,
            "grid_area": null,
            "grid_auto_columns": null,
            "grid_auto_flow": null,
            "grid_auto_rows": null,
            "grid_column": null,
            "grid_gap": null,
            "grid_row": null,
            "grid_template_areas": null,
            "grid_template_columns": null,
            "grid_template_rows": null,
            "height": null,
            "justify_content": null,
            "justify_items": null,
            "left": null,
            "margin": null,
            "max_height": null,
            "max_width": null,
            "min_height": null,
            "min_width": null,
            "object_fit": null,
            "object_position": null,
            "order": null,
            "overflow": null,
            "overflow_x": null,
            "overflow_y": null,
            "padding": null,
            "right": null,
            "top": null,
            "visibility": null,
            "width": null
          }
        },
        "188f19c13a1c48f09355b185025c523d": {
          "model_module": "@jupyter-widgets/controls",
          "model_name": "ProgressStyleModel",
          "model_module_version": "1.5.0",
          "state": {
            "_model_module": "@jupyter-widgets/controls",
            "_model_module_version": "1.5.0",
            "_model_name": "ProgressStyleModel",
            "_view_count": null,
            "_view_module": "@jupyter-widgets/base",
            "_view_module_version": "1.2.0",
            "_view_name": "StyleView",
            "bar_color": null,
            "description_width": ""
          }
        },
        "c15d33cb2cf04c3b83ef8e7275a3d123": {
          "model_module": "@jupyter-widgets/base",
          "model_name": "LayoutModel",
          "model_module_version": "1.2.0",
          "state": {
            "_model_module": "@jupyter-widgets/base",
            "_model_module_version": "1.2.0",
            "_model_name": "LayoutModel",
            "_view_count": null,
            "_view_module": "@jupyter-widgets/base",
            "_view_module_version": "1.2.0",
            "_view_name": "LayoutView",
            "align_content": null,
            "align_items": null,
            "align_self": null,
            "border": null,
            "bottom": null,
            "display": null,
            "flex": null,
            "flex_flow": null,
            "grid_area": null,
            "grid_auto_columns": null,
            "grid_auto_flow": null,
            "grid_auto_rows": null,
            "grid_column": null,
            "grid_gap": null,
            "grid_row": null,
            "grid_template_areas": null,
            "grid_template_columns": null,
            "grid_template_rows": null,
            "height": null,
            "justify_content": null,
            "justify_items": null,
            "left": null,
            "margin": null,
            "max_height": null,
            "max_width": null,
            "min_height": null,
            "min_width": null,
            "object_fit": null,
            "object_position": null,
            "order": null,
            "overflow": null,
            "overflow_x": null,
            "overflow_y": null,
            "padding": null,
            "right": null,
            "top": null,
            "visibility": null,
            "width": null
          }
        },
        "6db8f54f9f574a2796f43a9c449e6e3a": {
          "model_module": "@jupyter-widgets/controls",
          "model_name": "DescriptionStyleModel",
          "model_module_version": "1.5.0",
          "state": {
            "_model_module": "@jupyter-widgets/controls",
            "_model_module_version": "1.5.0",
            "_model_name": "DescriptionStyleModel",
            "_view_count": null,
            "_view_module": "@jupyter-widgets/base",
            "_view_module_version": "1.2.0",
            "_view_name": "StyleView",
            "description_width": ""
          }
        },
        "985b8b2288444ac7a0dfd3f447decb19": {
          "model_module": "@jupyter-widgets/controls",
          "model_name": "HBoxModel",
          "model_module_version": "1.5.0",
          "state": {
            "_dom_classes": [],
            "_model_module": "@jupyter-widgets/controls",
            "_model_module_version": "1.5.0",
            "_model_name": "HBoxModel",
            "_view_count": null,
            "_view_module": "@jupyter-widgets/controls",
            "_view_module_version": "1.5.0",
            "_view_name": "HBoxView",
            "box_style": "",
            "children": [
              "IPY_MODEL_84e9dc59b3fa4353b49f9a6c4bf3e858",
              "IPY_MODEL_9d3fcba1474f404888e6554092be6633",
              "IPY_MODEL_f0495a30ab824ef383d7dcbb1b83a2eb"
            ],
            "layout": "IPY_MODEL_26af518219c84ad7a6922e74e626686a"
          }
        },
        "84e9dc59b3fa4353b49f9a6c4bf3e858": {
          "model_module": "@jupyter-widgets/controls",
          "model_name": "HTMLModel",
          "model_module_version": "1.5.0",
          "state": {
            "_dom_classes": [],
            "_model_module": "@jupyter-widgets/controls",
            "_model_module_version": "1.5.0",
            "_model_name": "HTMLModel",
            "_view_count": null,
            "_view_module": "@jupyter-widgets/controls",
            "_view_module_version": "1.5.0",
            "_view_name": "HTMLView",
            "description": "",
            "description_tooltip": null,
            "layout": "IPY_MODEL_8cf8c66cb4e24bc4a64ec62fa577be04",
            "placeholder": "​",
            "style": "IPY_MODEL_c433edf76cb84600a70e0137a6d827da",
            "value": "tokenizer.model: 100%"
          }
        },
        "9d3fcba1474f404888e6554092be6633": {
          "model_module": "@jupyter-widgets/controls",
          "model_name": "FloatProgressModel",
          "model_module_version": "1.5.0",
          "state": {
            "_dom_classes": [],
            "_model_module": "@jupyter-widgets/controls",
            "_model_module_version": "1.5.0",
            "_model_name": "FloatProgressModel",
            "_view_count": null,
            "_view_module": "@jupyter-widgets/controls",
            "_view_module_version": "1.5.0",
            "_view_name": "ProgressView",
            "bar_style": "success",
            "description": "",
            "description_tooltip": null,
            "layout": "IPY_MODEL_b4b664ee7f564840abb21f26c7b730c8",
            "max": 4241003,
            "min": 0,
            "orientation": "horizontal",
            "style": "IPY_MODEL_c7748ae00cd248d79aaf92961deaff62",
            "value": 4241003
          }
        },
        "f0495a30ab824ef383d7dcbb1b83a2eb": {
          "model_module": "@jupyter-widgets/controls",
          "model_name": "HTMLModel",
          "model_module_version": "1.5.0",
          "state": {
            "_dom_classes": [],
            "_model_module": "@jupyter-widgets/controls",
            "_model_module_version": "1.5.0",
            "_model_name": "HTMLModel",
            "_view_count": null,
            "_view_module": "@jupyter-widgets/controls",
            "_view_module_version": "1.5.0",
            "_view_name": "HTMLView",
            "description": "",
            "description_tooltip": null,
            "layout": "IPY_MODEL_7abd0f08a02f4902ab2cda7be8a608cc",
            "placeholder": "​",
            "style": "IPY_MODEL_5b45c19f939541d9847a62588d840aad",
            "value": " 4.24M/4.24M [00:00&lt;00:00, 17.6MB/s]"
          }
        },
        "26af518219c84ad7a6922e74e626686a": {
          "model_module": "@jupyter-widgets/base",
          "model_name": "LayoutModel",
          "model_module_version": "1.2.0",
          "state": {
            "_model_module": "@jupyter-widgets/base",
            "_model_module_version": "1.2.0",
            "_model_name": "LayoutModel",
            "_view_count": null,
            "_view_module": "@jupyter-widgets/base",
            "_view_module_version": "1.2.0",
            "_view_name": "LayoutView",
            "align_content": null,
            "align_items": null,
            "align_self": null,
            "border": null,
            "bottom": null,
            "display": null,
            "flex": null,
            "flex_flow": null,
            "grid_area": null,
            "grid_auto_columns": null,
            "grid_auto_flow": null,
            "grid_auto_rows": null,
            "grid_column": null,
            "grid_gap": null,
            "grid_row": null,
            "grid_template_areas": null,
            "grid_template_columns": null,
            "grid_template_rows": null,
            "height": null,
            "justify_content": null,
            "justify_items": null,
            "left": null,
            "margin": null,
            "max_height": null,
            "max_width": null,
            "min_height": null,
            "min_width": null,
            "object_fit": null,
            "object_position": null,
            "order": null,
            "overflow": null,
            "overflow_x": null,
            "overflow_y": null,
            "padding": null,
            "right": null,
            "top": null,
            "visibility": null,
            "width": null
          }
        },
        "8cf8c66cb4e24bc4a64ec62fa577be04": {
          "model_module": "@jupyter-widgets/base",
          "model_name": "LayoutModel",
          "model_module_version": "1.2.0",
          "state": {
            "_model_module": "@jupyter-widgets/base",
            "_model_module_version": "1.2.0",
            "_model_name": "LayoutModel",
            "_view_count": null,
            "_view_module": "@jupyter-widgets/base",
            "_view_module_version": "1.2.0",
            "_view_name": "LayoutView",
            "align_content": null,
            "align_items": null,
            "align_self": null,
            "border": null,
            "bottom": null,
            "display": null,
            "flex": null,
            "flex_flow": null,
            "grid_area": null,
            "grid_auto_columns": null,
            "grid_auto_flow": null,
            "grid_auto_rows": null,
            "grid_column": null,
            "grid_gap": null,
            "grid_row": null,
            "grid_template_areas": null,
            "grid_template_columns": null,
            "grid_template_rows": null,
            "height": null,
            "justify_content": null,
            "justify_items": null,
            "left": null,
            "margin": null,
            "max_height": null,
            "max_width": null,
            "min_height": null,
            "min_width": null,
            "object_fit": null,
            "object_position": null,
            "order": null,
            "overflow": null,
            "overflow_x": null,
            "overflow_y": null,
            "padding": null,
            "right": null,
            "top": null,
            "visibility": null,
            "width": null
          }
        },
        "c433edf76cb84600a70e0137a6d827da": {
          "model_module": "@jupyter-widgets/controls",
          "model_name": "DescriptionStyleModel",
          "model_module_version": "1.5.0",
          "state": {
            "_model_module": "@jupyter-widgets/controls",
            "_model_module_version": "1.5.0",
            "_model_name": "DescriptionStyleModel",
            "_view_count": null,
            "_view_module": "@jupyter-widgets/base",
            "_view_module_version": "1.2.0",
            "_view_name": "StyleView",
            "description_width": ""
          }
        },
        "b4b664ee7f564840abb21f26c7b730c8": {
          "model_module": "@jupyter-widgets/base",
          "model_name": "LayoutModel",
          "model_module_version": "1.2.0",
          "state": {
            "_model_module": "@jupyter-widgets/base",
            "_model_module_version": "1.2.0",
            "_model_name": "LayoutModel",
            "_view_count": null,
            "_view_module": "@jupyter-widgets/base",
            "_view_module_version": "1.2.0",
            "_view_name": "LayoutView",
            "align_content": null,
            "align_items": null,
            "align_self": null,
            "border": null,
            "bottom": null,
            "display": null,
            "flex": null,
            "flex_flow": null,
            "grid_area": null,
            "grid_auto_columns": null,
            "grid_auto_flow": null,
            "grid_auto_rows": null,
            "grid_column": null,
            "grid_gap": null,
            "grid_row": null,
            "grid_template_areas": null,
            "grid_template_columns": null,
            "grid_template_rows": null,
            "height": null,
            "justify_content": null,
            "justify_items": null,
            "left": null,
            "margin": null,
            "max_height": null,
            "max_width": null,
            "min_height": null,
            "min_width": null,
            "object_fit": null,
            "object_position": null,
            "order": null,
            "overflow": null,
            "overflow_x": null,
            "overflow_y": null,
            "padding": null,
            "right": null,
            "top": null,
            "visibility": null,
            "width": null
          }
        },
        "c7748ae00cd248d79aaf92961deaff62": {
          "model_module": "@jupyter-widgets/controls",
          "model_name": "ProgressStyleModel",
          "model_module_version": "1.5.0",
          "state": {
            "_model_module": "@jupyter-widgets/controls",
            "_model_module_version": "1.5.0",
            "_model_name": "ProgressStyleModel",
            "_view_count": null,
            "_view_module": "@jupyter-widgets/base",
            "_view_module_version": "1.2.0",
            "_view_name": "StyleView",
            "bar_color": null,
            "description_width": ""
          }
        },
        "7abd0f08a02f4902ab2cda7be8a608cc": {
          "model_module": "@jupyter-widgets/base",
          "model_name": "LayoutModel",
          "model_module_version": "1.2.0",
          "state": {
            "_model_module": "@jupyter-widgets/base",
            "_model_module_version": "1.2.0",
            "_model_name": "LayoutModel",
            "_view_count": null,
            "_view_module": "@jupyter-widgets/base",
            "_view_module_version": "1.2.0",
            "_view_name": "LayoutView",
            "align_content": null,
            "align_items": null,
            "align_self": null,
            "border": null,
            "bottom": null,
            "display": null,
            "flex": null,
            "flex_flow": null,
            "grid_area": null,
            "grid_auto_columns": null,
            "grid_auto_flow": null,
            "grid_auto_rows": null,
            "grid_column": null,
            "grid_gap": null,
            "grid_row": null,
            "grid_template_areas": null,
            "grid_template_columns": null,
            "grid_template_rows": null,
            "height": null,
            "justify_content": null,
            "justify_items": null,
            "left": null,
            "margin": null,
            "max_height": null,
            "max_width": null,
            "min_height": null,
            "min_width": null,
            "object_fit": null,
            "object_position": null,
            "order": null,
            "overflow": null,
            "overflow_x": null,
            "overflow_y": null,
            "padding": null,
            "right": null,
            "top": null,
            "visibility": null,
            "width": null
          }
        },
        "5b45c19f939541d9847a62588d840aad": {
          "model_module": "@jupyter-widgets/controls",
          "model_name": "DescriptionStyleModel",
          "model_module_version": "1.5.0",
          "state": {
            "_model_module": "@jupyter-widgets/controls",
            "_model_module_version": "1.5.0",
            "_model_name": "DescriptionStyleModel",
            "_view_count": null,
            "_view_module": "@jupyter-widgets/base",
            "_view_module_version": "1.2.0",
            "_view_name": "StyleView",
            "description_width": ""
          }
        },
        "ec2092ef94234c4883e39e8f44604be0": {
          "model_module": "@jupyter-widgets/controls",
          "model_name": "HBoxModel",
          "model_module_version": "1.5.0",
          "state": {
            "_dom_classes": [],
            "_model_module": "@jupyter-widgets/controls",
            "_model_module_version": "1.5.0",
            "_model_name": "HBoxModel",
            "_view_count": null,
            "_view_module": "@jupyter-widgets/controls",
            "_view_module_version": "1.5.0",
            "_view_name": "HBoxView",
            "box_style": "",
            "children": [
              "IPY_MODEL_d0de4e531df944b1a5c0247dd9893c2f",
              "IPY_MODEL_383bd7fa04404a40b42a5131a7046801",
              "IPY_MODEL_d6692995b91e4d8d9028646c41f91afe"
            ],
            "layout": "IPY_MODEL_5626afbc431946559e6c2c2bb81b0f42"
          }
        },
        "d0de4e531df944b1a5c0247dd9893c2f": {
          "model_module": "@jupyter-widgets/controls",
          "model_name": "HTMLModel",
          "model_module_version": "1.5.0",
          "state": {
            "_dom_classes": [],
            "_model_module": "@jupyter-widgets/controls",
            "_model_module_version": "1.5.0",
            "_model_name": "HTMLModel",
            "_view_count": null,
            "_view_module": "@jupyter-widgets/controls",
            "_view_module_version": "1.5.0",
            "_view_name": "HTMLView",
            "description": "",
            "description_tooltip": null,
            "layout": "IPY_MODEL_d1e6999b3f374e0cabbd2c3b35fab8a5",
            "placeholder": "​",
            "style": "IPY_MODEL_c236c11a8e6442a98c654ba7c62cf435",
            "value": "tokenizer.json: 100%"
          }
        },
        "383bd7fa04404a40b42a5131a7046801": {
          "model_module": "@jupyter-widgets/controls",
          "model_name": "FloatProgressModel",
          "model_module_version": "1.5.0",
          "state": {
            "_dom_classes": [],
            "_model_module": "@jupyter-widgets/controls",
            "_model_module_version": "1.5.0",
            "_model_name": "FloatProgressModel",
            "_view_count": null,
            "_view_module": "@jupyter-widgets/controls",
            "_view_module_version": "1.5.0",
            "_view_name": "ProgressView",
            "bar_style": "success",
            "description": "",
            "description_tooltip": null,
            "layout": "IPY_MODEL_596be2d2ada546f6a6592e64911af5b3",
            "max": 17518497,
            "min": 0,
            "orientation": "horizontal",
            "style": "IPY_MODEL_5a3a7cac070240e5921c662e782b8e27",
            "value": 17518497
          }
        },
        "d6692995b91e4d8d9028646c41f91afe": {
          "model_module": "@jupyter-widgets/controls",
          "model_name": "HTMLModel",
          "model_module_version": "1.5.0",
          "state": {
            "_dom_classes": [],
            "_model_module": "@jupyter-widgets/controls",
            "_model_module_version": "1.5.0",
            "_model_name": "HTMLModel",
            "_view_count": null,
            "_view_module": "@jupyter-widgets/controls",
            "_view_module_version": "1.5.0",
            "_view_name": "HTMLView",
            "description": "",
            "description_tooltip": null,
            "layout": "IPY_MODEL_a571ea396a6e4f37b9b0ce2380878057",
            "placeholder": "​",
            "style": "IPY_MODEL_d57d3ab904244341aba2defc1b9a5c97",
            "value": " 17.5M/17.5M [00:00&lt;00:00, 67.5MB/s]"
          }
        },
        "5626afbc431946559e6c2c2bb81b0f42": {
          "model_module": "@jupyter-widgets/base",
          "model_name": "LayoutModel",
          "model_module_version": "1.2.0",
          "state": {
            "_model_module": "@jupyter-widgets/base",
            "_model_module_version": "1.2.0",
            "_model_name": "LayoutModel",
            "_view_count": null,
            "_view_module": "@jupyter-widgets/base",
            "_view_module_version": "1.2.0",
            "_view_name": "LayoutView",
            "align_content": null,
            "align_items": null,
            "align_self": null,
            "border": null,
            "bottom": null,
            "display": null,
            "flex": null,
            "flex_flow": null,
            "grid_area": null,
            "grid_auto_columns": null,
            "grid_auto_flow": null,
            "grid_auto_rows": null,
            "grid_column": null,
            "grid_gap": null,
            "grid_row": null,
            "grid_template_areas": null,
            "grid_template_columns": null,
            "grid_template_rows": null,
            "height": null,
            "justify_content": null,
            "justify_items": null,
            "left": null,
            "margin": null,
            "max_height": null,
            "max_width": null,
            "min_height": null,
            "min_width": null,
            "object_fit": null,
            "object_position": null,
            "order": null,
            "overflow": null,
            "overflow_x": null,
            "overflow_y": null,
            "padding": null,
            "right": null,
            "top": null,
            "visibility": null,
            "width": null
          }
        },
        "d1e6999b3f374e0cabbd2c3b35fab8a5": {
          "model_module": "@jupyter-widgets/base",
          "model_name": "LayoutModel",
          "model_module_version": "1.2.0",
          "state": {
            "_model_module": "@jupyter-widgets/base",
            "_model_module_version": "1.2.0",
            "_model_name": "LayoutModel",
            "_view_count": null,
            "_view_module": "@jupyter-widgets/base",
            "_view_module_version": "1.2.0",
            "_view_name": "LayoutView",
            "align_content": null,
            "align_items": null,
            "align_self": null,
            "border": null,
            "bottom": null,
            "display": null,
            "flex": null,
            "flex_flow": null,
            "grid_area": null,
            "grid_auto_columns": null,
            "grid_auto_flow": null,
            "grid_auto_rows": null,
            "grid_column": null,
            "grid_gap": null,
            "grid_row": null,
            "grid_template_areas": null,
            "grid_template_columns": null,
            "grid_template_rows": null,
            "height": null,
            "justify_content": null,
            "justify_items": null,
            "left": null,
            "margin": null,
            "max_height": null,
            "max_width": null,
            "min_height": null,
            "min_width": null,
            "object_fit": null,
            "object_position": null,
            "order": null,
            "overflow": null,
            "overflow_x": null,
            "overflow_y": null,
            "padding": null,
            "right": null,
            "top": null,
            "visibility": null,
            "width": null
          }
        },
        "c236c11a8e6442a98c654ba7c62cf435": {
          "model_module": "@jupyter-widgets/controls",
          "model_name": "DescriptionStyleModel",
          "model_module_version": "1.5.0",
          "state": {
            "_model_module": "@jupyter-widgets/controls",
            "_model_module_version": "1.5.0",
            "_model_name": "DescriptionStyleModel",
            "_view_count": null,
            "_view_module": "@jupyter-widgets/base",
            "_view_module_version": "1.2.0",
            "_view_name": "StyleView",
            "description_width": ""
          }
        },
        "596be2d2ada546f6a6592e64911af5b3": {
          "model_module": "@jupyter-widgets/base",
          "model_name": "LayoutModel",
          "model_module_version": "1.2.0",
          "state": {
            "_model_module": "@jupyter-widgets/base",
            "_model_module_version": "1.2.0",
            "_model_name": "LayoutModel",
            "_view_count": null,
            "_view_module": "@jupyter-widgets/base",
            "_view_module_version": "1.2.0",
            "_view_name": "LayoutView",
            "align_content": null,
            "align_items": null,
            "align_self": null,
            "border": null,
            "bottom": null,
            "display": null,
            "flex": null,
            "flex_flow": null,
            "grid_area": null,
            "grid_auto_columns": null,
            "grid_auto_flow": null,
            "grid_auto_rows": null,
            "grid_column": null,
            "grid_gap": null,
            "grid_row": null,
            "grid_template_areas": null,
            "grid_template_columns": null,
            "grid_template_rows": null,
            "height": null,
            "justify_content": null,
            "justify_items": null,
            "left": null,
            "margin": null,
            "max_height": null,
            "max_width": null,
            "min_height": null,
            "min_width": null,
            "object_fit": null,
            "object_position": null,
            "order": null,
            "overflow": null,
            "overflow_x": null,
            "overflow_y": null,
            "padding": null,
            "right": null,
            "top": null,
            "visibility": null,
            "width": null
          }
        },
        "5a3a7cac070240e5921c662e782b8e27": {
          "model_module": "@jupyter-widgets/controls",
          "model_name": "ProgressStyleModel",
          "model_module_version": "1.5.0",
          "state": {
            "_model_module": "@jupyter-widgets/controls",
            "_model_module_version": "1.5.0",
            "_model_name": "ProgressStyleModel",
            "_view_count": null,
            "_view_module": "@jupyter-widgets/base",
            "_view_module_version": "1.2.0",
            "_view_name": "StyleView",
            "bar_color": null,
            "description_width": ""
          }
        },
        "a571ea396a6e4f37b9b0ce2380878057": {
          "model_module": "@jupyter-widgets/base",
          "model_name": "LayoutModel",
          "model_module_version": "1.2.0",
          "state": {
            "_model_module": "@jupyter-widgets/base",
            "_model_module_version": "1.2.0",
            "_model_name": "LayoutModel",
            "_view_count": null,
            "_view_module": "@jupyter-widgets/base",
            "_view_module_version": "1.2.0",
            "_view_name": "LayoutView",
            "align_content": null,
            "align_items": null,
            "align_self": null,
            "border": null,
            "bottom": null,
            "display": null,
            "flex": null,
            "flex_flow": null,
            "grid_area": null,
            "grid_auto_columns": null,
            "grid_auto_flow": null,
            "grid_auto_rows": null,
            "grid_column": null,
            "grid_gap": null,
            "grid_row": null,
            "grid_template_areas": null,
            "grid_template_columns": null,
            "grid_template_rows": null,
            "height": null,
            "justify_content": null,
            "justify_items": null,
            "left": null,
            "margin": null,
            "max_height": null,
            "max_width": null,
            "min_height": null,
            "min_width": null,
            "object_fit": null,
            "object_position": null,
            "order": null,
            "overflow": null,
            "overflow_x": null,
            "overflow_y": null,
            "padding": null,
            "right": null,
            "top": null,
            "visibility": null,
            "width": null
          }
        },
        "d57d3ab904244341aba2defc1b9a5c97": {
          "model_module": "@jupyter-widgets/controls",
          "model_name": "DescriptionStyleModel",
          "model_module_version": "1.5.0",
          "state": {
            "_model_module": "@jupyter-widgets/controls",
            "_model_module_version": "1.5.0",
            "_model_name": "DescriptionStyleModel",
            "_view_count": null,
            "_view_module": "@jupyter-widgets/base",
            "_view_module_version": "1.2.0",
            "_view_name": "StyleView",
            "description_width": ""
          }
        },
        "1e9aa15c7f28423480647787bc4ce5e8": {
          "model_module": "@jupyter-widgets/controls",
          "model_name": "HBoxModel",
          "model_module_version": "1.5.0",
          "state": {
            "_dom_classes": [],
            "_model_module": "@jupyter-widgets/controls",
            "_model_module_version": "1.5.0",
            "_model_name": "HBoxModel",
            "_view_count": null,
            "_view_module": "@jupyter-widgets/controls",
            "_view_module_version": "1.5.0",
            "_view_name": "HBoxView",
            "box_style": "",
            "children": [
              "IPY_MODEL_aa76673ca8f74f2ea99d55eb669ca252",
              "IPY_MODEL_56f1cfa06f064dfd90071f899540945d",
              "IPY_MODEL_9201f0a49fc04f949a169f505ec33c5a"
            ],
            "layout": "IPY_MODEL_0789ffa69dbb440eb84efcfeeaf7862f"
          }
        },
        "aa76673ca8f74f2ea99d55eb669ca252": {
          "model_module": "@jupyter-widgets/controls",
          "model_name": "HTMLModel",
          "model_module_version": "1.5.0",
          "state": {
            "_dom_classes": [],
            "_model_module": "@jupyter-widgets/controls",
            "_model_module_version": "1.5.0",
            "_model_name": "HTMLModel",
            "_view_count": null,
            "_view_module": "@jupyter-widgets/controls",
            "_view_module_version": "1.5.0",
            "_view_name": "HTMLView",
            "description": "",
            "description_tooltip": null,
            "layout": "IPY_MODEL_cb88bef84c3e41e9b2cf949327d95bbf",
            "placeholder": "​",
            "style": "IPY_MODEL_d9df4d62f34049e9a217553cd6073582",
            "value": "special_tokens_map.json: 100%"
          }
        },
        "56f1cfa06f064dfd90071f899540945d": {
          "model_module": "@jupyter-widgets/controls",
          "model_name": "FloatProgressModel",
          "model_module_version": "1.5.0",
          "state": {
            "_dom_classes": [],
            "_model_module": "@jupyter-widgets/controls",
            "_model_module_version": "1.5.0",
            "_model_name": "FloatProgressModel",
            "_view_count": null,
            "_view_module": "@jupyter-widgets/controls",
            "_view_module_version": "1.5.0",
            "_view_name": "ProgressView",
            "bar_style": "success",
            "description": "",
            "description_tooltip": null,
            "layout": "IPY_MODEL_042da8c944804dc48d710baca6e8e932",
            "max": 636,
            "min": 0,
            "orientation": "horizontal",
            "style": "IPY_MODEL_2c0031a152d3477399a524e9dc6612ef",
            "value": 636
          }
        },
        "9201f0a49fc04f949a169f505ec33c5a": {
          "model_module": "@jupyter-widgets/controls",
          "model_name": "HTMLModel",
          "model_module_version": "1.5.0",
          "state": {
            "_dom_classes": [],
            "_model_module": "@jupyter-widgets/controls",
            "_model_module_version": "1.5.0",
            "_model_name": "HTMLModel",
            "_view_count": null,
            "_view_module": "@jupyter-widgets/controls",
            "_view_module_version": "1.5.0",
            "_view_name": "HTMLView",
            "description": "",
            "description_tooltip": null,
            "layout": "IPY_MODEL_27baa7311c144bffad39532667974733",
            "placeholder": "​",
            "style": "IPY_MODEL_94f9db533f0c4b58be21a30bf1d697b7",
            "value": " 636/636 [00:00&lt;00:00, 33.3kB/s]"
          }
        },
        "0789ffa69dbb440eb84efcfeeaf7862f": {
          "model_module": "@jupyter-widgets/base",
          "model_name": "LayoutModel",
          "model_module_version": "1.2.0",
          "state": {
            "_model_module": "@jupyter-widgets/base",
            "_model_module_version": "1.2.0",
            "_model_name": "LayoutModel",
            "_view_count": null,
            "_view_module": "@jupyter-widgets/base",
            "_view_module_version": "1.2.0",
            "_view_name": "LayoutView",
            "align_content": null,
            "align_items": null,
            "align_self": null,
            "border": null,
            "bottom": null,
            "display": null,
            "flex": null,
            "flex_flow": null,
            "grid_area": null,
            "grid_auto_columns": null,
            "grid_auto_flow": null,
            "grid_auto_rows": null,
            "grid_column": null,
            "grid_gap": null,
            "grid_row": null,
            "grid_template_areas": null,
            "grid_template_columns": null,
            "grid_template_rows": null,
            "height": null,
            "justify_content": null,
            "justify_items": null,
            "left": null,
            "margin": null,
            "max_height": null,
            "max_width": null,
            "min_height": null,
            "min_width": null,
            "object_fit": null,
            "object_position": null,
            "order": null,
            "overflow": null,
            "overflow_x": null,
            "overflow_y": null,
            "padding": null,
            "right": null,
            "top": null,
            "visibility": null,
            "width": null
          }
        },
        "cb88bef84c3e41e9b2cf949327d95bbf": {
          "model_module": "@jupyter-widgets/base",
          "model_name": "LayoutModel",
          "model_module_version": "1.2.0",
          "state": {
            "_model_module": "@jupyter-widgets/base",
            "_model_module_version": "1.2.0",
            "_model_name": "LayoutModel",
            "_view_count": null,
            "_view_module": "@jupyter-widgets/base",
            "_view_module_version": "1.2.0",
            "_view_name": "LayoutView",
            "align_content": null,
            "align_items": null,
            "align_self": null,
            "border": null,
            "bottom": null,
            "display": null,
            "flex": null,
            "flex_flow": null,
            "grid_area": null,
            "grid_auto_columns": null,
            "grid_auto_flow": null,
            "grid_auto_rows": null,
            "grid_column": null,
            "grid_gap": null,
            "grid_row": null,
            "grid_template_areas": null,
            "grid_template_columns": null,
            "grid_template_rows": null,
            "height": null,
            "justify_content": null,
            "justify_items": null,
            "left": null,
            "margin": null,
            "max_height": null,
            "max_width": null,
            "min_height": null,
            "min_width": null,
            "object_fit": null,
            "object_position": null,
            "order": null,
            "overflow": null,
            "overflow_x": null,
            "overflow_y": null,
            "padding": null,
            "right": null,
            "top": null,
            "visibility": null,
            "width": null
          }
        },
        "d9df4d62f34049e9a217553cd6073582": {
          "model_module": "@jupyter-widgets/controls",
          "model_name": "DescriptionStyleModel",
          "model_module_version": "1.5.0",
          "state": {
            "_model_module": "@jupyter-widgets/controls",
            "_model_module_version": "1.5.0",
            "_model_name": "DescriptionStyleModel",
            "_view_count": null,
            "_view_module": "@jupyter-widgets/base",
            "_view_module_version": "1.2.0",
            "_view_name": "StyleView",
            "description_width": ""
          }
        },
        "042da8c944804dc48d710baca6e8e932": {
          "model_module": "@jupyter-widgets/base",
          "model_name": "LayoutModel",
          "model_module_version": "1.2.0",
          "state": {
            "_model_module": "@jupyter-widgets/base",
            "_model_module_version": "1.2.0",
            "_model_name": "LayoutModel",
            "_view_count": null,
            "_view_module": "@jupyter-widgets/base",
            "_view_module_version": "1.2.0",
            "_view_name": "LayoutView",
            "align_content": null,
            "align_items": null,
            "align_self": null,
            "border": null,
            "bottom": null,
            "display": null,
            "flex": null,
            "flex_flow": null,
            "grid_area": null,
            "grid_auto_columns": null,
            "grid_auto_flow": null,
            "grid_auto_rows": null,
            "grid_column": null,
            "grid_gap": null,
            "grid_row": null,
            "grid_template_areas": null,
            "grid_template_columns": null,
            "grid_template_rows": null,
            "height": null,
            "justify_content": null,
            "justify_items": null,
            "left": null,
            "margin": null,
            "max_height": null,
            "max_width": null,
            "min_height": null,
            "min_width": null,
            "object_fit": null,
            "object_position": null,
            "order": null,
            "overflow": null,
            "overflow_x": null,
            "overflow_y": null,
            "padding": null,
            "right": null,
            "top": null,
            "visibility": null,
            "width": null
          }
        },
        "2c0031a152d3477399a524e9dc6612ef": {
          "model_module": "@jupyter-widgets/controls",
          "model_name": "ProgressStyleModel",
          "model_module_version": "1.5.0",
          "state": {
            "_model_module": "@jupyter-widgets/controls",
            "_model_module_version": "1.5.0",
            "_model_name": "ProgressStyleModel",
            "_view_count": null,
            "_view_module": "@jupyter-widgets/base",
            "_view_module_version": "1.2.0",
            "_view_name": "StyleView",
            "bar_color": null,
            "description_width": ""
          }
        },
        "27baa7311c144bffad39532667974733": {
          "model_module": "@jupyter-widgets/base",
          "model_name": "LayoutModel",
          "model_module_version": "1.2.0",
          "state": {
            "_model_module": "@jupyter-widgets/base",
            "_model_module_version": "1.2.0",
            "_model_name": "LayoutModel",
            "_view_count": null,
            "_view_module": "@jupyter-widgets/base",
            "_view_module_version": "1.2.0",
            "_view_name": "LayoutView",
            "align_content": null,
            "align_items": null,
            "align_self": null,
            "border": null,
            "bottom": null,
            "display": null,
            "flex": null,
            "flex_flow": null,
            "grid_area": null,
            "grid_auto_columns": null,
            "grid_auto_flow": null,
            "grid_auto_rows": null,
            "grid_column": null,
            "grid_gap": null,
            "grid_row": null,
            "grid_template_areas": null,
            "grid_template_columns": null,
            "grid_template_rows": null,
            "height": null,
            "justify_content": null,
            "justify_items": null,
            "left": null,
            "margin": null,
            "max_height": null,
            "max_width": null,
            "min_height": null,
            "min_width": null,
            "object_fit": null,
            "object_position": null,
            "order": null,
            "overflow": null,
            "overflow_x": null,
            "overflow_y": null,
            "padding": null,
            "right": null,
            "top": null,
            "visibility": null,
            "width": null
          }
        },
        "94f9db533f0c4b58be21a30bf1d697b7": {
          "model_module": "@jupyter-widgets/controls",
          "model_name": "DescriptionStyleModel",
          "model_module_version": "1.5.0",
          "state": {
            "_model_module": "@jupyter-widgets/controls",
            "_model_module_version": "1.5.0",
            "_model_name": "DescriptionStyleModel",
            "_view_count": null,
            "_view_module": "@jupyter-widgets/base",
            "_view_module_version": "1.2.0",
            "_view_name": "StyleView",
            "description_width": ""
          }
        }
      }
    }
  },
  "nbformat": 4,
  "nbformat_minor": 0
}