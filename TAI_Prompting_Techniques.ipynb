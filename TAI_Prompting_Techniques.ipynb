{
  "nbformat": 4,
  "nbformat_minor": 0,
  "metadata": {
    "colab": {
      "provenance": [],
      "authorship_tag": "ABX9TyPla2Hei0sRzUMvvJ0BiXq8",
      "include_colab_link": true
    },
    "kernelspec": {
      "name": "python3",
      "display_name": "Python 3"
    },
    "language_info": {
      "name": "python"
    }
  },
  "cells": [
    {
      "cell_type": "markdown",
      "metadata": {
        "id": "view-in-github",
        "colab_type": "text"
      },
      "source": [
        "<a href=\"https://colab.research.google.com/github/anshupandey/Generative-AI-opensource/blob/main/TAI_Prompting_Techniques.ipynb\" target=\"_parent\"><img src=\"https://colab.research.google.com/assets/colab-badge.svg\" alt=\"Open In Colab\"/></a>"
      ]
    },
    {
      "cell_type": "markdown",
      "source": [
        "# Prompt Engineering Techniques"
      ],
      "metadata": {
        "id": "C15tsQiWbAwK"
      }
    },
    {
      "cell_type": "code",
      "source": [
        "!pip install together --quiet"
      ],
      "metadata": {
        "colab": {
          "base_uri": "https://localhost:8080/"
        },
        "id": "giJFOyYCb42B",
        "outputId": "200a85ba-940f-46ff-f61b-7d76ed0839aa"
      },
      "execution_count": 1,
      "outputs": [
        {
          "output_type": "stream",
          "name": "stdout",
          "text": [
            "\u001b[2K     \u001b[90m━━━━━━━━━━━━━━━━━━━━━━━━━━━━━━━━━━━━━━━━\u001b[0m \u001b[32m61.4/61.4 kB\u001b[0m \u001b[31m874.3 kB/s\u001b[0m eta \u001b[36m0:00:00\u001b[0m\n",
            "\u001b[2K     \u001b[90m━━━━━━━━━━━━━━━━━━━━━━━━━━━━━━━━━━━━━━━━\u001b[0m \u001b[32m4.5/4.5 MB\u001b[0m \u001b[31m18.6 MB/s\u001b[0m eta \u001b[36m0:00:00\u001b[0m\n",
            "\u001b[?25h\u001b[31mERROR: pip's dependency resolver does not currently take into account all the packages that are installed. This behaviour is the source of the following dependency conflicts.\n",
            "imageio 2.31.6 requires pillow<10.1.0,>=8.3.2, but you have pillow 10.4.0 which is incompatible.\u001b[0m\u001b[31m\n",
            "\u001b[0m"
          ]
        }
      ]
    },
    {
      "cell_type": "markdown",
      "source": [
        "# Note: In order to access hosted version of Llama model, kindly signup (you can signup with google) for together AI and obtain key: https://api.together.ai/settings/api-keys\n",
        "\n",
        "**Note: you get $5 credit to use for a free account**"
      ],
      "metadata": {
        "id": "bOiyJBgOb_zR"
      }
    },
    {
      "cell_type": "code",
      "source": [
        "import os\n",
        "os.environ['TOGETHER_API_KEY']=\"xxxxxxxxxxxxxxxxxxxxxxx\""
      ],
      "metadata": {
        "id": "PdN0y-SscQyK"
      },
      "execution_count": 4,
      "outputs": []
    },
    {
      "cell_type": "code",
      "source": [
        "from together import Together\n",
        "from IPython.display import display,Markdown\n",
        "client = Together()"
      ],
      "metadata": {
        "id": "Cto9aTsGccRB"
      },
      "execution_count": 9,
      "outputs": []
    },
    {
      "cell_type": "code",
      "execution_count": 6,
      "metadata": {
        "colab": {
          "base_uri": "https://localhost:8080/"
        },
        "id": "Alt61gnwa6dm",
        "outputId": "81bbca7c-0414-405d-8c9c-d9000edaa6ce"
      },
      "outputs": [
        {
          "output_type": "stream",
          "name": "stdout",
          "text": [
            "The city that never sleeps! New York City is a vibrant and exciting place with endless options for entertainment, culture, food, and adventure. Here are some fun things to do in the Big Apple:\n",
            "\n",
            "1. **Iconic Landmarks**:\n",
            "\t* Visit the Statue of Liberty and Ellis Island for a glimpse into American history.\n",
            "\t* Take a stroll across the Brooklyn Bridge for spectacular city views.\n",
            "\t* Explore the Empire State Building, One World Trade Center, or the Chrysler Building for panoramic views.\n",
            "2. **Museums and Galleries**:\n",
            "\t* The Met, MoMA, Guggenheim, and the Whitney Museum of American Art are just a few of the many world-class museums.\n",
            "\t* Explore the many art galleries in Chelsea, the Lower East Side, and Williamsburg.\n",
            "3. **Broadway and Off-Broadway Shows**:\n",
            "\t* Catch a performance on Broadway, or explore the many Off-Broadway and Off-Off-Broadway productions.\n",
            "4. **Food and Markets**:\n",
            "\t* Try a classic New York-style pizza slice at Lombardi's, Joe's Pizza, or Artichoke Basille's.\n",
            "\t* Visit the iconic Grand Central Market, Chelsea Market, or Smorgasburg for a taste of the city's diverse culinary scene.\n",
            "5. **Parks and Green Spaces**:\n",
            "\t* Relax in Central Park, Prospect Park, or the High Line, which offers stunning views of the Hudson River.\n",
            "\t* Take a stroll through the Brooklyn Botanic Garden or the New York Botanical Garden.\n",
            "6. **Neighborhoods to Explore**:\n",
            "\t* SoHo, Greenwich Village, and the West Village are known for their charming streets, boutique shopping, and historic architecture.\n",
            "\t* Williamsburg, Brooklyn, is a hip neighborhood with a thriving arts and food scene.\n",
            "7. **Sports and Entertainment**:\n",
            "\t* Catch a game at Yankee Stadium, Citi Field, or Madison Square Garden.\n",
            "\t* Visit the iconic Radio City Music Hall for a show or tour.\n",
            "8. **Nightlife**:\n",
            "\t* Explore the many bars, clubs, and lounges in the Meatpacking District, Greenwich Village, or Williamsburg.\n",
            "\t* Take a sunset cruise around the Statue of Liberty or a helicopter tour for a unique perspective on the city.\n",
            "9. **Shopping**:\n",
            "\t* Fifth Avenue, Madison Avenue, and SoHo are famous for their upscale shopping.\n",
            "\t* Explore the many vintage shops, thrift stores, and independent boutiques throughout the city.\n",
            "10. **Seasonal Events and Festivals**:\n",
            "\t* Attend the Macy's Thanksgiving Day Parade, the Rockefeller Center Christmas tree lighting, or the New Year's Eve ball drop in Times Square.\n",
            "\t* Enjoy the many summer festivals, such as the US Open, the Tribeca Film Festival, or the Governors Ball Music Festival.\n",
            "\n",
            "These are just a few of the many fun things to do in New York City. With so much to see and do, you're sure to have an unforgettable experience in the city that never sleeps!\n"
          ]
        }
      ],
      "source": [
        "\n",
        "response = client.chat.completions.create(\n",
        "    model=\"meta-llama/Llama-2-7b-chat-hf\",\n",
        "    messages=[{\"role\": \"user\", \"content\": \"What are some fun things to do in New York?\"}],\n",
        ")\n",
        "print(response.choices[0].message.content)"
      ]
    },
    {
      "cell_type": "code",
      "source": [
        "def generate_response(prompt,client=client,temperature=0):\n",
        "  messages = [{\"role\": \"system\", \"content\": \"You are a helpful assistant, you answer questions in short and concise way.\"},\n",
        "              {\"role\": \"user\", \"content\": prompt}]\n",
        "  response = client.chat.completions.create(\n",
        "      model=\"meta-llama/Llama-2-7b-chat-hf\",\n",
        "      messages=messages,\n",
        "  )\n",
        "  return response.choices[0].message.content"
      ],
      "metadata": {
        "id": "iky6Gkr7dNya"
      },
      "execution_count": 44,
      "outputs": []
    },
    {
      "cell_type": "code",
      "source": [],
      "metadata": {
        "id": "G4hCbkJndsNo"
      },
      "execution_count": 25,
      "outputs": []
    },
    {
      "cell_type": "markdown",
      "metadata": {
        "id": "W1xrQNg0br00"
      },
      "source": [
        "## Zero Shot Prompting\n",
        "Zero shot prompting involves using a pre-trained language model to perform a task without any task-specific training data. The model relies solely on its general knowledge acquired during pre-training. For instance, by providing a prompt like \"Translate English to French: Hello,\" the model generates the translation \"Bonjour\" without having seen any specific translation examples during fine-tuning.\n",
        "\n",
        "### Example\n",
        "```\n",
        "Prompt: Translate English to French: Hello\n",
        "Output: Bonjour\n",
        "```"
      ]
    },
    {
      "cell_type": "code",
      "execution_count": 26,
      "metadata": {
        "id": "1DpqkFzDvsTe",
        "outputId": "deddfcd5-68ec-4c61-f190-84d5d99a4b34",
        "colab": {
          "base_uri": "https://localhost:8080/",
          "height": 483
        }
      },
      "outputs": [
        {
          "output_type": "display_data",
          "data": {
            "text/plain": [
              "<IPython.core.display.Markdown object>"
            ],
            "text/markdown": "Here is a conversation story between a child and a grandparent:\n\n**Setting:** A cozy living room in a grandparent's home, with a warm fire crackling in the fireplace. The child, a curious 8-year-old named Timmy, is sitting on the couch, and his grandmother, Grandma Jean, is sitting in a comfortable armchair across from him.\n\n**Timmy:** Grandma, can I ask you something?\n\n**Grandma Jean:** Of course, sweetie! What's on your mind?\n\n**Timmy:** I was wondering about when you were a kid. What was it like?\n\n**Grandma Jean:** Oh, let me tell you, it was a different time back then! (laughs) We didn't have all these new-fangled gadgets and gizmos like we do now. We had to be more creative and make our own fun.\n\n**Timmy:** Like what? What did you do for fun?\n\n**Grandma Jean:** Well, we used to play outside all the time. We'd ride our bikes, play tag, and explore the woods behind our house. We didn't have all these video games and TV shows like you do now, so we had to make our own entertainment.\n\n**Timmy:** That sounds like so much fun! Did you have any favorite games or activities?\n\n**Grandma Jean:** Oh, yes! We loved playing hide-and-seek, and we'd have these big family picnics in the park. And in the winter, we'd build snowmen and have snowball fights. (smiling) Those were the days!\n\n**Timmy:** That sounds like so much fun! I wish I could have lived back then. (giggles)\n\n**Grandma Jean:** (laughs) Well, you know, Timmy, even though things are different now, there are still plenty of ways to have fun. You just have to be creative and use your imagination. And don't forget to always be kind to others and appreciate the little things in life.\n\n**Timmy:** I will, Grandma. Thanks for telling me about when you were a kid. It was really cool to hear about.\n\n**Grandma Jean:** Anytime, sweetie. I'm always happy to share my stories with you. Now, how about we make some hot chocolate and watch a movie together?\n\n**Timmy:** Yeah! That sounds like the best day ever! (smiling)\n\n**Grandma Jean:** (smiling back) I'm glad you think so, Timmy. I love spending time with you."
          },
          "metadata": {}
        }
      ],
      "source": [
        "# zero shot prompting\n",
        "prompt = f\"\"\"\n",
        "\n",
        "Create a conversation story between child and grandparent.\n",
        "\"\"\"\n",
        "response = generate_response(prompt)\n",
        "display(Markdown(response))"
      ]
    },
    {
      "cell_type": "markdown",
      "metadata": {
        "id": "pcBE11_6vwJd"
      },
      "source": [
        "## Few Shot Prompting\n",
        "\n",
        "Here, the model is given a few examples (shots) to guide its response. By providing context or previous instances, the model can better understand and generate the desired output. For example, showing a model several examples of translated sentences before asking it to translate a new one.\n",
        "\n",
        "\n",
        "Few shot prompting involves providing the language model with a few examples of the task within the prompt to guide its output. This helps the model understand the desired task better.\n",
        "\n",
        "### Example\n",
        "```\n",
        "Prompt: Translate English to French:\n",
        "1. Hello -> Bonjour\n",
        "2. How are you? -> Comment ça va?\n",
        "3. Good morning -> Bonjour\n",
        "Output: Bonjour\n",
        "```\n"
      ]
    },
    {
      "cell_type": "code",
      "execution_count": 45,
      "metadata": {
        "colab": {
          "base_uri": "https://localhost:8080/",
          "height": 87
        },
        "id": "8SurLNqfa6wi",
        "outputId": "2d468c1a-06c1-419d-a3d4-30d1b4b7e776"
      },
      "outputs": [
        {
          "output_type": "display_data",
          "data": {
            "text/plain": [
              "<IPython.core.display.Markdown object>"
            ],
            "text/markdown": "  Of course! Here's my response:\n\n<child>: Teach me about resilience.\n<grandma>: Resilience is like a tree that bends in the wind but doesn't break. It's the ability to withstand challenges and keep standing tall. Just like how a tree can weather a storm, you can too."
          },
          "metadata": {}
        }
      ],
      "source": [
        "# few shot prompting\n",
        "prompt = f\"\"\"\n",
        "your task is to answer in a consistent sytle:\n",
        "\n",
        "<child>: Teach me about patience.\n",
        "<grandma>: Patience is like waiting for whole day to see the moon in the evening and then sleeping after having a look at it.\n",
        "\n",
        "<child>: Teach me about resilience.\n",
        "\"\"\"\n",
        "response = generate_response(prompt)\n",
        "display(Markdown(response))"
      ]
    },
    {
      "cell_type": "markdown",
      "metadata": {
        "id": "LqtJ2ipJbhw6"
      },
      "source": [
        "#### Few shot prompting with role setup"
      ]
    },
    {
      "cell_type": "code",
      "execution_count": 46,
      "metadata": {
        "id": "RTawSemLbhw6",
        "outputId": "0ad65e15-a481-47b4-cd74-dfa91a77ad63",
        "colab": {
          "base_uri": "https://localhost:8080/"
        }
      },
      "outputs": [
        {
          "output_type": "stream",
          "name": "stdout",
          "text": [
            "positive\n"
          ]
        }
      ],
      "source": [
        "result = client.chat.completions.create(\n",
        "    temperature=0.9,\n",
        "    model = \"meta-llama/Meta-Llama-3-8B-Instruct-Lite\",\n",
        "    messages=[\n",
        "        {\"role\": \"system\", \"content\": \"You are a helpful assistant.\"},\n",
        "        {\"role\": \"user\", \"content\": \"That was an awesome experience\"},\n",
        "        {\"role\": \"assistant\", \"content\": \"positive\"},\n",
        "        {\"role\": \"user\", \"content\": \"I won't do that again\"},\n",
        "        {\"role\": \"assistant\", \"content\": \"negative\"},\n",
        "        {\"role\": \"user\", \"content\": \"That was not worth my time\"},\n",
        "        {\"role\": \"assistant\", \"content\": \"negative\"},\n",
        "        {\"role\": \"user\", \"content\": \"You can't miss this\"}\n",
        "    ],\n",
        ")\n",
        "print(result.choices[0].message.content)"
      ]
    },
    {
      "cell_type": "markdown",
      "metadata": {
        "id": "2IBIItcqbhw_"
      },
      "source": [
        "\n",
        "## Chain of Thought Prompting\n",
        "Chain of thought prompting is a technique where the model is guided to reason through a problem step-by-step. This approach breaks down complex tasks into simpler intermediate steps, improving the model’s performance on reasoning tasks.\n",
        "\n",
        "### Example\n",
        "```\n",
        "Prompt: If you have 3 apples and you give 2 away, how many do you have left?\n",
        "Step 1: You start with 3 apples.\n",
        "Step 2: You give away 2 apples.\n",
        "Step 3: 3 - 2 = 1 apple.\n",
        "Output: 1 apple.\n",
        "```\n"
      ]
    },
    {
      "cell_type": "code",
      "execution_count": 47,
      "metadata": {
        "id": "JbMnOeiq2atC",
        "outputId": "bfd5e39c-0f11-42e1-d8a4-09f0c1d378f8",
        "colab": {
          "base_uri": "https://localhost:8080/",
          "height": 70
        }
      },
      "outputs": [
        {
          "output_type": "display_data",
          "data": {
            "text/plain": [
              "<IPython.core.display.Markdown object>"
            ],
            "text/markdown": "  Sure, I'd be happy to help!\n\nStudent: 15 pens"
          },
          "metadata": {}
        }
      ],
      "source": [
        "# Without Chain of Thought Prompting\n",
        "prompt = f\"\"\"\n",
        "Teacher: Johan had 5 apples, he bought 4 more boxes with 5 apples each. How many apples does he have now?\n",
        "Student: 25 apples\n",
        "\n",
        "Teacher: Marry had 5 pens, she gave 3 to her friend. and bought 2 boxes of pen with 3 pen in each box. How many pens does she have now?\n",
        "Student:\n",
        "\"\"\"\n",
        "response = generate_response(prompt)\n",
        "display(Markdown(response))"
      ]
    },
    {
      "cell_type": "code",
      "execution_count": 48,
      "metadata": {
        "id": "_7Hz_cvLbhw_",
        "outputId": "6b450bc8-7bca-4766-c1d9-ea8dd2a537ed",
        "colab": {
          "base_uri": "https://localhost:8080/",
          "height": 64
        }
      },
      "outputs": [
        {
          "output_type": "display_data",
          "data": {
            "text/plain": [
              "<IPython.core.display.Markdown object>"
            ],
            "text/markdown": "  Student: Marry had 5 pens, gave 3 to friend = 5 - 3 = 2 pens. Marry bought 2 boxes of pens with 3 pens in each box = 2*3 = 6 pens. So, Marry has 2 + 6 = 8 pens now."
          },
          "metadata": {}
        }
      ],
      "source": [
        "# with Chain of Thought prompting\n",
        "prompt = f\"\"\"\n",
        "\n",
        "Teacher: Johan had 5 apples, he bought 4 more boxes with 5 apples each. How many apples does he have now?\n",
        "Student: Johan had 5 apples, 4 boxes with 5 apples each = 5 + 4*5 = 25 apples\n",
        "\n",
        "Teacher: Marry had 5 pens, she gave 3 to her friend. and bought 2 boxes of pen with 3 pen in each box. How many pens does she have now?\n",
        "Student:\n",
        "\n",
        "\"\"\"\n",
        "response = generate_response(prompt)\n",
        "display(Markdown(response))"
      ]
    },
    {
      "cell_type": "markdown",
      "metadata": {
        "id": "bQvoNRxqVo5_"
      },
      "source": [
        "## Tree of Thoughts (ToT)\n",
        "\n",
        "Tree of Thoughts (ToT) prompting is a framework that generalizes over chain-of-thought prompting and encourages exploration over thoughts that serve as intermediate steps for general problem-solving with language models.\n",
        "\n",
        "\n",
        "How does it work?\n",
        "\n",
        "- ToT prompting breaks problems down into smaller parts, similar to CoT prompting, but goes further by combining this with the ability to explore multiple solution paths in parallel, forming a tree instead of a single chain. Each thought is generated or solved independently and passed to the next step, allowing the model to self-evaluate and decide whether to continue with that path or choose another.\n",
        "\n",
        "\n",
        "Tree of thought prompting involves exploring multiple reasoning paths simultaneously, akin to a decision tree. This allows the model to consider various possibilities and select the most plausible solution. This method is useful for tasks requiring complex decision-making and creative problem-solving.\n",
        "\n",
        "### Example\n",
        "```\n",
        "Prompt: Solve the equation x^2 - 5x + 6 = 0.\n",
        "Path 1:\n",
        "Step 1: Factor the equation as (x-2)(x-3) = 0.\n",
        "Step 2: Solve for x, giving x = 2 or x = 3.\n",
        "Output: x = 2 or x = 3.\n",
        "\n",
        "Path 2:\n",
        "Step 1: Use the quadratic formula x = [5 ± sqrt(25-24)] / 2.\n",
        "Step 2: Simplify to get x = 2 or x = 3.\n",
        "Output: x = 2 or x = 3.\n",
        "```\n"
      ]
    },
    {
      "cell_type": "code",
      "execution_count": 49,
      "metadata": {
        "colab": {
          "base_uri": "https://localhost:8080/"
        },
        "id": "zF7_WBM9MT78",
        "outputId": "c6e28249-8dfe-4497-96e1-a3ea19ea7bd0"
      },
      "outputs": [
        {
          "output_type": "stream",
          "name": "stdout",
          "text": [
            "  Great! Let's get started with this brainstorming session. As the helpful assistant, I will facilitate the discussion and ensure that each expert provides their reasoning in a clear and concise manner.\n",
            "\n",
            "Expert 1:\n",
            "The single most likely location of Carlos' watch is at the snack bar where he left the towel. This is because he walked to the snack bar after shaking the towel, and it's unlikely he would have taken the watch with him.\n",
            "\n",
            "Expert 2:\n",
            "I agree with Expert 1. The watch is most likely to be found at the snack bar. Carlos would have had to pass by the snack bar on his way to the diving board, so it's the most convenient place for him to have left it.\n",
            "\n",
            "Expert 3:\n",
            "I disagree with both Expert 1 and Expert 2. Carlos is a careful person, and he would not have left his expensive watch unattended at the snack bar. Instead, he might have put it in his pocket or in a secure location nearby.\n",
            "\n",
            "Expert 4:\n",
            "I think Expert 3 is on the right track. Carlos might have put the watch in a hidden compartment in the towel, which he could have done before leaving it at the snack bar. This would explain why the watch is not found at the snack bar.\n",
            "\n",
            "Expert 5:\n",
            "I agree with Expert 4. Carlos is a clever person, and he might have hidden the watch in a clever location. However, I think it's more likely that he left it at the diving board. He walked to the snack bar after shaking the towel, but he didn't mention anything about the watch. It's possible he forgot about it at the diving board.\n",
            "\n",
            "Expert 1:\n",
            "I see some merit in Expert 5's argument. However, I still think the watch is most likely to be found at the snack bar. Carlos would have had to pass by the snack bar on his way to the diving board, so it's the most convenient place for him to have left it.\n",
            "\n",
            "Expert 2:\n",
            "I agree with Expert 1. The snack bar is still the most likely location of the watch.\n",
            "\n",
            "Expert 3:\n",
            "I see, I see... I think I made a mistake in my previous argument. I agree with Expert 1 and Expert 2, the watch is most likely to be found at the snack bar.\n",
            "\n",
            "Expert 4:\n",
            "I see, I agree with the consensus. The watch is most likely to be found at the snack bar.\n",
            "\n",
            "Expert 5:\n",
            "Yes, I agree. The snack bar is the single most likely location of the watch.\n",
            "\n",
            "Likelihood of assertion being correct:\n",
            "Expert 1: 8/10\n",
            "Expert 2: 8/10\n",
            "Expert 3: 7/10\n",
            "Expert 4: 8/10\n",
            "Expert 5: 8/10\n",
            "\n",
            "It seems that the consensus is that the watch is most likely to be found at the snack bar. However, it's important to note that this is just a probability and there could be other locations where the watch could be found.\n"
          ]
        }
      ],
      "source": [
        "\n",
        "prompt = \"\"\"\n",
        "Imagine 5 different experts are answering this question.\n",
        "They will brainstorm the answer step by step reasoning carefully and taking all facts into consideration\n",
        "All experts will write down 1 step of their thinking,\n",
        "then share it with the group.\n",
        "They will each critique their response, and the all the responses of others\n",
        "They will check their answer based on science and the laws of physics\n",
        "They will keep going through steps until they reach their conclusion taking into account the thoughts of the other experts\n",
        "If at any time they realise that there is a flaw in their logic they will backtrack to where that flaw occurred\n",
        "If any expert realises they're wrong at any point then they acknowledges this and start another train of thought\n",
        "Each expert will assign a likelihood of their current assertion being correct\n",
        "Continue until the experts agree on the single most likely location\n",
        "The question is.\n",
        "1. Carlos is at the swimming pool.\n",
        "2. He walks to the locker room, carrying a towel.\n",
        "3. He puts his watch in the towel and carries the towel tightly to a lounger at the poolside.\n",
        "4. At the lounger he opens and vigorously shakes the towel, then walks to the snack bar.\n",
        "5. He leaves the towel at the snack bar, then walks to the diving board.\n",
        "6. Later Carlos realises he has has lost his watch. Where is the single most likely location of the watch?\n",
        "\"\"\"\n",
        "\n",
        "\n",
        "ans=generate_response(prompt)\n",
        "\n",
        "print(ans)"
      ]
    },
    {
      "cell_type": "markdown",
      "metadata": {
        "id": "dPnsQc3hpQ7x"
      },
      "source": [
        "## Chain-of-Verification Prompting\n",
        "\n",
        "The Chain-of-Verification (CoVe) prompt engineering method aims to reduce hallucinations through a verification loop.\n",
        "\n",
        "Chain of verification prompting focuses on verifying the steps or outputs generated by the model. This method involves breaking down the task and explicitly checking each step to ensure accuracy.\n",
        "\n",
        "### Example\n",
        "```\n",
        "Prompt: Is 437 a prime number?\n",
        "Step 1: Check divisibility by 2: No.\n",
        "Step 2: Check divisibility by 3: No.\n",
        "Step 3: Check divisibility by 19: Yes (437 ÷ 19 = 23).\n",
        "Output: 437 is not a prime number.\n",
        "```"
      ]
    },
    {
      "cell_type": "code",
      "execution_count": 50,
      "metadata": {
        "colab": {
          "base_uri": "https://localhost:8080/"
        },
        "id": "u9mjZtAJfDdm",
        "outputId": "e172568b-2bad-4590-bbb1-82a46085907e"
      },
      "outputs": [
        {
          "output_type": "stream",
          "name": "stdout",
          "text": [
            "  Sure, I'd be happy to help! Here's my initial response to the question:\n",
            "\n",
            "Some athletes who were born in the United States include:\n",
            "\n",
            "* LeBron James (basketball)\n",
            "* Tom Brady (football)\n",
            "* Serena Williams (tennis)\n",
            "* Michael Jordan (basketball)\n",
            "* Tiger Woods (golf)\n",
            "\n",
            "Now, here are some verification questions based on this response:\n",
            "\n",
            "Verification Question 1: Is LeBron James still active in the NBA?\n",
            "Answer: Yes, LeBron James is still active in the NBA and currently plays for the Los Angeles Lakers.\n",
            "\n",
            "Verification Question 2: Did Tom Brady play football for the New England Patriots?\n",
            "Answer: Yes, Tom Brady played football for the New England Patriots for many years before moving to the Tampa Bay Buccaneers.\n",
            "\n",
            "Verification Question 3: Is Serena Williams still active in professional tennis?\n",
            "Answer: Yes, Serena Williams is still active in professional tennis and has won numerous titles since her debut in 1995.\n",
            "\n",
            "Verification Question 4: Did Michael Jordan play for the Chicago Bulls?\n",
            "Answer: Yes, Michael Jordan played for the Chicago Bulls from 1984 to 1993 and led the team to six NBA championships.\n",
            "\n",
            "Verification Question 5: Is Tiger Woods still active in professional golf?\n",
            "Answer: Yes, Tiger Woods is still active in professional golf and has won numerous titles, including 15 major championships.\n",
            "\n",
            "Based on these verification questions, I have revised my initial response to include more accurate information. Here is the final, verified answer:\n",
            "\n",
            "Some athletes who were born in the United States include:\n",
            "\n",
            "* LeBron James (basketball, currently plays for the Los Angeles Lakers)\n",
            "* Tom Brady (football, played for the New England Patriots and Tampa Bay Buccaneers)\n",
            "* Serena Williams (tennis, still active and has won numerous titles since her debut in 1995)\n",
            "* Michael Jordan (basketball, played for the Chicago Bulls from 1984 to 1993 and led the team to six NBA championships)\n",
            "* Tiger Woods (golf, still active and has won numerous titles, including 15 major championships)\n",
            "\n",
            "I hope this helps! Let me know if you have any other questions.\n"
          ]
        }
      ],
      "source": [
        "Question=\"Name some athletes who were born in United states\"\n",
        "\n",
        "prompt=f'''Here is the question: {Question}.\n",
        "\n",
        "First, generate a response.\n",
        "\n",
        "Then, create and answer verification questions based on this response to check for accuracy. Think it through and make sure you are extremely accurate based on the question asked.\n",
        "\n",
        "After answering each verification question, consider these answers and revise the initial response to formulate a final, verified answer. Ensure the final response reflects the accuracy and findings from the verification process.'''\n",
        "\n",
        "\n",
        "\n",
        "ans=generate_response(prompt)\n",
        "\n",
        "print(ans)\n"
      ]
    },
    {
      "cell_type": "markdown",
      "metadata": {
        "id": "Z8_TNNG2Ozu6"
      },
      "source": [
        "# Model Limitations: Hallucinations"
      ]
    },
    {
      "cell_type": "code",
      "execution_count": 51,
      "metadata": {
        "colab": {
          "base_uri": "https://localhost:8080/"
        },
        "id": "Or9Q36oxO4bx",
        "outputId": "cd3842d9-a3e8-4308-9f91-8b91ce23d3b2"
      },
      "outputs": [
        {
          "output_type": "stream",
          "name": "stdout",
          "text": [
            "  Thank you for asking! HCL IT Services offers Ergonomic chairs that are designed to provide comfort and support for users. The chair is designed with ergonomic principles in mind, ensuring that the chair fits the user's body and promotes good posture.\n",
            "\n",
            "The Ergonomic chair from HCL IT Services is made of high-quality materials and is designed to provide optimal support and comfort for users. The chair features adjustable height and tilt, as well as lumbar support and armrests for added comfort.\n",
            "\n",
            "The chair is also designed to be durable and long-lasting, with a sturdy frame and high-quality materials that can withstand heavy use. Additionally, the chair is easy to assemble and maintain, making it a practical choice for offices and workspaces.\n",
            "\n",
            "Overall, the Ergonomic chair from HCL IT Services is a great choice for anyone looking for a comfortable and supportive chair that can help promote good posture and reduce fatigue.\n"
          ]
        }
      ],
      "source": [
        "prompt = f\"\"\"\n",
        "Tell me about Ergonamic chair procuced and sold by HCL IT Services.\n",
        "\"\"\"\n",
        "\n",
        "result = generate_response(prompt)\n",
        "print(result)"
      ]
    },
    {
      "cell_type": "code",
      "execution_count": 52,
      "metadata": {
        "colab": {
          "base_uri": "https://localhost:8080/"
        },
        "id": "n4rvOOeSPIDV",
        "outputId": "c77ec844-1f32-4a54-c983-b5bfd29da9df"
      },
      "outputs": [
        {
          "output_type": "stream",
          "name": "stdout",
          "text": [
            "  I apologize, but I'm a large language model, I cannot provide information on a product called \"Ergonamic Toothbrush\" by TATA CONSULTANCY SERVICES as it seems to be a fictional or non-existent product. TATA CONSULTANCY SERVICES is a well-known Indian multinational information technology service and consulting company, but I could not find any information on a toothbrush product under this name.\n",
            "\n",
            "If you have any other questions or concerns, please feel free to ask!\n"
          ]
        }
      ],
      "source": [
        "prompt = f\"\"\"\n",
        "Tell me about Ergonamic Toothbrush by TATA CONSULTANCY SERVICES.\n",
        "\"\"\"\n",
        "\n",
        "result = generate_response(prompt)\n",
        "print(result)"
      ]
    },
    {
      "cell_type": "code",
      "execution_count": 53,
      "metadata": {
        "colab": {
          "base_uri": "https://localhost:8080/"
        },
        "id": "hzawWC-7PT_l",
        "outputId": "f8a62e4d-2685-4632-d0e7-ead5db81654f"
      },
      "outputs": [
        {
          "output_type": "stream",
          "name": "stdout",
          "text": [
            "  Sure, here's some information about the Ultraslim Toothbrush by Infosys:\n",
            "\n",
            "The Ultraslim Toothbrush is a slim and compact toothbrush designed for easy storage and portability. It has a sleek and modern design, making it a stylish addition to any bathroom. The toothbrush has a slim handle that is easy to hold and maneuver, allowing for easy access to all areas of the mouth.\n",
            "\n",
            "The Ultraslim Toothbrush features soft bristles that are gentle on teeth and gums, providing a thorough cleaning without causing irritation. It also has a built-in timer that helps users brush for the recommended 2 minutes, ensuring a complete cleaning of the teeth.\n",
            "\n",
            "The toothbrush is also easy to use and maintain, with a simple on/off switch and a replaceable head. It is also compatible with a variety of toothpaste flavors and types, allowing users to customize their oral care routine.\n",
            "\n",
            "Overall, the Ultraslim Toothbrush by Infosys is a great option for those looking for a stylish, easy-to-use, and effective toothbrush.\n"
          ]
        }
      ],
      "source": [
        "prompt = f\"\"\"\n",
        "Tell me about Ultraslim Toothbrush by Infosys.\n",
        "\"\"\"\n",
        "\n",
        "result = generate_response(prompt)\n",
        "print(result)"
      ]
    },
    {
      "cell_type": "code",
      "execution_count": 54,
      "metadata": {
        "colab": {
          "base_uri": "https://localhost:8080/"
        },
        "id": "gjWPGpKzPdQB",
        "outputId": "934ef40e-a289-4f33-fd30-71c4a974bb5b"
      },
      "outputs": [
        {
          "output_type": "stream",
          "name": "stdout",
          "text": [
            "  Of course! Here are one-line descriptions for each of the cities you mentioned:\n",
            "\n",
            "1. Manila: A bustling metropolis in the Philippines known for its vibrant nightlife, historic landmarks, and bustling streets.\n",
            "2. Delhi: The capital of India famous for its rich history, cultural heritage, and modern architecture, including the Red Fort and Qutub Minar.\n",
            "3. Amdocsonia: A fictional city, so I'll just come up with something quick: Amdocsonia is a futuristic city on a distant planet, known for its towering skyscrapers, advanced technology, and vibrant alien culture.\n"
          ]
        }
      ],
      "source": [
        "prompt = f\"\"\"\n",
        "Generate one line description for each of the following city:\n",
        "1. Manila\n",
        "2. Delhi\n",
        "3. Amdocsonia\n",
        "\"\"\"\n",
        "\n",
        "print(generate_response(prompt))"
      ]
    },
    {
      "cell_type": "code",
      "execution_count": 55,
      "metadata": {
        "colab": {
          "base_uri": "https://localhost:8080/"
        },
        "id": "Io6r-CoeRP5r",
        "outputId": "bf9b07fd-206e-4567-e704-49d37cb9c415"
      },
      "outputs": [
        {
          "output_type": "stream",
          "name": "stdout",
          "text": [
            "  Sure, I'd be happy to help! Here are one-line descriptions for each of the cities you mentioned:\n",
            "\n",
            "1. Manila - The capital city of the Philippines, known for its vibrant culture, historic landmarks, and bustling streets. (Yes, Manila exists)\n",
            "2. Delhi - The capital city of India, famous for its rich history, cultural heritage, and modern infrastructure. (Yes, Delhi exists)\n",
            "3. Spectrumania - I'm sorry, but there is no city called Spectrumania. (No description can be generated)\n"
          ]
        }
      ],
      "source": [
        "prompt = f\"\"\"\n",
        "Generate one line description for each of the following city, check if the city exists, if it does not exist, say no description can be generated:\n",
        "1. Manila\n",
        "2. Delhi\n",
        "3. spectrumania\n",
        "\"\"\"\n",
        "\n",
        "print(generate_response(prompt))"
      ]
    },
    {
      "cell_type": "code",
      "source": [],
      "metadata": {
        "id": "6d4DLizsgLIG"
      },
      "execution_count": 55,
      "outputs": []
    }
  ]
}