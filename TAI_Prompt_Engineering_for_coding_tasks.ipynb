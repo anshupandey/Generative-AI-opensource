{
  "cells": [
    {
      "cell_type": "markdown",
      "metadata": {
        "id": "view-in-github",
        "colab_type": "text"
      },
      "source": [
        "<a href=\"https://colab.research.google.com/github/anshupandey/Generative-AI-opensource/blob/main/HF_Prompt_Engineering_for_coding_tasks.ipynb\" target=\"_parent\"><img src=\"https://colab.research.google.com/assets/colab-badge.svg\" alt=\"Open In Colab\"/></a>"
      ]
    },
    {
      "cell_type": "markdown",
      "metadata": {
        "id": "gUIEP9y7NHxU"
      },
      "source": [
        "# Prompt Engineering for Coding Tasks"
      ]
    },
    {
      "cell_type": "code",
      "source": [
        "!pip install together --quiet"
      ],
      "metadata": {
        "colab": {
          "base_uri": "https://localhost:8080/"
        },
        "id": "giJFOyYCb42B",
        "outputId": "907101af-04db-4032-e0e2-3976da87cc2f"
      },
      "execution_count": 1,
      "outputs": [
        {
          "output_type": "stream",
          "name": "stdout",
          "text": [
            "\u001b[2K     \u001b[90m━━━━━━━━━━━━━━━━━━━━━━━━━━━━━━━━━━━━━━━━\u001b[0m \u001b[32m61.4/61.4 kB\u001b[0m \u001b[31m1.3 MB/s\u001b[0m eta \u001b[36m0:00:00\u001b[0m\n",
            "\u001b[2K     \u001b[90m━━━━━━━━━━━━━━━━━━━━━━━━━━━━━━━━━━━━━━━━\u001b[0m \u001b[32m4.5/4.5 MB\u001b[0m \u001b[31m13.3 MB/s\u001b[0m eta \u001b[36m0:00:00\u001b[0m\n",
            "\u001b[?25h\u001b[31mERROR: pip's dependency resolver does not currently take into account all the packages that are installed. This behaviour is the source of the following dependency conflicts.\n",
            "imageio 2.31.6 requires pillow<10.1.0,>=8.3.2, but you have pillow 10.4.0 which is incompatible.\u001b[0m\u001b[31m\n",
            "\u001b[0m"
          ]
        }
      ]
    },
    {
      "cell_type": "markdown",
      "source": [
        "# Note: In order to access hosted version of Llama 3 model, kindly signup (you can signup with google) for together AI and obtain key: https://api.together.ai/settings/api-keys\n",
        "\n",
        "**Note: you get $5 credit to use for a free account**"
      ],
      "metadata": {
        "id": "bOiyJBgOb_zR"
      }
    },
    {
      "cell_type": "code",
      "source": [
        "import os\n",
        "os.environ['TOGETHER_API_KEY']=\"xxxxxxxxxxxxxxxxxxxxxx\""
      ],
      "metadata": {
        "id": "PdN0y-SscQyK"
      },
      "execution_count": 2,
      "outputs": []
    },
    {
      "cell_type": "code",
      "source": [
        "from together import Together\n",
        "from IPython.display import display,Markdown\n",
        "client = Together()"
      ],
      "metadata": {
        "id": "Cto9aTsGccRB"
      },
      "execution_count": 3,
      "outputs": []
    },
    {
      "cell_type": "code",
      "source": [
        "def generate_response(prompt,client=client,temperature=0):\n",
        "  messages = [{\"role\": \"system\", \"content\": \"You are an expert python programmer. you write clean and optimized code for provided tasks.\"},\n",
        "              {\"role\": \"user\", \"content\": prompt}]\n",
        "  response = client.chat.completions.create(\n",
        "      model=\"meta-llama/Meta-Llama-3-8B-Instruct-Lite\",\n",
        "      messages=messages,\n",
        "  )\n",
        "  return response.choices[0].message.content"
      ],
      "metadata": {
        "id": "iky6Gkr7dNya"
      },
      "execution_count": 25,
      "outputs": []
    },
    {
      "cell_type": "markdown",
      "metadata": {
        "id": "qjb3J7DzygTu"
      },
      "source": [
        "# Calculate Code Complexity"
      ]
    },
    {
      "cell_type": "code",
      "execution_count": 26,
      "metadata": {
        "colab": {
          "base_uri": "https://localhost:8080/"
        },
        "id": "IVXYhAUHyfUJ",
        "outputId": "3bc65b0e-c79d-4c8e-94f4-fdcc7486165a"
      },
      "outputs": [
        {
          "output_type": "stream",
          "name": "stdout",
          "text": [
            "The time complexity of the given code is O(c * v).\n",
            "\n",
            "Here's a breakdown of the time complexity:\n",
            "\n",
            "1. The outer loop runs `c` times.\n",
            "2. The inner loop runs `v` times.\n",
            "3. The operation inside the inner loop is a constant time operation (i.e., `counter += 1`).\n",
            "\n",
            "Since the inner loop runs `v` times for each iteration of the outer loop, the total number of operations is `c * v`.\n",
            "\n",
            "Therefore, the time complexity is O(c * v).\n"
          ]
        }
      ],
      "source": [
        "code = \"\"\"\n",
        "def myfun(c,v):\n",
        "  counter = 0\n",
        "  for i in range(c):\n",
        "    for j in range(v):\n",
        "      counter +=1\n",
        "  return counter\n",
        "\"\"\"\n",
        "\n",
        "prompt = f\"\"\"you will be provided with python code, and your task is to calculate its time complexity.\n",
        "         Code: {code}\"\"\"\n",
        "\n",
        "print(generate_response(prompt))"
      ]
    },
    {
      "cell_type": "markdown",
      "metadata": {
        "id": "LOKpnaYF2DE0"
      },
      "source": [
        "# Improve code efficiency"
      ]
    },
    {
      "cell_type": "code",
      "execution_count": 27,
      "metadata": {
        "colab": {
          "base_uri": "https://localhost:8080/"
        },
        "id": "2K0FKxFmz5ZN",
        "outputId": "7108efa3-da2d-40cd-8e1a-37e1f63bd968"
      },
      "outputs": [
        {
          "output_type": "stream",
          "name": "stdout",
          "text": [
            "Here are a few techniques to improve the efficiency of the given Python code:\n",
            "\n",
            "1. **Use a Set to store the numbers we have seen so far**: Instead of iterating over the list of numbers multiple times, we can use a set to store the numbers we have seen so far. This will allow us to check if a number is in the set in constant time, which will significantly improve the efficiency of the code.\n",
            "\n",
            "2. **Use a dictionary to store the numbers we have seen so far and their complements**: Instead of iterating over the list of numbers multiple times, we can use a dictionary to store the numbers we have seen so far and their complements. This will allow us to check if a number is in the dictionary in constant time, which will significantly improve the efficiency of the code.\n",
            "\n",
            "Here is the improved code:\n",
            "\n",
            "```\n",
            "from typing import List\n",
            "\n",
            "def has_sum_k(nums: List[int], k: int) -> bool:\n",
            "    '''\n",
            "    Returns True if there are two distinct elements in nums such that their sum\n",
            "    is equal to k, and otherwise returns False.\n",
            "    '''\n",
            "    seen = set()\n",
            "    for num in nums:\n",
            "        complement = k - num\n",
            "        if complement in seen:\n",
            "            return True\n",
            "        seen.add(num)\n",
            "    return False\n",
            "```\n",
            "\n",
            "This code has a time complexity of O(n), which is a significant improvement over the original code, which had a time complexity of O(n^2).\n"
          ]
        }
      ],
      "source": [
        "code = \"\"\"\n",
        "from typing import List\n",
        "def has_sum_k(nums: List[int], k: int) -> bool:\n",
        "    '''\n",
        "    Returns True if there are two distinct elements in nums such that their sum\n",
        "    is equal to k, and otherwise returns False.\n",
        "    '''\n",
        "    n = len(nums)\n",
        "    for i in range(n):\n",
        "        for j in range(i+1, n):\n",
        "            if nums[i] + nums[j] == k:\n",
        "                return True\n",
        "    return False\n",
        "\"\"\"\n",
        "\n",
        "\n",
        "prompt = f\"\"\"Provide techniques to improve efficiency for below python code:\n",
        "         Code: {code}\"\"\"\n",
        "\n",
        "print(generate_response(prompt))"
      ]
    },
    {
      "cell_type": "markdown",
      "metadata": {
        "id": "8LxdSdLf22pr"
      },
      "source": [
        "# Explain a piece of code"
      ]
    },
    {
      "cell_type": "code",
      "execution_count": 28,
      "metadata": {
        "colab": {
          "base_uri": "https://localhost:8080/"
        },
        "id": "jyGTdcws22FM",
        "outputId": "43079391-bd35-48cd-b347-1c4c51984f9c"
      },
      "outputs": [
        {
          "output_type": "stream",
          "name": "stdout",
          "text": [
            "This code is a function named `has_sum_k` that takes a list of integers `nums` and an integer `k` as input. It checks if there are two distinct elements in the list that add up to `k`. If such a pair is found, it returns `True`; otherwise, it returns `False`.\n",
            "\n",
            "In other words, it's a brute-force solution to the \"Two Sum\" problem, where it iterates over the list, checking every pair of elements to see if their sum equals `k`.\n"
          ]
        }
      ],
      "source": [
        "code = \"\"\"\n",
        "from typing import List\n",
        "def has_sum_k(nums: List[int], k: int) -> bool:\n",
        "    '''\n",
        "    Returns True if there are two distinct elements in nums such that their sum\n",
        "    is equal to k, and otherwise returns False.\n",
        "    '''\n",
        "    n = len(nums)\n",
        "    for i in range(n):\n",
        "        for j in range(i+1, n):\n",
        "            if nums[i] + nums[j] == k:\n",
        "                return True\n",
        "    return False\n",
        "\"\"\"\n",
        "\n",
        "\n",
        "prompt = f\"\"\"Explain below code in a concise way.\n",
        "         Code: {code}\"\"\"\n",
        "\n",
        "print(generate_response(prompt))"
      ]
    },
    {
      "cell_type": "markdown",
      "metadata": {
        "id": "14E54_2iM8U2"
      },
      "source": []
    },
    {
      "cell_type": "markdown",
      "metadata": {
        "id": "CC5fOCC239ct"
      },
      "source": [
        "# Code Generation with openAI"
      ]
    },
    {
      "cell_type": "code",
      "execution_count": 29,
      "metadata": {
        "id": "lYf7YK5iM8U2",
        "outputId": "a3a94b45-8e29-481c-b6b9-bd2f723f5f55",
        "colab": {
          "base_uri": "https://localhost:8080/"
        }
      },
      "outputs": [
        {
          "output_type": "stream",
          "name": "stdout",
          "text": [
            "Here is a Python function for binary search:\n",
            "```\n",
            "def binary_search(arr, target):\n",
            "    \"\"\"\n",
            "    Searches for the target element in the sorted array using binary search.\n",
            "\n",
            "    Args:\n",
            "        arr: A sorted list of elements\n",
            "        target: The element to search for\n",
            "\n",
            "    Returns:\n",
            "        The index of the target element if found, or -1 if not found\n",
            "    \"\"\"\n",
            "    low, high = 0, len(arr) - 1\n",
            "\n",
            "    while low <= high:\n",
            "        mid = (low + high) // 2\n",
            "        if arr[mid] == target:\n",
            "            return mid\n",
            "        elif arr[mid] < target:\n",
            "            low = mid + 1\n",
            "        else:\n",
            "            high = mid - 1\n",
            "\n",
            "    return -1  # not found\n",
            "```\n",
            "Here's an explanation of how the function works:\n",
            "\n",
            "1. We initialize the `low` variable to 0, which will be the index of the first element in the array, and the `high` variable to the length of the array minus 1, which will be the index of the last element in the array.\n",
            "2. We loop until `low` is greater than `high`.\n",
            "3. In each iteration, we calculate the midpoint of the range `low` to `high` using the formula `mid = (low + high) // 2`. This is the index of the middle element of the range.\n",
            "4. We compare the middle element `arr[mid]` to the `target` element. If they are equal, we return the index `mid`.\n",
            "5. If `arr[mid]` is less than `target`, we know that the `target` element must be in the second half of the range, so we set `low` to `mid + 1`.\n",
            "6. If `arr[mid]` is greater than `target`, we know that the `target` element must be in the first half of the range, so we set `high` to `mid - 1`.\n",
            "7. If the loop ends and `low` is greater than `high`, it means that the `target` element was not found in the array, so we return -1.\n",
            "\n",
            "Note that this function assumes that the input array is sorted in ascending order. If the array is not sorted, the function will not work correctly.\n",
            "\n",
            "You can test the function with a sample array, for example:\n",
            "```\n",
            "arr = [1, 2, 3, 4, 5, 6, 7, 8, 9, 10]\n",
            "index = binary_search(arr, 5)\n",
            "print(index)  # Output: 4\n",
            "```\n",
            "I hope this helps! Let me know if you have any questions.\n"
          ]
        }
      ],
      "source": [
        "\n",
        "prompt = \"\"\"write a function for binary search in python\"\"\"\n",
        "\n",
        "print(generate_response(prompt))"
      ]
    },
    {
      "cell_type": "markdown",
      "metadata": {
        "id": "2RAyyhrcM8U3"
      },
      "source": []
    },
    {
      "cell_type": "code",
      "execution_count": 29,
      "metadata": {
        "id": "fwi2-spdM8U3"
      },
      "outputs": [],
      "source": []
    },
    {
      "cell_type": "markdown",
      "metadata": {
        "id": "O2hRbfpzM8U3"
      },
      "source": [
        "## Create a single page website"
      ]
    },
    {
      "cell_type": "code",
      "execution_count": 30,
      "metadata": {
        "colab": {
          "base_uri": "https://localhost:8080/"
        },
        "id": "uFegvaqx2oga",
        "outputId": "98eb3108-2839-40bf-945a-a29b1bc4c258"
      },
      "outputs": [
        {
          "output_type": "stream",
          "name": "stdout",
          "text": [
            "Here is a single-page website that showcases some neat JavaScript features for drop-downs and displaying information:\n",
            "\n",
            "```\n",
            "<!DOCTYPE html>\n",
            "<html lang=\"en\">\n",
            "<head>\n",
            "    <meta charset=\"UTF-8\">\n",
            "    <meta name=\"viewport\" content=\"width=device-width, initial-scale=1.0\">\n",
            "    <title>JavaScript Features Demo</title>\n",
            "    <link rel=\"stylesheet\" href=\"styles.css\">\n",
            "</head>\n",
            "<body>\n",
            "    <header>\n",
            "        <nav>\n",
            "            <ul>\n",
            "                <li><a href=\"#home\">Home</a></li>\n",
            "                <li><a href=\"#features\">Features</a></li>\n",
            "                <li><a href=\"#contact\">Contact</a></li>\n",
            "            </ul>\n",
            "        </nav>\n",
            "    </header>\n",
            "    <main>\n",
            "        <section id=\"home\">\n",
            "            <h1>Welcome to our website!</h1>\n",
            "            <p>This is a demo of some neat JavaScript features.</p>\n",
            "            <button id=\"dropdown-btn\">Show dropdown</button>\n",
            "            <ul id=\"dropdown\" style=\"display: none;\">\n",
            "                <li><a href=\"#\">Feature 1</a></li>\n",
            "                <li><a href=\"#\">Feature 2</a></li>\n",
            "                <li><a href=\"#\">Feature 3</a></li>\n",
            "            </ul>\n",
            "        </section>\n",
            "        <section id=\"features\">\n",
            "            <h1>JavaScript Features</h1>\n",
            "            <h2>Dropdowns</h2>\n",
            "            <p>Click the button to show the dropdown menu.</p>\n",
            "            <script>\n",
            "                const dropdown = document.getElementById('dropdown');\n",
            "                const dropdownBtn = document.getElementById('dropdown-btn');\n",
            "                dropdownBtn.addEventListener('click', () => {\n",
            "                    dropdown.style.display = 'block';\n",
            "                });\n",
            "            </script>\n",
            "            <h2>Accordion</h2>\n",
            "            <details>\n",
            "                <summary>Click to expand</summary>\n",
            "                <p>This is some additional information.</p>\n",
            "            </details>\n",
            "            <h2>Drag and Drop</h2>\n",
            "            <div id=\"draggable\" draggable=\"true\">Drag me!</div>\n",
            "            <div id=\"droppable\" ondrop=\"handleDrop(event)\">\n",
            "                Drop here!\n",
            "            </div>\n",
            "            <script>\n",
            "                function handleDrop(event) {\n",
            "                    event.preventDefault();\n",
            "                    const data = event.dataTransfer.getData('text');\n",
            "                    console.log(`Dropped: ${data}`);\n",
            "                }\n",
            "            </script>\n",
            "        </section>\n",
            "        <section id=\"contact\">\n",
            "            <h1>Contact Us</h1>\n",
            "            <form>\n",
            "                <label for=\"name\">Name:</label>\n",
            "                <input type=\"text\" id=\"name\" name=\"name\"><br><br>\n",
            "                <label for=\"email\">Email:</label>\n",
            "                <input type=\"email\" id=\"email\" name=\"email\"><br><br>\n",
            "                <input type=\"submit\" value=\"Submit\">\n",
            "            </form>\n",
            "            <script>\n",
            "                const form = document.querySelector('form');\n",
            "                form.addEventListener('submit', (event) => {\n",
            "                    event.preventDefault();\n",
            "                    const name = document.getElementById('name').value;\n",
            "                    const email = document.getElementById('email').value;\n",
            "                    console.log(`Name: ${name}, Email: ${email}`);\n",
            "                });\n",
            "            </script>\n",
            "        </section>\n",
            "    </main>\n",
            "    <footer>\n",
            "        <p>&copy; 2023 JavaScript Features Demo</p>\n",
            "    </footer>\n",
            "    <script src=\"script.js\"></script>\n",
            "</body>\n",
            "</html>\n",
            "```\n",
            "\n",
            "```\n",
            "/* styles.css */\n",
            "body {\n",
            "    font-family: Arial, sans-serif;\n",
            "    margin: 0;\n",
            "    padding: 0;\n",
            "}\n",
            "\n",
            "header {\n",
            "    background-color: #333;\n",
            "    color: #fff;\n",
            "    padding: 1em;\n",
            "    text-align: center;\n",
            "}\n",
            "\n",
            "nav ul {\n",
            "    list-style: none;\n",
            "    margin: 0;\n",
            "    padding: 0;\n",
            "    display: flex;\n",
            "    justify-content: space-between;\n",
            "}\n",
            "\n",
            "nav li {\n",
            "    margin-right: 20px;\n",
            "}\n",
            "\n",
            "nav a {\n",
            "    color: #fff;\n",
            "    text-decoration: none;\n",
            "}\n",
            "\n",
            "nav a:hover {\n",
            "    color: #ccc;\n",
            "}\n",
            "\n",
            "main {\n",
            "    display: flex;\n",
            "    flex-direction: column;\n",
            "    align-items: center;\n",
            "    padding: 2em;\n",
            "}\n",
            "\n",
            "section {\n",
            "    background-color: #f7f7f7;\n",
            "    padding: 2em;\n",
            "    border: 1px solid #ddd;\n",
            "    border-radius: 10px;\n",
            "    box-shadow: 0 0 10px rgba(0, 0, 0, 0.1);\n",
            "    margin-bottom: 20px;\n",
            "}\n",
            "\n",
            "h1, h2 {\n",
            "    color: #333;\n",
            "}\n",
            "\n",
            "footer {\n",
            "    background-color: #333;\n",
            "    color: #fff;\n",
            "    padding: 1em;\n",
            "    text-align: center;\n",
            "    clear: both;\n",
            "}\n",
            "\n",
            "#draggable {\n",
            "    background-color: #f0f0f0;\n",
            "    padding: 1em;\n",
            "    border: 1px solid #ccc;\n",
            "    border-radius: 10px;\n",
            "    width: 200px;\n",
            "    height: 100px;\n",
            "    cursor: move;\n",
            "}\n",
            "\n",
            "#droppable {\n",
            "    background-color: #f0f0f0;\n",
            "    padding: 1em;\n",
            "    border: 1px solid #ccc;\n",
            "    border-radius: 10px;\n",
            "    width: 200px;\n",
            "    height: 100px;\n",
            "    padding: 1em;\n",
            "}\n",
            "```\n"
          ]
        }
      ],
      "source": [
        "\n",
        "\n",
        "prompt = \"\"\"Make a single page website that shows off different neat javascript features\n",
        " for drop downs and things to display information.\n",
        " The website should be an HTML file with embedded javascript and css.\n",
        "   In the output only provide code without description\"\"\"\n",
        "\n",
        "response = generate_response(prompt)\n",
        "print(response)"
      ]
    },
    {
      "cell_type": "code",
      "execution_count": 31,
      "metadata": {
        "colab": {
          "base_uri": "https://localhost:8080/",
          "height": 700,
          "resources": {
            "http://localhost:8080/styles.css": {
              "data": "CjwhRE9DVFlQRSBodG1sPgo8aHRtbCBsYW5nPWVuPgogIDxtZXRhIGNoYXJzZXQ9dXRmLTg+CiAgPG1ldGEgbmFtZT12aWV3cG9ydCBjb250ZW50PSJpbml0aWFsLXNjYWxlPTEsIG1pbmltdW0tc2NhbGU9MSwgd2lkdGg9ZGV2aWNlLXdpZHRoIj4KICA8dGl0bGU+RXJyb3IgNDA0IChOb3QgRm91bmQpISExPC90aXRsZT4KICA8c3R5bGU+CiAgICAqe21hcmdpbjowO3BhZGRpbmc6MH1odG1sLGNvZGV7Zm9udDoxNXB4LzIycHggYXJpYWwsc2Fucy1zZXJpZn1odG1se2JhY2tncm91bmQ6I2ZmZjtjb2xvcjojMjIyO3BhZGRpbmc6MTVweH1ib2R5e21hcmdpbjo3JSBhdXRvIDA7bWF4LXdpZHRoOjM5MHB4O21pbi1oZWlnaHQ6MTgwcHg7cGFkZGluZzozMHB4IDAgMTVweH0qID4gYm9keXtiYWNrZ3JvdW5kOnVybCgvL3d3dy5nb29nbGUuY29tL2ltYWdlcy9lcnJvcnMvcm9ib3QucG5nKSAxMDAlIDVweCBuby1yZXBlYXQ7cGFkZGluZy1yaWdodDoyMDVweH1we21hcmdpbjoxMXB4IDAgMjJweDtvdmVyZmxvdzpoaWRkZW59aW5ze2NvbG9yOiM3Nzc7dGV4dC1kZWNvcmF0aW9uOm5vbmV9YSBpbWd7Ym9yZGVyOjB9QG1lZGlhIHNjcmVlbiBhbmQgKG1heC13aWR0aDo3NzJweCl7Ym9keXtiYWNrZ3JvdW5kOm5vbmU7bWFyZ2luLXRvcDowO21heC13aWR0aDpub25lO3BhZGRpbmctcmlnaHQ6MH19I2xvZ297YmFja2dyb3VuZDp1cmwoLy93d3cuZ29vZ2xlLmNvbS9pbWFnZXMvbG9nb3MvZXJyb3JwYWdlL2Vycm9yX2xvZ28tMTUweDU0LnBuZykgbm8tcmVwZWF0O21hcmdpbi1sZWZ0Oi01cHh9QG1lZGlhIG9ubHkgc2NyZWVuIGFuZCAobWluLXJlc29sdXRpb246MTkyZHBpKXsjbG9nb3tiYWNrZ3JvdW5kOnVybCgvL3d3dy5nb29nbGUuY29tL2ltYWdlcy9sb2dvcy9lcnJvcnBhZ2UvZXJyb3JfbG9nby0xNTB4NTQtMngucG5nKSBuby1yZXBlYXQgMCUgMCUvMTAwJSAxMDAlOy1tb3otYm9yZGVyLWltYWdlOnVybCgvL3d3dy5nb29nbGUuY29tL2ltYWdlcy9sb2dvcy9lcnJvcnBhZ2UvZXJyb3JfbG9nby0xNTB4NTQtMngucG5nKSAwfX1AbWVkaWEgb25seSBzY3JlZW4gYW5kICgtd2Via2l0LW1pbi1kZXZpY2UtcGl4ZWwtcmF0aW86Mil7I2xvZ297YmFja2dyb3VuZDp1cmwoLy93d3cuZ29vZ2xlLmNvbS9pbWFnZXMvbG9nb3MvZXJyb3JwYWdlL2Vycm9yX2xvZ28tMTUweDU0LTJ4LnBuZykgbm8tcmVwZWF0Oy13ZWJraXQtYmFja2dyb3VuZC1zaXplOjEwMCUgMTAwJX19I2xvZ297ZGlzcGxheTppbmxpbmUtYmxvY2s7aGVpZ2h0OjU0cHg7d2lkdGg6MTUwcHh9CiAgPC9zdHlsZT4KICA8YSBocmVmPS8vd3d3Lmdvb2dsZS5jb20vPjxzcGFuIGlkPWxvZ28gYXJpYS1sYWJlbD1Hb29nbGU+PC9zcGFuPjwvYT4KICA8cD48Yj40MDQuPC9iPiA8aW5zPlRoYXTigJlzIGFuIGVycm9yLjwvaW5zPgogIDxwPiAgPGlucz5UaGF04oCZcyBhbGwgd2Uga25vdy48L2lucz4K",
              "ok": false,
              "headers": [
                [
                  "content-length",
                  "1449"
                ],
                [
                  "content-type",
                  "text/html; charset=utf-8"
                ]
              ],
              "status": 404,
              "status_text": ""
            },
            "http://localhost:8080/script.js": {
              "data": "CjwhRE9DVFlQRSBodG1sPgo8aHRtbCBsYW5nPWVuPgogIDxtZXRhIGNoYXJzZXQ9dXRmLTg+CiAgPG1ldGEgbmFtZT12aWV3cG9ydCBjb250ZW50PSJpbml0aWFsLXNjYWxlPTEsIG1pbmltdW0tc2NhbGU9MSwgd2lkdGg9ZGV2aWNlLXdpZHRoIj4KICA8dGl0bGU+RXJyb3IgNDA0IChOb3QgRm91bmQpISExPC90aXRsZT4KICA8c3R5bGU+CiAgICAqe21hcmdpbjowO3BhZGRpbmc6MH1odG1sLGNvZGV7Zm9udDoxNXB4LzIycHggYXJpYWwsc2Fucy1zZXJpZn1odG1se2JhY2tncm91bmQ6I2ZmZjtjb2xvcjojMjIyO3BhZGRpbmc6MTVweH1ib2R5e21hcmdpbjo3JSBhdXRvIDA7bWF4LXdpZHRoOjM5MHB4O21pbi1oZWlnaHQ6MTgwcHg7cGFkZGluZzozMHB4IDAgMTVweH0qID4gYm9keXtiYWNrZ3JvdW5kOnVybCgvL3d3dy5nb29nbGUuY29tL2ltYWdlcy9lcnJvcnMvcm9ib3QucG5nKSAxMDAlIDVweCBuby1yZXBlYXQ7cGFkZGluZy1yaWdodDoyMDVweH1we21hcmdpbjoxMXB4IDAgMjJweDtvdmVyZmxvdzpoaWRkZW59aW5ze2NvbG9yOiM3Nzc7dGV4dC1kZWNvcmF0aW9uOm5vbmV9YSBpbWd7Ym9yZGVyOjB9QG1lZGlhIHNjcmVlbiBhbmQgKG1heC13aWR0aDo3NzJweCl7Ym9keXtiYWNrZ3JvdW5kOm5vbmU7bWFyZ2luLXRvcDowO21heC13aWR0aDpub25lO3BhZGRpbmctcmlnaHQ6MH19I2xvZ297YmFja2dyb3VuZDp1cmwoLy93d3cuZ29vZ2xlLmNvbS9pbWFnZXMvbG9nb3MvZXJyb3JwYWdlL2Vycm9yX2xvZ28tMTUweDU0LnBuZykgbm8tcmVwZWF0O21hcmdpbi1sZWZ0Oi01cHh9QG1lZGlhIG9ubHkgc2NyZWVuIGFuZCAobWluLXJlc29sdXRpb246MTkyZHBpKXsjbG9nb3tiYWNrZ3JvdW5kOnVybCgvL3d3dy5nb29nbGUuY29tL2ltYWdlcy9sb2dvcy9lcnJvcnBhZ2UvZXJyb3JfbG9nby0xNTB4NTQtMngucG5nKSBuby1yZXBlYXQgMCUgMCUvMTAwJSAxMDAlOy1tb3otYm9yZGVyLWltYWdlOnVybCgvL3d3dy5nb29nbGUuY29tL2ltYWdlcy9sb2dvcy9lcnJvcnBhZ2UvZXJyb3JfbG9nby0xNTB4NTQtMngucG5nKSAwfX1AbWVkaWEgb25seSBzY3JlZW4gYW5kICgtd2Via2l0LW1pbi1kZXZpY2UtcGl4ZWwtcmF0aW86Mil7I2xvZ297YmFja2dyb3VuZDp1cmwoLy93d3cuZ29vZ2xlLmNvbS9pbWFnZXMvbG9nb3MvZXJyb3JwYWdlL2Vycm9yX2xvZ28tMTUweDU0LTJ4LnBuZykgbm8tcmVwZWF0Oy13ZWJraXQtYmFja2dyb3VuZC1zaXplOjEwMCUgMTAwJX19I2xvZ297ZGlzcGxheTppbmxpbmUtYmxvY2s7aGVpZ2h0OjU0cHg7d2lkdGg6MTUwcHh9CiAgPC9zdHlsZT4KICA8YSBocmVmPS8vd3d3Lmdvb2dsZS5jb20vPjxzcGFuIGlkPWxvZ28gYXJpYS1sYWJlbD1Hb29nbGU+PC9zcGFuPjwvYT4KICA8cD48Yj40MDQuPC9iPiA8aW5zPlRoYXTigJlzIGFuIGVycm9yLjwvaW5zPgogIDxwPiAgPGlucz5UaGF04oCZcyBhbGwgd2Uga25vdy48L2lucz4K",
              "ok": false,
              "headers": [
                [
                  "content-length",
                  "1449"
                ],
                [
                  "content-type",
                  "text/html; charset=utf-8"
                ]
              ],
              "status": 404,
              "status_text": ""
            }
          }
        },
        "id": "o_goKgWh4tuA",
        "outputId": "c378c155-1db4-42b1-e2fe-1942c4dc10d3"
      },
      "outputs": [
        {
          "output_type": "display_data",
          "data": {
            "text/plain": [
              "<IPython.core.display.HTML object>"
            ],
            "text/html": [
              "Here is a single-page website that showcases some neat JavaScript features for drop-downs and displaying information:\n",
              "\n",
              "```\n",
              "<!DOCTYPE html>\n",
              "<html lang=\"en\">\n",
              "<head>\n",
              "    <meta charset=\"UTF-8\">\n",
              "    <meta name=\"viewport\" content=\"width=device-width, initial-scale=1.0\">\n",
              "    <title>JavaScript Features Demo</title>\n",
              "    <link rel=\"stylesheet\" href=\"styles.css\">\n",
              "</head>\n",
              "<body>\n",
              "    <header>\n",
              "        <nav>\n",
              "            <ul>\n",
              "                <li><a href=\"#home\">Home</a></li>\n",
              "                <li><a href=\"#features\">Features</a></li>\n",
              "                <li><a href=\"#contact\">Contact</a></li>\n",
              "            </ul>\n",
              "        </nav>\n",
              "    </header>\n",
              "    <main>\n",
              "        <section id=\"home\">\n",
              "            <h1>Welcome to our website!</h1>\n",
              "            <p>This is a demo of some neat JavaScript features.</p>\n",
              "            <button id=\"dropdown-btn\">Show dropdown</button>\n",
              "            <ul id=\"dropdown\" style=\"display: none;\">\n",
              "                <li><a href=\"#\">Feature 1</a></li>\n",
              "                <li><a href=\"#\">Feature 2</a></li>\n",
              "                <li><a href=\"#\">Feature 3</a></li>\n",
              "            </ul>\n",
              "        </section>\n",
              "        <section id=\"features\">\n",
              "            <h1>JavaScript Features</h1>\n",
              "            <h2>Dropdowns</h2>\n",
              "            <p>Click the button to show the dropdown menu.</p>\n",
              "            <script>\n",
              "                const dropdown = document.getElementById('dropdown');\n",
              "                const dropdownBtn = document.getElementById('dropdown-btn');\n",
              "                dropdownBtn.addEventListener('click', () => {\n",
              "                    dropdown.style.display = 'block';\n",
              "                });\n",
              "            </script>\n",
              "            <h2>Accordion</h2>\n",
              "            <details>\n",
              "                <summary>Click to expand</summary>\n",
              "                <p>This is some additional information.</p>\n",
              "            </details>\n",
              "            <h2>Drag and Drop</h2>\n",
              "            <div id=\"draggable\" draggable=\"true\">Drag me!</div>\n",
              "            <div id=\"droppable\" ondrop=\"handleDrop(event)\">\n",
              "                Drop here!\n",
              "            </div>\n",
              "            <script>\n",
              "                function handleDrop(event) {\n",
              "                    event.preventDefault();\n",
              "                    const data = event.dataTransfer.getData('text');\n",
              "                    console.log(`Dropped: ${data}`);\n",
              "                }\n",
              "            </script>\n",
              "        </section>\n",
              "        <section id=\"contact\">\n",
              "            <h1>Contact Us</h1>\n",
              "            <form>\n",
              "                <label for=\"name\">Name:</label>\n",
              "                <input type=\"text\" id=\"name\" name=\"name\"><br><br>\n",
              "                <label for=\"email\">Email:</label>\n",
              "                <input type=\"email\" id=\"email\" name=\"email\"><br><br>\n",
              "                <input type=\"submit\" value=\"Submit\">\n",
              "            </form>\n",
              "            <script>\n",
              "                const form = document.querySelector('form');\n",
              "                form.addEventListener('submit', (event) => {\n",
              "                    event.preventDefault();\n",
              "                    const name = document.getElementById('name').value;\n",
              "                    const email = document.getElementById('email').value;\n",
              "                    console.log(`Name: ${name}, Email: ${email}`);\n",
              "                });\n",
              "            </script>\n",
              "        </section>\n",
              "    </main>\n",
              "    <footer>\n",
              "        <p>&copy; 2023 JavaScript Features Demo</p>\n",
              "    </footer>\n",
              "    <script src=\"script.js\"></script>\n",
              "</body>\n",
              "</html>\n",
              "```\n",
              "\n",
              "```\n",
              "/* styles.css */\n",
              "body {\n",
              "    font-family: Arial, sans-serif;\n",
              "    margin: 0;\n",
              "    padding: 0;\n",
              "}\n",
              "\n",
              "header {\n",
              "    background-color: #333;\n",
              "    color: #fff;\n",
              "    padding: 1em;\n",
              "    text-align: center;\n",
              "}\n",
              "\n",
              "nav ul {\n",
              "    list-style: none;\n",
              "    margin: 0;\n",
              "    padding: 0;\n",
              "    display: flex;\n",
              "    justify-content: space-between;\n",
              "}\n",
              "\n",
              "nav li {\n",
              "    margin-right: 20px;\n",
              "}\n",
              "\n",
              "nav a {\n",
              "    color: #fff;\n",
              "    text-decoration: none;\n",
              "}\n",
              "\n",
              "nav a:hover {\n",
              "    color: #ccc;\n",
              "}\n",
              "\n",
              "main {\n",
              "    display: flex;\n",
              "    flex-direction: column;\n",
              "    align-items: center;\n",
              "    padding: 2em;\n",
              "}\n",
              "\n",
              "section {\n",
              "    background-color: #f7f7f7;\n",
              "    padding: 2em;\n",
              "    border: 1px solid #ddd;\n",
              "    border-radius: 10px;\n",
              "    box-shadow: 0 0 10px rgba(0, 0, 0, 0.1);\n",
              "    margin-bottom: 20px;\n",
              "}\n",
              "\n",
              "h1, h2 {\n",
              "    color: #333;\n",
              "}\n",
              "\n",
              "footer {\n",
              "    background-color: #333;\n",
              "    color: #fff;\n",
              "    padding: 1em;\n",
              "    text-align: center;\n",
              "    clear: both;\n",
              "}\n",
              "\n",
              "#draggable {\n",
              "    background-color: #f0f0f0;\n",
              "    padding: 1em;\n",
              "    border: 1px solid #ccc;\n",
              "    border-radius: 10px;\n",
              "    width: 200px;\n",
              "    height: 100px;\n",
              "    cursor: move;\n",
              "}\n",
              "\n",
              "#droppable {\n",
              "    background-color: #f0f0f0;\n",
              "    padding: 1em;\n",
              "    border: 1px solid #ccc;\n",
              "    border-radius: 10px;\n",
              "    width: 200px;\n",
              "    height: 100px;\n",
              "    padding: 1em;\n",
              "}\n",
              "```"
            ]
          },
          "metadata": {}
        }
      ],
      "source": [
        "from IPython.display import display, HTML\n",
        "display(HTML(response))"
      ]
    },
    {
      "cell_type": "markdown",
      "metadata": {
        "id": "xDo2blvaM8U3"
      },
      "source": [
        "## Complete a partial code"
      ]
    },
    {
      "cell_type": "code",
      "execution_count": 32,
      "metadata": {
        "id": "zLWAp8syM8U4",
        "outputId": "08bd9a90-2322-44a2-babc-287a70b2c127",
        "colab": {
          "base_uri": "https://localhost:8080/"
        }
      },
      "outputs": [
        {
          "output_type": "stream",
          "name": "stdout",
          "text": [
            "Here is the complete function:\n",
            "\n",
            "```\n",
            "def average_of_even_numbers(numbers):\n",
            "    even_numbers = [num for num in numbers if num % 2 == 0]\n",
            "    if not even_numbers:\n",
            "        return 0\n",
            "    return sum(even_numbers) / len(even_numbers)\n",
            "```\n",
            "\n",
            "This function uses a list comprehension to create a list of only the even numbers in the input list. It then checks if this list is empty (i.e., if there were no even numbers in the input list). If the list is empty, it returns 0. Otherwise, it returns the average of the even numbers by dividing the sum of the even numbers by the number of even numbers.\n"
          ]
        }
      ],
      "source": [
        "prompt = \"\"\"\n",
        "complete the following partial function\n",
        "# calculate the average of the numbers in an array, but only if they're even\n",
        "def\n",
        "\"\"\"\n",
        "\n",
        "print(generate_response(prompt))"
      ]
    },
    {
      "cell_type": "markdown",
      "metadata": {
        "id": "u3f1TCax5QUR"
      },
      "source": [
        "# Generate SQL Queries from natural language"
      ]
    },
    {
      "cell_type": "code",
      "execution_count": 33,
      "metadata": {
        "colab": {
          "base_uri": "https://localhost:8080/"
        },
        "id": "X-ghdsec5Msf",
        "outputId": "81675eb7-860c-49d6-b94f-47499e12f023"
      },
      "outputs": [
        {
          "output_type": "stream",
          "name": "stdout",
          "text": [
            "SELECT AVG(od.Total) \n",
            "FROM Orders o \n",
            "JOIN OrderDetails od ON o.OrderID = od.OrderID \n",
            "WHERE o.OrderDate = '2023-09-20';\n"
          ]
        }
      ],
      "source": [
        "table_code = \"\"\"\n",
        "CREATE TABLE Orders (\n",
        "  OrderID int,\n",
        "  CustomerID int,\n",
        "  OrderDate datetime,\n",
        "  OrderTime varchar(8),\n",
        "  PRIMARY KEY (OrderID)\n",
        ");\n",
        "\n",
        "CREATE TABLE OrderDetails (\n",
        "  OrderDetailID int,\n",
        "  OrderID int,\n",
        "  ProductID int,\n",
        "  Quantity int,\n",
        "  PRIMARY KEY (OrderDetailID)\n",
        ");\n",
        "\n",
        "CREATE TABLE Products (\n",
        "  ProductID int,\n",
        "  ProductName varchar(50),\n",
        "  Category varchar(50),\n",
        "  UnitPrice decimal(10, 2),\n",
        "  Stock int,\n",
        "  PRIMARY KEY (ProductID)\n",
        ");\n",
        "\n",
        "CREATE TABLE Customers (\n",
        "  CustomerID int,\n",
        "  FirstName varchar(50),\n",
        "  LastName varchar(50),\n",
        "  Email varchar(100),\n",
        "  Phone varchar(20),\n",
        "  PRIMARY KEY (CustomerID)\n",
        ");\n",
        "\"\"\"\n",
        "\n",
        "prompt = f\"\"\" Given the following SQL tables, your job is to write queries given a user's input request.\n",
        "\n",
        "Tables: {table_code}\n",
        "\n",
        "Write a query which calculates the average of total order values for all orders on 20-09-2023\n",
        "Consider writing final query after inference of columns from multiple tables.\n",
        "Only provide the sql query, no other explanaiton or text\"\"\"\n",
        "\n",
        "print(generate_response(prompt))"
      ]
    },
    {
      "cell_type": "markdown",
      "metadata": {
        "id": "XlkePjd0L8N5"
      },
      "source": [
        "# Code from Description"
      ]
    },
    {
      "cell_type": "code",
      "execution_count": 34,
      "metadata": {
        "id": "XJZ2F754L5Ii",
        "outputId": "147223d1-6742-46cc-a158-c942928417c6",
        "colab": {
          "base_uri": "https://localhost:8080/"
        }
      },
      "outputs": [
        {
          "output_type": "stream",
          "name": "stdout",
          "text": [
            "Here is a Python function that does what you described:\n",
            "```python\n",
            "import cv2\n",
            "import numpy as np\n",
            "\n",
            "def crop_image_by_threshold(file_path, threshold=0.5):\n",
            "    # Load the image\n",
            "    img = cv2.imread(file_path)\n",
            "    img = cv2.cvtColor(img, cv2.COLOR_BGR2GRAY)\n",
            "\n",
            "    # Calculate the mean value of each row and column\n",
            "    row_means = np.mean(img, axis=1)\n",
            "    col_means = np.mean(img, axis=0)\n",
            "\n",
            "    # Identify the rows and columns to crop\n",
            "    rows_to_crop = np.where(row_means < threshold)[0]\n",
            "    cols_to_crop = np.where(col_means < threshold)[0]\n",
            "\n",
            "    # Crop the image\n",
            "    img = img[1:-1, 1:-1]  # Remove the top and bottom rows\n",
            "    img = img[:, 1:-1]  # Remove the left and right columns\n",
            "\n",
            "    return img\n",
            "```\n",
            "Here's an explanation of the code:\n",
            "\n",
            "1. We load the image using OpenCV's `imread` function, and convert it to grayscale using `cvtColor`.\n",
            "2. We calculate the mean value of each row and column using NumPy's `mean` function.\n",
            "3. We identify the rows and columns that have a mean value below the threshold using `np.where`.\n",
            "4. We crop the image by removing the top and bottom rows, and left and right columns, using slicing.\n",
            "\n",
            "Note that this function assumes that the image is a 2D array, and that the rows and columns are indexed starting from 0. If your image has a different indexing scheme, you may need to adjust the cropping logic accordingly.\n",
            "\n",
            "Also, this function returns a 2D array representing the cropped image. If you want to save the cropped image to a file, you can use OpenCV's `imwrite` function. For example:\n",
            "```python\n",
            "import cv2\n",
            "cv2.imwrite('cropped_image.png', img)\n",
            "```\n",
            "I hope this helps! Let me know if you have any questions.\n"
          ]
        }
      ],
      "source": [
        "\n",
        "prompt =\"\"\"\n",
        "Create a python function which takes as input a file path to an image, loads the image into memory as a numpy array,\n",
        "then crops the rows and columns around the perimeter if they are darker than a threshold value.\n",
        "Use the mean value of rows and columns to decide if they should be marked for deletion.\n",
        "\"\"\"\n",
        "\n",
        "print(generate_response(prompt))"
      ]
    },
    {
      "cell_type": "code",
      "execution_count": 35,
      "metadata": {
        "id": "zuZ6Pyoh5FcM",
        "outputId": "f6cb1764-7686-4756-df30-580bfdb8073e",
        "colab": {
          "base_uri": "https://localhost:8080/"
        }
      },
      "outputs": [
        {
          "output_type": "stream",
          "name": "stdout",
          "text": [
            "Here is the Python function code:\n",
            "\n",
            "```\n",
            "import cv2\n",
            "import numpy as np\n",
            "from skimage import exposure\n",
            "\n",
            "def crop_image(file_path, threshold=0.5):\n",
            "    # Load the image\n",
            "    img = cv2.imread(file_path)\n",
            "    \n",
            "    # Convert the image to grayscale\n",
            "    gray = cv2.cvtColor(img, cv2.COLOR_BGR2GRAY)\n",
            "    \n",
            "    # Apply thresholding to the grayscale image\n",
            "    _, thresh = cv2.threshold(gray, 0, 255, cv2.THRESH_BINARY_INV + cv2.THRESH_OTSU)\n",
            "    \n",
            "    # Calculate the mean value of rows and columns\n",
            "    row_mean = np.mean(thresh, axis=1)\n",
            "    col_mean = np.mean(thresh, axis=None)\n",
            "    \n",
            "    # Find the rows and columns to be cropped\n",
            "    rows_to_crop = np.where(row_mean < threshold)[0]\n",
            "    cols_to_crop = np.where(col_mean < threshold)[0]\n",
            "    \n",
            "    # Crop the image\n",
            "    img = img[rows_to_crop.max():, cols_to_crop.max():]\n",
            "    \n",
            "    return img\n",
            "```\n"
          ]
        }
      ],
      "source": [
        "\n",
        "prompt = \"\"\"\n",
        "Create a python function which takes as input a file path to an image, loads the image into memory as a numpy array,\n",
        "then crops the rows and columns around the perimeter if they are darker than a threshold value. Use the mean value of rows and columns to decide if they should be marked for deletion.\n",
        "Make sure the output is only the python function code in string format.\n",
        "\n",
        "\"\"\"\n",
        "\n",
        "print(generate_response(prompt))"
      ]
    },
    {
      "cell_type": "markdown",
      "metadata": {
        "id": "YX6jG58SNCt5"
      },
      "source": [
        "# Bug fixing in a given code"
      ]
    },
    {
      "cell_type": "code",
      "execution_count": 36,
      "metadata": {
        "colab": {
          "base_uri": "https://localhost:8080/"
        },
        "id": "_V-_QKEDM6b0",
        "outputId": "33fcce49-c8d4-4987-845e-877a9e9e41d9"
      },
      "outputs": [
        {
          "output_type": "stream",
          "name": "stdout",
          "text": [
            "I'd be happy to help!\n",
            "\n",
            "The bug in this code is in the following lines:\n",
            "\n",
            "1. The variable name is misspelled in the line `qus = \"WHat is 4+2+9*8 ?\"`. It should be `qus` instead of `qus`.\n",
            "2. The variable name is misspelled in the line `ans = input(qus)`. It should be `qus` instead of `qus`.\n",
            "3. The variable name is misspelled in the line `if ans = 12:`. It should be `==` instead of `=` for comparison.\n",
            "4. The variable name is misspelled in the line `print(none)`. It should be `print(\"None\")` instead of `none`.\n",
            "5. The variable name is misspelled in the line `print(\"hello)` . It should be `print(\"hello\")` instead of `hello`.\n",
            "\n",
            "Here is the corrected code:\n",
            "\n",
            "```\n",
            "qus = \"What is 4+2+9*8 ?\"\n",
            "ans = input(qus)\n",
            "if ans == \"12\":\n",
            "  print(\"None\")\n",
            "  print(\"hello\")\n",
            "else:\n",
            "  print(\"bye\")\n",
            "```\n",
            "\n",
            "Note: The correct output of the expression `4+2+9*8` is 43, not 12. So, the condition `if ans == \"12\"` will never be true.\n"
          ]
        }
      ],
      "source": [
        "\n",
        "prompt = \"\"\"\n",
        "you will be provided with a piece of python code, and your task is to find and fix the bug in it.\n",
        "\n",
        "Code:\n",
        "\n",
        "qus = \"WHat is 4+2+9*8 ?\"\n",
        "ans = input(qus)\n",
        "if ans = 12:\n",
        "  print(none)\n",
        "  print(\"hello)\n",
        "else:\n",
        "  print(\"bye\")\n",
        "\n",
        "\"\"\"\n",
        "\n",
        "print(generate_response(prompt))"
      ]
    },
    {
      "cell_type": "markdown",
      "metadata": {
        "id": "KuksuBWBM8U4"
      },
      "source": [
        "# Change Coding Language\n"
      ]
    },
    {
      "cell_type": "code",
      "execution_count": 37,
      "metadata": {
        "id": "rXNnJ1klNxbB",
        "outputId": "9411c939-61d9-4c31-8ae4-3bf58e51bfec",
        "colab": {
          "base_uri": "https://localhost:8080/"
        }
      },
      "outputs": [
        {
          "output_type": "stream",
          "name": "stdout",
          "text": [
            "Here is the equivalent C code for the given Python code:\n",
            "\n",
            "```c\n",
            "#include <stdio.h>\n",
            "\n",
            "void print_squares(int n) {\n",
            "    for(int i = 1; i <= n; i++) {\n",
            "        printf(\"%d\\n\", i * i);\n",
            "    }\n",
            "}\n",
            "\n",
            "int main() {\n",
            "    int n;\n",
            "    printf(\"Enter a number: \");\n",
            "    scanf(\"%d\", &n);\n",
            "    print_squares(n);\n",
            "    return 0;\n",
            "}\n",
            "```\n",
            "\n",
            "This C code does the same thing as the given Python code. It defines a function `print_squares` that takes an integer `n` as an argument and prints the squares of all numbers from 1 to `n`. The `main` function asks the user to enter a number, calls `print_squares` with that number, and then returns 0 to indicate successful execution.\n"
          ]
        }
      ],
      "source": [
        "# Changing coding language from python to c\n",
        "\n",
        "code = \"\"\"\n",
        "def print_squares(n):\n",
        "    for i in range(1, n+1):\n",
        "        print(i**2)\n",
        "        \"\"\"\n",
        "\n",
        "prompt = f\"\"\"you will be provided with a piece of python code, and your task is to convert it to c.\n",
        "\n",
        "Code:\n",
        "{code} \"\"\"\n",
        "\n",
        "print(generate_response(prompt))"
      ]
    },
    {
      "cell_type": "markdown",
      "metadata": {
        "id": "QcAFj6nqM8U5"
      },
      "source": [
        "# Write unit tests"
      ]
    },
    {
      "cell_type": "code",
      "execution_count": 38,
      "metadata": {
        "id": "pkJJQOgxM8U5",
        "outputId": "4f7a76c0-c844-4ba4-bd75-f047f4f5a4ac",
        "colab": {
          "base_uri": "https://localhost:8080/"
        }
      },
      "outputs": [
        {
          "output_type": "stream",
          "name": "stdout",
          "text": [
            "Here are three unit tests for the `binary_search` function:\n",
            "\n",
            "```\n",
            "import unittest\n",
            "from your_module import binary_search  # Replace 'your_module' with the actual module name\n",
            "\n",
            "class TestBinarySearch(unittest.TestCase):\n",
            "    def test_found_in_middle(self):\n",
            "        arr = [1, 2, 3, 4, 5, 6, 7, 8, 9, 10]\n",
            "        self.assertEqual(binary_search(arr, 5), 4)\n",
            "\n",
            "    def test_not_found(self):\n",
            "        arr = [1, 2, 3, 4, 5, 6, 7, 8, 9, 10]\n",
            "        self.assertEqual(binary_search(arr, 11), -1)\n",
            "\n",
            "    def test_edge_case(self):\n",
            "        arr = [1, 2, 3, 4, 5, 6, 7, 8, 9, 10]\n",
            "        self.assertEqual(binary_search(arr, 1), 0)\n",
            "\n",
            "if __name__ == '__main__':\n",
            "    unittest.main()\n",
            "```\n",
            "\n",
            "These tests cover the following scenarios:\n",
            "\n",
            "1. The target element is found in the middle of the array.\n",
            "2. The target element is not found in the array.\n",
            "3. The target element is at the start of the array (edge case).\n",
            "\n",
            "Note: Replace 'your_module' with the actual module name where the `binary_search` function is defined.\n"
          ]
        }
      ],
      "source": [
        "# write unit tests for a given code\n",
        "\n",
        "code = \"\"\"\n",
        "def binary_search(arr, target):\n",
        "    left, right = 0, len(arr) - 1\n",
        "    while left <= right:\n",
        "        mid = (left + right) // 2\n",
        "        if arr[mid] == target:\n",
        "            return mid\n",
        "        elif arr[mid] < target:\n",
        "            left = mid + 1\n",
        "        else:\n",
        "            right = mid - 1\n",
        "    return -1\n",
        "\"\"\"\n",
        "prompt = f\"\"\"\n",
        "Write 3 unit tests for the following function:\n",
        "{code}\n",
        "\"\"\"\n",
        "\n",
        "\n",
        "print(generate_response(prompt))"
      ]
    },
    {
      "cell_type": "markdown",
      "metadata": {
        "id": "ayKyGdjhM8U5"
      },
      "source": [
        "# Add comments and generate documentation"
      ]
    },
    {
      "cell_type": "code",
      "execution_count": 39,
      "metadata": {
        "id": "F22cGYrTM8U5",
        "outputId": "0959c302-6f23-4eec-874c-825caf194970",
        "colab": {
          "base_uri": "https://localhost:8080/"
        }
      },
      "outputs": [
        {
          "output_type": "stream",
          "name": "stdout",
          "text": [
            "Here is the function with added comments and documentation strings:\n",
            "\n",
            "```\n",
            "def permutations(lst):\n",
            "    \"\"\"\n",
            "    Generate all possible permutations of the input list.\n",
            "\n",
            "    Args:\n",
            "        lst (list): The input list to generate permutations for.\n",
            "\n",
            "    Returns:\n",
            "        list: A list of lists, where each inner list is a permutation of the input list.\n",
            "    \"\"\"\n",
            "    if len(lst) == 0:  # Base case: if the input list is empty, return an empty list\n",
            "        return []\n",
            "    elif len(lst) == 1:  # Base case: if the input list has only one element, return a list containing that element\n",
            "        return [[lst[0]]]\n",
            "    else:\n",
            "        result = []  # Initialize the result list\n",
            "        for i in range(len(lst)):  # Iterate over the input list\n",
            "            temp = lst[i]  # Save the current element\n",
            "            remaining = lst[:i] + lst[i+1:]  # Get the remaining elements\n",
            "            for p in permutations(remaining):  # Recursively generate permutations of the remaining elements\n",
            "                result.append([temp] + p)  # Combine the current element with each permutation of the remaining elements\n",
            "        return result  # Return the result\n",
            "```\n",
            "\n",
            "I added a docstring that describes the function's purpose, its input and output, and its behavior. I also added comments to explain the logic of the function, particularly the base cases and the recursive step.\n"
          ]
        }
      ],
      "source": [
        "# Add comments and generate documentation\n",
        "\n",
        "code = \"\"\"\n",
        "def permutations(lst):\n",
        "    if len(lst) == 0:\n",
        "        return []\n",
        "    elif len(lst) == 1:\n",
        "        return [lst]\n",
        "    else:\n",
        "        result = []\n",
        "        for i in range(len(lst)):\n",
        "            temp = lst[i]\n",
        "            remaining = lst[:i] + lst[i+1:]\n",
        "            for p in permutations(remaining):\n",
        "                result.append([temp] + p)\n",
        "        return result\n",
        "\n",
        "\"\"\"\n",
        "\n",
        "prompt = f\"\"\" Add comments and documentation strings to the following function:\n",
        "\n",
        "code:\n",
        "{code}\"\"\"\n",
        "\n",
        "\n",
        "print(generate_response(prompt))"
      ]
    },
    {
      "cell_type": "code",
      "execution_count": 39,
      "metadata": {
        "id": "ng93o9qAM8U5"
      },
      "outputs": [],
      "source": []
    },
    {
      "cell_type": "markdown",
      "metadata": {
        "id": "xL9DKWHkDpXR"
      },
      "source": [
        "# Zero Shot Prompting"
      ]
    },
    {
      "cell_type": "code",
      "execution_count": 40,
      "metadata": {
        "colab": {
          "base_uri": "https://localhost:8080/"
        },
        "id": "LILta5HxUa9C",
        "outputId": "271abb25-38fb-4ebe-ee62-d6b200d6b966"
      },
      "outputs": [
        {
          "output_type": "stream",
          "name": "stdout",
          "text": [
            "Here is a simple Python function to calculate the factorial of a given number:\n",
            "\n",
            "```Python\n",
            "def factorial(n):\n",
            "    if n == 0 or n == 1:\n",
            "        return 1\n",
            "    else:\n",
            "        return n * factorial(n-1)\n",
            "\n",
            "num = int(input(\"Enter a number: \"))\n",
            "print(\"Factorial of\", num, \"is\", factorial(num))\n",
            "```\n",
            "\n",
            "In this code, we define a function `factorial(n)` that takes an integer `n` as input. If `n` is 0 or 1, the function returns 1, since the factorial of 0 and 1 is 1. For any other value of `n`, the function returns the product of `n` and the factorial of `n-1`. This is the recursive formula for the factorial.\n",
            "\n",
            "We then ask the user to input a number, calculate its factorial using the `factorial()` function, and print the result.\n"
          ]
        }
      ],
      "source": [
        "prompt = \"\"\"\n",
        "Write a python code to generate factorial for any give input number, consider writing a python function.\n",
        "\n",
        "Calculate factorial(5)\n",
        "\"\"\"\n",
        "\n",
        "print(generate_response(prompt))"
      ]
    },
    {
      "cell_type": "markdown",
      "metadata": {
        "id": "-K2TgShvEhrG"
      },
      "source": [
        "# Few Shot Prompting"
      ]
    },
    {
      "cell_type": "code",
      "execution_count": 41,
      "metadata": {
        "colab": {
          "base_uri": "https://localhost:8080/"
        },
        "id": "f5nprs2BE6Z8",
        "outputId": "8b3a33e2-95b0-4de1-e206-edbb7a23836e"
      },
      "outputs": [
        {
          "output_type": "stream",
          "name": "stdout",
          "text": [
            "You can use the following code to find the students with GPAs between 3.5 and 3.8:\n",
            "\n",
            "```\n",
            "result = students_df[(students_df['GPA'] >= 3.5) & (students_df['GPA'] <= 3.8)]\n",
            "```\n",
            "\n",
            "This code uses boolean indexing to filter the dataframe and return the rows where the GPA is greater than or equal to 3.5 and less than or equal to 3.8.\n"
          ]
        }
      ],
      "source": [
        "prompt = \"\"\"\n",
        "\n",
        "Question:\n",
        "You are given a Pandas dataframe named students_df:\n",
        "- Columns: ['Name', 'Nationality', 'Overall Grade', 'Age', 'Major', 'GPA']\n",
        "User's Question: How to find the youngest student?\n",
        "\n",
        "Answer:\n",
        "result = students_df[students_df['Age'] == students_df['Age'].min()]\n",
        "\n",
        "Question:\n",
        "You are given a Pandas dataframe named students_df:\n",
        "- Columns: ['Name', 'Nationality', 'Overall Grade', 'Age', 'Major', 'GPA']\n",
        "User's Question: What are the number of unique majors?\n",
        "\n",
        "Answer:\n",
        "result = students_df['Major'].nunique()\n",
        "\n",
        "Question:\n",
        "You are given a Pandas dataframe named students_df:\n",
        "- Columns: ['Name', 'Nationality', 'Overall Grade', 'Age', 'Major', 'GPA']\n",
        "User's Question: How to find the students with GPAs between 3.5 and 3.8?\n",
        "\"\"\"\n",
        "\n",
        "print(generate_response(prompt))"
      ]
    },
    {
      "cell_type": "markdown",
      "metadata": {
        "id": "Dd7teyfvFdST"
      },
      "source": [
        "# Chain of Thought Prompting"
      ]
    },
    {
      "cell_type": "code",
      "execution_count": 44,
      "metadata": {
        "colab": {
          "base_uri": "https://localhost:8080/"
        },
        "id": "fhmYexg0KD6k",
        "outputId": "cc2fbc90-38b4-4f84-c5f8-35dedc101172"
      },
      "outputs": [
        {
          "output_type": "stream",
          "name": "stdout",
          "text": [
            "Here is a Python program that counts the occurrences of each word in a given text file and prints the result sorted by frequency:\n",
            "```\n",
            "import re\n",
            "from collections import Counter\n",
            "from operator import itemgetter\n",
            "\n",
            "def count_word_frequencies(file_path):\n",
            "    with open(file_path, 'r') as f:\n",
            "        text = f.read()\n",
            "        words = re.findall(r'\\b\\w+\\b', text.lower())\n",
            "        word_freq = Counter(words)\n",
            "        sorted_word_freq = sorted(word_freq.items(), key=itemgetter(1), reverse=True)\n",
            "        for word, freq in sorted_word_freq:\n",
            "            print(f\"{word}: {freq}\")\n",
            "\n",
            "# Example usage:\n",
            "count_word_frequencies('path/to/your/file.txt')\n",
            "```\n",
            "Here's an explanation of the code:\n",
            "\n",
            "1. We open the file using the `with` statement, which ensures the file is properly closed when we're done with it.\n",
            "2. We read the entire file into a string using the `read()` method.\n",
            "3. We use the `re` module's `findall()` function to extract all the words from the text, using a regular expression that matches one or more word characters (`\\w+`) surrounded by word boundaries (`\\b`). We convert the text to lowercase using the `lower()` method to ensure the word counting is case-insensitive.\n",
            "4. We use the `Counter` class from the `collections` module to count the occurrences of each word.\n",
            "5. We sort the word frequencies using the `sorted()` function, with the `key` argument set to `itemgetter(1)`, which tells `sorted()` to sort by the second element of each tuple (i.e., the frequency). We also set `reverse=True` to sort in descending order (i.e., most frequent words first).\n",
            "6. We iterate over the sorted word frequencies and print each word and its frequency using a formatted string.\n",
            "\n",
            "Note that this program assumes that the file contains only text and that the words are separated by spaces. If your file has a different format, you may need to modify the regular expression or the word extraction logic.\n"
          ]
        }
      ],
      "source": [
        "# without CoT\n",
        "prompt = \"\"\"\n",
        "Write a Python program that counts the occurrences of each word in a given text file\n",
        "and prints the result sorted by frequency.\n",
        "\n",
        "\"\"\"\n",
        "\n",
        "print(generate_response(prompt))"
      ]
    },
    {
      "cell_type": "code",
      "execution_count": 45,
      "metadata": {
        "colab": {
          "base_uri": "https://localhost:8080/"
        },
        "id": "n9WgYYSOJ8bf",
        "outputId": "7b796009-6f47-4fd6-a5aa-cdf572d36e94"
      },
      "outputs": [
        {
          "output_type": "stream",
          "name": "stdout",
          "text": [
            "Here is a Python program that counts the occurrences of each word in a given text file and prints the result sorted by frequency:\n",
            "```python\n",
            "import re\n",
            "from collections import Counter\n",
            "\n",
            "def count_word_frequencies(file_path):\n",
            "    # Step 1: Read the content of the text file\n",
            "    with open(file_path, 'r') as file:\n",
            "        content = file.read()\n",
            "\n",
            "    # Step 2: Split the content into words\n",
            "    words = re.findall(r'\\b\\w+\\b', content.lower())\n",
            "\n",
            "    # Step 3: Create a dictionary to store word frequencies\n",
            "    word_freq = {}\n",
            "\n",
            "    # Step 4: Iterate through the words and update their counts in the dictionary\n",
            "    for word in words:\n",
            "        if word not in word_freq:\n",
            "            word_freq[word] = 1\n",
            "        else:\n",
            "            word_freq[word] += 1\n",
            "\n",
            "    # Step 5: Sort the dictionary by frequency and print the results\n",
            "    sorted_word_freq = sorted(word_freq.items(), key=lambda x: x[1], reverse=True)\n",
            "    for word, freq in sorted_word_freq:\n",
            "        print(f\"{word}: {freq}\")\n",
            "\n",
            "# Example usage:\n",
            "file_path = 'path/to/your/file.txt'\n",
            "count_word_frequencies(file_path)\n",
            "```\n",
            "Here's a breakdown of each step:\n",
            "\n",
            "1. **Read the content of the text file**: We open the file in read mode (`'r'`) and read its content using the `read()` method.\n",
            "2. **Split the content into words**: We use the `re` module's `findall()` function to split the content into words. We use a regular expression `\\b\\w+\\b` to match word boundaries and capture one or more word characters (`\\w+`). We also convert the content to lowercase using the `lower()` method to ensure that word frequencies are case-insensitive.\n",
            "3. **Create a dictionary to store word frequencies**: We create an empty dictionary `word_freq` to store the word frequencies.\n",
            "4. **Iterate through the words and update their counts in the dictionary**: We iterate through the words and update their counts in the dictionary. If a word is not already in the dictionary, we add it with a count of 1. If it is already in the dictionary, we increment its count by 1.\n",
            "5. **Sort the dictionary by frequency and print the results**: We sort the dictionary by frequency using the `sorted()` function and the `key` argument set to a lambda function that returns the value (i.e., the frequency) of each item. We then print the sorted results using a `for` loop.\n",
            "\n",
            "Note that this program assumes that the text file contains only ASCII characters. If you need to handle non-ASCII characters, you may need to modify the regular expression used in step 2.\n"
          ]
        }
      ],
      "source": [
        "# with CoT\n",
        "prompt = \"\"\"\n",
        "Write a Python program that counts the occurrences of each word in a given text file and prints the result sorted by frequency.\n",
        "\n",
        "First, read the content of the text file.\n",
        "Next, split the content into words.\n",
        "Then, create a dictionary to store word frequencies.\n",
        "After that, iterate through the words and update their counts in the dictionary.\n",
        "Finally, sort the dictionary by frequency and print the results.\n",
        "Feel free to break down each step further if needed.\n",
        "\n",
        "\"\"\"\n",
        "\n",
        "print(generate_response(prompt))"
      ]
    },
    {
      "cell_type": "markdown",
      "metadata": {
        "id": "Is3KP_pzFmIX"
      },
      "source": [
        "## Thank You"
      ]
    },
    {
      "cell_type": "code",
      "execution_count": null,
      "metadata": {
        "id": "XgLxLVaGM8U5"
      },
      "outputs": [],
      "source": []
    }
  ],
  "metadata": {
    "colab": {
      "provenance": [],
      "gpuType": "T4",
      "include_colab_link": true
    },
    "kernelspec": {
      "display_name": "Python 3",
      "name": "python3"
    },
    "language_info": {
      "codemirror_mode": {
        "name": "ipython",
        "version": 3
      },
      "file_extension": ".py",
      "mimetype": "text/x-python",
      "name": "python",
      "nbconvert_exporter": "python",
      "pygments_lexer": "ipython3",
      "version": "3.10.9"
    },
    "accelerator": "GPU"
  },
  "nbformat": 4,
  "nbformat_minor": 0
}
